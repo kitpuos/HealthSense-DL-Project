{
 "cells": [
  {
   "cell_type": "code",
   "execution_count": 8,
   "metadata": {},
   "outputs": [],
   "source": [
    "import numpy as np\n",
    "import pandas as pd\n",
    "import tensorflow as tf\n",
    "from tensorflow.keras.models import Sequential, Model\n",
    "from tensorflow.keras.layers import (\n",
    "    Input, Embedding, LSTM, Dense, Dropout, LayerNormalization, Multiply, Reshape, Concatenate, Layer)\n",
    "from tensorflow.keras.preprocessing.text import Tokenizer\n",
    "from tensorflow.keras.preprocessing.sequence import pad_sequences\n",
    "from tensorflow.keras.callbacks import EarlyStopping\n",
    "from tensorflow.keras.utils import to_categorical\n",
    "from tensorflow.keras.initializers import RandomNormal, Orthogonal, Zeros\n",
    "from sklearn.preprocessing import LabelEncoder\n",
    "from sklearn.model_selection import train_test_split\n",
    "from sklearn.metrics import roc_curve, auc\n",
    "import matplotlib.pyplot as plt\n",
    "from itertools import cycle\n",
    "import random\n",
    "import ast"
   ]
  },
  {
   "cell_type": "code",
   "execution_count": 9,
   "metadata": {},
   "outputs": [],
   "source": [
    "df1=pd.read_csv('symtoms_df.csv')\n",
    "df2=pd.read_csv('Symptom-severity.csv')"
   ]
  },
  {
   "cell_type": "code",
   "execution_count": 10,
   "metadata": {},
   "outputs": [
    {
     "data": {
      "text/html": [
       "<div>\n",
       "<style scoped>\n",
       "    .dataframe tbody tr th:only-of-type {\n",
       "        vertical-align: middle;\n",
       "    }\n",
       "\n",
       "    .dataframe tbody tr th {\n",
       "        vertical-align: top;\n",
       "    }\n",
       "\n",
       "    .dataframe thead th {\n",
       "        text-align: right;\n",
       "    }\n",
       "</style>\n",
       "<table border=\"1\" class=\"dataframe\">\n",
       "  <thead>\n",
       "    <tr style=\"text-align: right;\">\n",
       "      <th></th>\n",
       "      <th>Unnamed: 0</th>\n",
       "      <th>Disease</th>\n",
       "      <th>Symptom_1</th>\n",
       "      <th>Symptom_2</th>\n",
       "      <th>Symptom_3</th>\n",
       "      <th>Symptom_4</th>\n",
       "    </tr>\n",
       "  </thead>\n",
       "  <tbody>\n",
       "    <tr>\n",
       "      <th>0</th>\n",
       "      <td>0</td>\n",
       "      <td>Fungal infection</td>\n",
       "      <td>itching</td>\n",
       "      <td>skin_rash</td>\n",
       "      <td>nodal_skin_eruptions</td>\n",
       "      <td>dischromic _patches</td>\n",
       "    </tr>\n",
       "    <tr>\n",
       "      <th>1</th>\n",
       "      <td>1</td>\n",
       "      <td>Fungal infection</td>\n",
       "      <td>skin_rash</td>\n",
       "      <td>nodal_skin_eruptions</td>\n",
       "      <td>dischromic _patches</td>\n",
       "      <td>NaN</td>\n",
       "    </tr>\n",
       "    <tr>\n",
       "      <th>2</th>\n",
       "      <td>2</td>\n",
       "      <td>Fungal infection</td>\n",
       "      <td>itching</td>\n",
       "      <td>nodal_skin_eruptions</td>\n",
       "      <td>dischromic _patches</td>\n",
       "      <td>NaN</td>\n",
       "    </tr>\n",
       "    <tr>\n",
       "      <th>3</th>\n",
       "      <td>3</td>\n",
       "      <td>Fungal infection</td>\n",
       "      <td>itching</td>\n",
       "      <td>skin_rash</td>\n",
       "      <td>dischromic _patches</td>\n",
       "      <td>NaN</td>\n",
       "    </tr>\n",
       "    <tr>\n",
       "      <th>4</th>\n",
       "      <td>4</td>\n",
       "      <td>Fungal infection</td>\n",
       "      <td>itching</td>\n",
       "      <td>skin_rash</td>\n",
       "      <td>nodal_skin_eruptions</td>\n",
       "      <td>NaN</td>\n",
       "    </tr>\n",
       "  </tbody>\n",
       "</table>\n",
       "</div>"
      ],
      "text/plain": [
       "   Unnamed: 0           Disease   Symptom_1              Symptom_2  \\\n",
       "0           0  Fungal infection     itching              skin_rash   \n",
       "1           1  Fungal infection   skin_rash   nodal_skin_eruptions   \n",
       "2           2  Fungal infection     itching   nodal_skin_eruptions   \n",
       "3           3  Fungal infection     itching              skin_rash   \n",
       "4           4  Fungal infection     itching              skin_rash   \n",
       "\n",
       "               Symptom_3             Symptom_4  \n",
       "0   nodal_skin_eruptions   dischromic _patches  \n",
       "1    dischromic _patches                   NaN  \n",
       "2    dischromic _patches                   NaN  \n",
       "3    dischromic _patches                   NaN  \n",
       "4   nodal_skin_eruptions                   NaN  "
      ]
     },
     "execution_count": 10,
     "metadata": {},
     "output_type": "execute_result"
    }
   ],
   "source": [
    "df1.head()"
   ]
  },
  {
   "cell_type": "code",
   "execution_count": 11,
   "metadata": {},
   "outputs": [
    {
     "data": {
      "text/html": [
       "<div>\n",
       "<style scoped>\n",
       "    .dataframe tbody tr th:only-of-type {\n",
       "        vertical-align: middle;\n",
       "    }\n",
       "\n",
       "    .dataframe tbody tr th {\n",
       "        vertical-align: top;\n",
       "    }\n",
       "\n",
       "    .dataframe thead th {\n",
       "        text-align: right;\n",
       "    }\n",
       "</style>\n",
       "<table border=\"1\" class=\"dataframe\">\n",
       "  <thead>\n",
       "    <tr style=\"text-align: right;\">\n",
       "      <th></th>\n",
       "      <th>Symptom</th>\n",
       "      <th>weight</th>\n",
       "    </tr>\n",
       "  </thead>\n",
       "  <tbody>\n",
       "    <tr>\n",
       "      <th>0</th>\n",
       "      <td>itching</td>\n",
       "      <td>1</td>\n",
       "    </tr>\n",
       "    <tr>\n",
       "      <th>1</th>\n",
       "      <td>skin_rash</td>\n",
       "      <td>3</td>\n",
       "    </tr>\n",
       "    <tr>\n",
       "      <th>2</th>\n",
       "      <td>nodal_skin_eruptions</td>\n",
       "      <td>4</td>\n",
       "    </tr>\n",
       "    <tr>\n",
       "      <th>3</th>\n",
       "      <td>continuous_sneezing</td>\n",
       "      <td>4</td>\n",
       "    </tr>\n",
       "    <tr>\n",
       "      <th>4</th>\n",
       "      <td>shivering</td>\n",
       "      <td>5</td>\n",
       "    </tr>\n",
       "  </tbody>\n",
       "</table>\n",
       "</div>"
      ],
      "text/plain": [
       "                Symptom  weight\n",
       "0               itching       1\n",
       "1             skin_rash       3\n",
       "2  nodal_skin_eruptions       4\n",
       "3   continuous_sneezing       4\n",
       "4             shivering       5"
      ]
     },
     "execution_count": 11,
     "metadata": {},
     "output_type": "execute_result"
    }
   ],
   "source": [
    "df2.head()"
   ]
  },
  {
   "cell_type": "code",
   "execution_count": 12,
   "metadata": {},
   "outputs": [
    {
     "name": "stdout",
     "output_type": "stream",
     "text": [
      "|     | Symptom                        |   weight |\n",
      "|----:|:-------------------------------|---------:|\n",
      "|   0 | itching                        |        1 |\n",
      "|   1 | skin_rash                      |        3 |\n",
      "|   2 | nodal_skin_eruptions           |        4 |\n",
      "|   3 | continuous_sneezing            |        4 |\n",
      "|   4 | shivering                      |        5 |\n",
      "|   5 | chills                         |        3 |\n",
      "|   6 | joint_pain                     |        3 |\n",
      "|   7 | stomach_pain                   |        5 |\n",
      "|   8 | acidity                        |        3 |\n",
      "|   9 | ulcers_on_tongue               |        4 |\n",
      "|  10 | muscle_wasting                 |        3 |\n",
      "|  11 | vomiting                       |        5 |\n",
      "|  12 | burning_micturition            |        6 |\n",
      "|  13 | spotting_urination             |        6 |\n",
      "|  14 | fatigue                        |        4 |\n",
      "|  15 | weight_gain                    |        3 |\n",
      "|  16 | anxiety                        |        4 |\n",
      "|  17 | cold_hands_and_feets           |        5 |\n",
      "|  18 | mood_swings                    |        3 |\n",
      "|  19 | weight_loss                    |        3 |\n",
      "|  20 | restlessness                   |        5 |\n",
      "|  21 | lethargy                       |        2 |\n",
      "|  22 | patches_in_throat              |        6 |\n",
      "|  23 | irregular_sugar_level          |        5 |\n",
      "|  24 | cough                          |        4 |\n",
      "|  25 | high_fever                     |        7 |\n",
      "|  26 | sunken_eyes                    |        3 |\n",
      "|  27 | breathlessness                 |        4 |\n",
      "|  28 | sweating                       |        3 |\n",
      "|  29 | dehydration                    |        4 |\n",
      "|  30 | indigestion                    |        5 |\n",
      "|  31 | headache                       |        3 |\n",
      "|  32 | yellowish_skin                 |        3 |\n",
      "|  33 | dark_urine                     |        4 |\n",
      "|  34 | nausea                         |        5 |\n",
      "|  35 | loss_of_appetite               |        4 |\n",
      "|  36 | pain_behind_the_eyes           |        4 |\n",
      "|  37 | back_pain                      |        3 |\n",
      "|  38 | constipation                   |        4 |\n",
      "|  39 | abdominal_pain                 |        4 |\n",
      "|  40 | diarrhoea                      |        6 |\n",
      "|  41 | mild_fever                     |        5 |\n",
      "|  42 | yellow_urine                   |        4 |\n",
      "|  43 | yellowing_of_eyes              |        4 |\n",
      "|  44 | acute_liver_failure            |        6 |\n",
      "|  45 | fluid_overload                 |        6 |\n",
      "|  46 | swelling_of_stomach            |        7 |\n",
      "|  47 | swelled_lymph_nodes            |        6 |\n",
      "|  48 | malaise                        |        6 |\n",
      "|  49 | blurred_and_distorted_vision   |        5 |\n",
      "|  50 | phlegm                         |        5 |\n",
      "|  51 | throat_irritation              |        4 |\n",
      "|  52 | redness_of_eyes                |        5 |\n",
      "|  53 | sinus_pressure                 |        4 |\n",
      "|  54 | runny_nose                     |        5 |\n",
      "|  55 | congestion                     |        5 |\n",
      "|  56 | chest_pain                     |        7 |\n",
      "|  57 | weakness_in_limbs              |        7 |\n",
      "|  58 | fast_heart_rate                |        5 |\n",
      "|  59 | pain_during_bowel_movements    |        5 |\n",
      "|  60 | pain_in_anal_region            |        6 |\n",
      "|  61 | bloody_stool                   |        5 |\n",
      "|  62 | irritation_in_anus             |        6 |\n",
      "|  63 | neck_pain                      |        5 |\n",
      "|  64 | dizziness                      |        4 |\n",
      "|  65 | cramps                         |        4 |\n",
      "|  66 | bruising                       |        4 |\n",
      "|  67 | obesity                        |        4 |\n",
      "|  68 | swollen_legs                   |        5 |\n",
      "|  69 | swollen_blood_vessels          |        5 |\n",
      "|  70 | puffy_face_and_eyes            |        5 |\n",
      "|  71 | enlarged_thyroid               |        6 |\n",
      "|  72 | brittle_nails                  |        5 |\n",
      "|  73 | swollen_extremeties            |        5 |\n",
      "|  74 | excessive_hunger               |        4 |\n",
      "|  75 | extra_marital_contacts         |        5 |\n",
      "|  76 | drying_and_tingling_lips       |        4 |\n",
      "|  77 | slurred_speech                 |        4 |\n",
      "|  78 | knee_pain                      |        3 |\n",
      "|  79 | hip_joint_pain                 |        2 |\n",
      "|  80 | muscle_weakness                |        2 |\n",
      "|  81 | stiff_neck                     |        4 |\n",
      "|  82 | swelling_joints                |        5 |\n",
      "|  83 | movement_stiffness             |        5 |\n",
      "|  84 | spinning_movements             |        6 |\n",
      "|  85 | loss_of_balance                |        4 |\n",
      "|  86 | unsteadiness                   |        4 |\n",
      "|  87 | weakness_of_one_body_side      |        4 |\n",
      "|  88 | loss_of_smell                  |        3 |\n",
      "|  89 | bladder_discomfort             |        4 |\n",
      "|  90 | foul_smell_ofurine             |        5 |\n",
      "|  91 | continuous_feel_of_urine       |        6 |\n",
      "|  92 | passage_of_gases               |        5 |\n",
      "|  93 | internal_itching               |        4 |\n",
      "|  94 | toxic_look_(typhos)            |        5 |\n",
      "|  95 | depression                     |        3 |\n",
      "|  96 | irritability                   |        2 |\n",
      "|  97 | muscle_pain                    |        2 |\n",
      "|  98 | altered_sensorium              |        2 |\n",
      "|  99 | red_spots_over_body            |        3 |\n",
      "| 100 | belly_pain                     |        4 |\n",
      "| 101 | abnormal_menstruation          |        6 |\n",
      "| 102 | dischromic_patches             |        6 |\n",
      "| 103 | watering_from_eyes             |        4 |\n",
      "| 104 | increased_appetite             |        5 |\n",
      "| 105 | polyuria                       |        4 |\n",
      "| 106 | family_history                 |        5 |\n",
      "| 107 | mucoid_sputum                  |        4 |\n",
      "| 108 | rusty_sputum                   |        4 |\n",
      "| 109 | lack_of_concentration          |        3 |\n",
      "| 110 | visual_disturbances            |        3 |\n",
      "| 111 | receiving_blood_transfusion    |        5 |\n",
      "| 112 | receiving_unsterile_injections |        2 |\n",
      "| 113 | coma                           |        7 |\n",
      "| 114 | stomach_bleeding               |        6 |\n",
      "| 115 | distention_of_abdomen          |        4 |\n",
      "| 116 | history_of_alcohol_consumption |        5 |\n",
      "| 117 | fluid_overload                 |        4 |\n",
      "| 118 | blood_in_sputum                |        5 |\n",
      "| 119 | prominent_veins_on_calf        |        6 |\n",
      "| 120 | palpitations                   |        4 |\n",
      "| 121 | painful_walking                |        2 |\n",
      "| 122 | pus_filled_pimples             |        2 |\n",
      "| 123 | blackheads                     |        2 |\n",
      "| 124 | scurring                       |        2 |\n",
      "| 125 | skin_peeling                   |        3 |\n",
      "| 126 | silver_like_dusting            |        2 |\n",
      "| 127 | small_dents_in_nails           |        2 |\n",
      "| 128 | inflammatory_nails             |        2 |\n",
      "| 129 | blister                        |        4 |\n",
      "| 130 | red_sore_around_nose           |        2 |\n",
      "| 131 | yellow_crust_ooze              |        3 |\n",
      "| 132 | prognosis                      |        5 |\n"
     ]
    }
   ],
   "source": [
    "print(df2.to_markdown())"
   ]
  },
  {
   "cell_type": "code",
   "execution_count": 13,
   "metadata": {},
   "outputs": [
    {
     "name": "stderr",
     "output_type": "stream",
     "text": [
      "/tmp/ipykernel_79284/1593813174.py:1: FutureWarning: A value is trying to be set on a copy of a DataFrame or Series through chained assignment using an inplace method.\n",
      "The behavior will change in pandas 3.0. This inplace method will never work because the intermediate object on which we are setting values always behaves as a copy.\n",
      "\n",
      "For example, when doing 'df[col].method(value, inplace=True)', try using 'df.method({col: value}, inplace=True)' or df[col] = df[col].method(value) instead, to perform the operation inplace on the original object.\n",
      "\n",
      "\n",
      "  df1['Symptom_4'].fillna('',inplace=True)\n"
     ]
    }
   ],
   "source": [
    "df1['Symptom_4'].fillna('',inplace=True)"
   ]
  },
  {
   "cell_type": "code",
   "execution_count": 14,
   "metadata": {},
   "outputs": [],
   "source": [
    "df1['Symptoms']=df1['Symptom_1']+','+df1['Symptom_2']+','+df1['Symptom_3']+','+df1['Symptom_4']"
   ]
  },
  {
   "cell_type": "code",
   "execution_count": 15,
   "metadata": {},
   "outputs": [],
   "source": [
    "df1=df1[['Symptoms','Disease']]"
   ]
  },
  {
   "cell_type": "code",
   "execution_count": 16,
   "metadata": {},
   "outputs": [],
   "source": [
    "df1['Symptoms']=df1['Symptoms'].str.replace('_',' ')"
   ]
  },
  {
   "cell_type": "code",
   "execution_count": 17,
   "metadata": {},
   "outputs": [
    {
     "data": {
      "text/html": [
       "<div>\n",
       "<style scoped>\n",
       "    .dataframe tbody tr th:only-of-type {\n",
       "        vertical-align: middle;\n",
       "    }\n",
       "\n",
       "    .dataframe tbody tr th {\n",
       "        vertical-align: top;\n",
       "    }\n",
       "\n",
       "    .dataframe thead th {\n",
       "        text-align: right;\n",
       "    }\n",
       "</style>\n",
       "<table border=\"1\" class=\"dataframe\">\n",
       "  <thead>\n",
       "    <tr style=\"text-align: right;\">\n",
       "      <th></th>\n",
       "      <th>Symptoms</th>\n",
       "      <th>Disease</th>\n",
       "    </tr>\n",
       "  </thead>\n",
       "  <tbody>\n",
       "    <tr>\n",
       "      <th>4915</th>\n",
       "      <td>vomiting, headache, nausea, spinning movements</td>\n",
       "      <td>(vertigo) Paroymsal  Positional Vertigo</td>\n",
       "    </tr>\n",
       "    <tr>\n",
       "      <th>4916</th>\n",
       "      <td>skin rash, pus filled pimples, blackheads, sc...</td>\n",
       "      <td>Acne</td>\n",
       "    </tr>\n",
       "    <tr>\n",
       "      <th>4917</th>\n",
       "      <td>burning micturition, bladder discomfort, foul...</td>\n",
       "      <td>Urinary tract infection</td>\n",
       "    </tr>\n",
       "    <tr>\n",
       "      <th>4918</th>\n",
       "      <td>skin rash, joint pain, skin peeling, silver l...</td>\n",
       "      <td>Psoriasis</td>\n",
       "    </tr>\n",
       "    <tr>\n",
       "      <th>4919</th>\n",
       "      <td>skin rash, high fever, blister, red sore arou...</td>\n",
       "      <td>Impetigo</td>\n",
       "    </tr>\n",
       "  </tbody>\n",
       "</table>\n",
       "</div>"
      ],
      "text/plain": [
       "                                               Symptoms  \\\n",
       "4915     vomiting, headache, nausea, spinning movements   \n",
       "4916   skin rash, pus filled pimples, blackheads, sc...   \n",
       "4917   burning micturition, bladder discomfort, foul...   \n",
       "4918   skin rash, joint pain, skin peeling, silver l...   \n",
       "4919   skin rash, high fever, blister, red sore arou...   \n",
       "\n",
       "                                      Disease  \n",
       "4915  (vertigo) Paroymsal  Positional Vertigo  \n",
       "4916                                     Acne  \n",
       "4917                  Urinary tract infection  \n",
       "4918                                Psoriasis  \n",
       "4919                                 Impetigo  "
      ]
     },
     "execution_count": 17,
     "metadata": {},
     "output_type": "execute_result"
    }
   ],
   "source": [
    "df1.tail()"
   ]
  },
  {
   "cell_type": "code",
   "execution_count": 18,
   "metadata": {},
   "outputs": [
    {
     "data": {
      "text/html": [
       "<div>\n",
       "<style scoped>\n",
       "    .dataframe tbody tr th:only-of-type {\n",
       "        vertical-align: middle;\n",
       "    }\n",
       "\n",
       "    .dataframe tbody tr th {\n",
       "        vertical-align: top;\n",
       "    }\n",
       "\n",
       "    .dataframe thead th {\n",
       "        text-align: right;\n",
       "    }\n",
       "</style>\n",
       "<table border=\"1\" class=\"dataframe\">\n",
       "  <thead>\n",
       "    <tr style=\"text-align: right;\">\n",
       "      <th></th>\n",
       "      <th>Symptom</th>\n",
       "      <th>weight</th>\n",
       "    </tr>\n",
       "  </thead>\n",
       "  <tbody>\n",
       "    <tr>\n",
       "      <th>128</th>\n",
       "      <td>inflammatory_nails</td>\n",
       "      <td>2</td>\n",
       "    </tr>\n",
       "    <tr>\n",
       "      <th>129</th>\n",
       "      <td>blister</td>\n",
       "      <td>4</td>\n",
       "    </tr>\n",
       "    <tr>\n",
       "      <th>130</th>\n",
       "      <td>red_sore_around_nose</td>\n",
       "      <td>2</td>\n",
       "    </tr>\n",
       "    <tr>\n",
       "      <th>131</th>\n",
       "      <td>yellow_crust_ooze</td>\n",
       "      <td>3</td>\n",
       "    </tr>\n",
       "    <tr>\n",
       "      <th>132</th>\n",
       "      <td>prognosis</td>\n",
       "      <td>5</td>\n",
       "    </tr>\n",
       "  </tbody>\n",
       "</table>\n",
       "</div>"
      ],
      "text/plain": [
       "                  Symptom  weight\n",
       "128    inflammatory_nails       2\n",
       "129               blister       4\n",
       "130  red_sore_around_nose       2\n",
       "131     yellow_crust_ooze       3\n",
       "132             prognosis       5"
      ]
     },
     "execution_count": 18,
     "metadata": {},
     "output_type": "execute_result"
    }
   ],
   "source": [
    "df2.tail()"
   ]
  },
  {
   "cell_type": "code",
   "execution_count": 19,
   "metadata": {},
   "outputs": [],
   "source": [
    "# Convert df2 into a dictionary: symptom -> weight\n",
    "severity_dict = dict(zip(df2['Symptom'], df2['weight']))"
   ]
  },
  {
   "cell_type": "code",
   "execution_count": 20,
   "metadata": {},
   "outputs": [
    {
     "data": {
      "text/plain": [
       "{1, 2, 3, 4, 5, 6, 7}"
      ]
     },
     "execution_count": 20,
     "metadata": {},
     "output_type": "execute_result"
    }
   ],
   "source": [
    "# just want to check unique weights\n",
    "set(severity_dict.values())"
   ]
  },
  {
   "cell_type": "code",
   "execution_count": 21,
   "metadata": {},
   "outputs": [],
   "source": [
    "# --------------------------------------\n",
    "# 3. Preprocess Symptoms from df1\n",
    "# --------------------------------------\n",
    "def preprocess_symptoms(symptom_str):\n",
    "    \"\"\"\n",
    "    Converts comma-separated symptoms into a list of standardized tokens.\n",
    "    1) Lowercase\n",
    "    2) Trim spaces\n",
    "    3) Replace inner spaces with underscores\n",
    "    \"\"\"\n",
    "    # Split on commas\n",
    "    symptoms = symptom_str.lower().split(',')\n",
    "    # Clean each symptom token\n",
    "    symptoms = [s.strip().replace(' ', '_') for s in symptoms]\n",
    "    return symptoms"
   ]
  },
  {
   "cell_type": "code",
   "execution_count": 22,
   "metadata": {},
   "outputs": [],
   "source": [
    "# Create a new column in df1 with the list of symptoms\n",
    "\n",
    "df1['Symptom_list'] = df1['Symptoms'].apply(preprocess_symptoms)"
   ]
  },
  {
   "cell_type": "code",
   "execution_count": 23,
   "metadata": {},
   "outputs": [
    {
     "data": {
      "text/html": [
       "<div>\n",
       "<style scoped>\n",
       "    .dataframe tbody tr th:only-of-type {\n",
       "        vertical-align: middle;\n",
       "    }\n",
       "\n",
       "    .dataframe tbody tr th {\n",
       "        vertical-align: top;\n",
       "    }\n",
       "\n",
       "    .dataframe thead th {\n",
       "        text-align: right;\n",
       "    }\n",
       "</style>\n",
       "<table border=\"1\" class=\"dataframe\">\n",
       "  <thead>\n",
       "    <tr style=\"text-align: right;\">\n",
       "      <th></th>\n",
       "      <th>Symptoms</th>\n",
       "      <th>Disease</th>\n",
       "      <th>Symptom_list</th>\n",
       "    </tr>\n",
       "  </thead>\n",
       "  <tbody>\n",
       "    <tr>\n",
       "      <th>0</th>\n",
       "      <td>itching, skin rash, nodal skin eruptions, disc...</td>\n",
       "      <td>Fungal infection</td>\n",
       "      <td>[itching, skin_rash, nodal_skin_eruptions, dis...</td>\n",
       "    </tr>\n",
       "    <tr>\n",
       "      <th>1</th>\n",
       "      <td>skin rash, nodal skin eruptions, dischromic  ...</td>\n",
       "      <td>Fungal infection</td>\n",
       "      <td>[skin_rash, nodal_skin_eruptions, dischromic__...</td>\n",
       "    </tr>\n",
       "    <tr>\n",
       "      <th>2</th>\n",
       "      <td>itching, nodal skin eruptions, dischromic  pat...</td>\n",
       "      <td>Fungal infection</td>\n",
       "      <td>[itching, nodal_skin_eruptions, dischromic__pa...</td>\n",
       "    </tr>\n",
       "    <tr>\n",
       "      <th>3</th>\n",
       "      <td>itching, skin rash, dischromic  patches,</td>\n",
       "      <td>Fungal infection</td>\n",
       "      <td>[itching, skin_rash, dischromic__patches, ]</td>\n",
       "    </tr>\n",
       "    <tr>\n",
       "      <th>4</th>\n",
       "      <td>itching, skin rash, nodal skin eruptions,</td>\n",
       "      <td>Fungal infection</td>\n",
       "      <td>[itching, skin_rash, nodal_skin_eruptions, ]</td>\n",
       "    </tr>\n",
       "  </tbody>\n",
       "</table>\n",
       "</div>"
      ],
      "text/plain": [
       "                                            Symptoms           Disease  \\\n",
       "0  itching, skin rash, nodal skin eruptions, disc...  Fungal infection   \n",
       "1   skin rash, nodal skin eruptions, dischromic  ...  Fungal infection   \n",
       "2  itching, nodal skin eruptions, dischromic  pat...  Fungal infection   \n",
       "3           itching, skin rash, dischromic  patches,  Fungal infection   \n",
       "4          itching, skin rash, nodal skin eruptions,  Fungal infection   \n",
       "\n",
       "                                        Symptom_list  \n",
       "0  [itching, skin_rash, nodal_skin_eruptions, dis...  \n",
       "1  [skin_rash, nodal_skin_eruptions, dischromic__...  \n",
       "2  [itching, nodal_skin_eruptions, dischromic__pa...  \n",
       "3        [itching, skin_rash, dischromic__patches, ]  \n",
       "4       [itching, skin_rash, nodal_skin_eruptions, ]  "
      ]
     },
     "execution_count": 23,
     "metadata": {},
     "output_type": "execute_result"
    }
   ],
   "source": [
    "df1.head()"
   ]
  },
  {
   "cell_type": "code",
   "execution_count": 24,
   "metadata": {},
   "outputs": [],
   "source": [
    "# ----------------------------------------------------\n",
    "# 4. Tokenize the Symptoms (build a vocabulary)\n",
    "# ----------------------------------------------------\n",
    "# Flatten all symptom tokens to build a complete vocabulary\n",
    "\n",
    "all_symptoms = [sym for row in df1['Symptom_list'] for sym in row]\n",
    "\n",
    "tokenizer = Tokenizer(lower=True, filters='')  # no filters, since we've already cleaned\n",
    "tokenizer.fit_on_texts(all_symptoms)\n"
   ]
  },
  {
   "cell_type": "code",
   "execution_count": 25,
   "metadata": {},
   "outputs": [],
   "source": [
    "# ----------------------------------------------------\n",
    "# 5. Convert Each List of Symptoms into Integer Sequences\n",
    "# ----------------------------------------------------\n",
    "# For each row, convert the list of symptom tokens into their integer IDs\n",
    "\n",
    "df1['Symptom_seq'] = df1['Symptom_list'].apply(lambda x: tokenizer.texts_to_sequences(x))\n",
    "\n",
    "# Flatten the list-of-lists for each row\n",
    "\n",
    "df1['Symptom_seq'] = df1['Symptom_seq'].apply(lambda seq: [item for sublist in seq for item in sublist])\n"
   ]
  },
  {
   "cell_type": "code",
   "execution_count": 26,
   "metadata": {},
   "outputs": [
    {
     "data": {
      "text/html": [
       "<div>\n",
       "<style scoped>\n",
       "    .dataframe tbody tr th:only-of-type {\n",
       "        vertical-align: middle;\n",
       "    }\n",
       "\n",
       "    .dataframe tbody tr th {\n",
       "        vertical-align: top;\n",
       "    }\n",
       "\n",
       "    .dataframe thead th {\n",
       "        text-align: right;\n",
       "    }\n",
       "</style>\n",
       "<table border=\"1\" class=\"dataframe\">\n",
       "  <thead>\n",
       "    <tr style=\"text-align: right;\">\n",
       "      <th></th>\n",
       "      <th>Symptoms</th>\n",
       "      <th>Disease</th>\n",
       "      <th>Symptom_list</th>\n",
       "      <th>Symptom_seq</th>\n",
       "    </tr>\n",
       "  </thead>\n",
       "  <tbody>\n",
       "    <tr>\n",
       "      <th>0</th>\n",
       "      <td>itching, skin rash, nodal skin eruptions, disc...</td>\n",
       "      <td>Fungal infection</td>\n",
       "      <td>[itching, skin_rash, nodal_skin_eruptions, dis...</td>\n",
       "      <td>[8, 5, 56, 57]</td>\n",
       "    </tr>\n",
       "    <tr>\n",
       "      <th>1</th>\n",
       "      <td>skin rash, nodal skin eruptions, dischromic  ...</td>\n",
       "      <td>Fungal infection</td>\n",
       "      <td>[skin_rash, nodal_skin_eruptions, dischromic__...</td>\n",
       "      <td>[5, 56, 57]</td>\n",
       "    </tr>\n",
       "    <tr>\n",
       "      <th>2</th>\n",
       "      <td>itching, nodal skin eruptions, dischromic  pat...</td>\n",
       "      <td>Fungal infection</td>\n",
       "      <td>[itching, nodal_skin_eruptions, dischromic__pa...</td>\n",
       "      <td>[8, 56, 57]</td>\n",
       "    </tr>\n",
       "    <tr>\n",
       "      <th>3</th>\n",
       "      <td>itching, skin rash, dischromic  patches,</td>\n",
       "      <td>Fungal infection</td>\n",
       "      <td>[itching, skin_rash, dischromic__patches, ]</td>\n",
       "      <td>[8, 5, 57]</td>\n",
       "    </tr>\n",
       "    <tr>\n",
       "      <th>4</th>\n",
       "      <td>itching, skin rash, nodal skin eruptions,</td>\n",
       "      <td>Fungal infection</td>\n",
       "      <td>[itching, skin_rash, nodal_skin_eruptions, ]</td>\n",
       "      <td>[8, 5, 56]</td>\n",
       "    </tr>\n",
       "  </tbody>\n",
       "</table>\n",
       "</div>"
      ],
      "text/plain": [
       "                                            Symptoms           Disease  \\\n",
       "0  itching, skin rash, nodal skin eruptions, disc...  Fungal infection   \n",
       "1   skin rash, nodal skin eruptions, dischromic  ...  Fungal infection   \n",
       "2  itching, nodal skin eruptions, dischromic  pat...  Fungal infection   \n",
       "3           itching, skin rash, dischromic  patches,  Fungal infection   \n",
       "4          itching, skin rash, nodal skin eruptions,  Fungal infection   \n",
       "\n",
       "                                        Symptom_list     Symptom_seq  \n",
       "0  [itching, skin_rash, nodal_skin_eruptions, dis...  [8, 5, 56, 57]  \n",
       "1  [skin_rash, nodal_skin_eruptions, dischromic__...     [5, 56, 57]  \n",
       "2  [itching, nodal_skin_eruptions, dischromic__pa...     [8, 56, 57]  \n",
       "3        [itching, skin_rash, dischromic__patches, ]      [8, 5, 57]  \n",
       "4       [itching, skin_rash, nodal_skin_eruptions, ]      [8, 5, 56]  "
      ]
     },
     "execution_count": 26,
     "metadata": {},
     "output_type": "execute_result"
    }
   ],
   "source": [
    "df1.head()"
   ]
  },
  {
   "cell_type": "code",
   "execution_count": 27,
   "metadata": {},
   "outputs": [],
   "source": [
    "def shuffle_symptoms(row):\n",
    "    \"\"\"\n",
    "    Takes a row with 'Symptoms', 'Symptom_list', and 'Symptom_seq'.\n",
    "    Shuffles the symptom tokens (and corresponding token IDs) so that\n",
    "    the mapping between symptom and token ID remains consistent.\n",
    "    Returns new columns with the shuffled data.\n",
    "    \"\"\"\n",
    "    # Pair each token with its corresponding token ID\n",
    "    pairs = list(zip(row[\"Symptom_list\"], row[\"Symptom_seq\"]))\n",
    "\n",
    "    # Shuffle the (token, token_id) pairs in place\n",
    "    random.shuffle(pairs)\n",
    "\n",
    "    # Unzip the shuffled pairs back into separate lists\n",
    "    shuffled_symptoms, shuffled_seq = zip(*pairs)\n",
    "\n",
    "    # Reconstruct the \"Symptoms\" string by joining shuffled tokens with commas\n",
    "    shuffled_symptoms_str = \", \".join(shuffled_symptoms)\n",
    "\n",
    "    # Return a Series containing the shuffled versions\n",
    "    return pd.Series({\n",
    "        \"Shuffled_Symptoms\": shuffled_symptoms_str,\n",
    "        \"Shuffled_Symptom_list\": list(shuffled_symptoms),\n",
    "        \"Shuffled_Symptom_seq\": list(shuffled_seq)\n",
    "    })"
   ]
  },
  {
   "cell_type": "code",
   "execution_count": 28,
   "metadata": {},
   "outputs": [],
   "source": [
    "# Apply the shuffle function row-by-row\n",
    "df1[[\"Shuffled_Symptoms\", \"Shuffled_Symptom_list\", \"Shuffled_Symptom_seq\"]] = df1.apply(shuffle_symptoms, axis=1)\n",
    "\n",
    "# Display the Disease column as well as original and shuffled columns\n",
    "df1[[\n",
    "    \"Symptoms\", \"Disease\", \"Symptom_list\", \"Symptom_seq\",\n",
    "    \"Shuffled_Symptoms\", \"Shuffled_Symptom_list\", \"Shuffled_Symptom_seq\"\n",
    "]].head()\n",
    "df1=df1.drop(columns={'Symptoms','Symptom_list','Symptom_seq'})"
   ]
  },
  {
   "cell_type": "code",
   "execution_count": 29,
   "metadata": {},
   "outputs": [
    {
     "data": {
      "text/html": [
       "<div>\n",
       "<style scoped>\n",
       "    .dataframe tbody tr th:only-of-type {\n",
       "        vertical-align: middle;\n",
       "    }\n",
       "\n",
       "    .dataframe tbody tr th {\n",
       "        vertical-align: top;\n",
       "    }\n",
       "\n",
       "    .dataframe thead th {\n",
       "        text-align: right;\n",
       "    }\n",
       "</style>\n",
       "<table border=\"1\" class=\"dataframe\">\n",
       "  <thead>\n",
       "    <tr style=\"text-align: right;\">\n",
       "      <th></th>\n",
       "      <th>Disease</th>\n",
       "      <th>Shuffled_Symptoms</th>\n",
       "      <th>Shuffled_Symptom_list</th>\n",
       "      <th>Shuffled_Symptom_seq</th>\n",
       "    </tr>\n",
       "  </thead>\n",
       "  <tbody>\n",
       "    <tr>\n",
       "      <th>0</th>\n",
       "      <td>Fungal infection</td>\n",
       "      <td>dischromic__patches, skin_rash, nodal_skin_eru...</td>\n",
       "      <td>[dischromic__patches, skin_rash, nodal_skin_er...</td>\n",
       "      <td>[57, 5, 56, 8]</td>\n",
       "    </tr>\n",
       "    <tr>\n",
       "      <th>1</th>\n",
       "      <td>Fungal infection</td>\n",
       "      <td>dischromic__patches, skin_rash, nodal_skin_eru...</td>\n",
       "      <td>[dischromic__patches, skin_rash, nodal_skin_er...</td>\n",
       "      <td>[57, 5, 56]</td>\n",
       "    </tr>\n",
       "    <tr>\n",
       "      <th>2</th>\n",
       "      <td>Fungal infection</td>\n",
       "      <td>dischromic__patches, itching, nodal_skin_erupt...</td>\n",
       "      <td>[dischromic__patches, itching, nodal_skin_erup...</td>\n",
       "      <td>[57, 8, 56]</td>\n",
       "    </tr>\n",
       "    <tr>\n",
       "      <th>3</th>\n",
       "      <td>Fungal infection</td>\n",
       "      <td>skin_rash, itching, dischromic__patches</td>\n",
       "      <td>[skin_rash, itching, dischromic__patches]</td>\n",
       "      <td>[5, 8, 57]</td>\n",
       "    </tr>\n",
       "    <tr>\n",
       "      <th>4</th>\n",
       "      <td>Fungal infection</td>\n",
       "      <td>nodal_skin_eruptions, skin_rash, itching</td>\n",
       "      <td>[nodal_skin_eruptions, skin_rash, itching]</td>\n",
       "      <td>[56, 5, 8]</td>\n",
       "    </tr>\n",
       "  </tbody>\n",
       "</table>\n",
       "</div>"
      ],
      "text/plain": [
       "            Disease                                  Shuffled_Symptoms  \\\n",
       "0  Fungal infection  dischromic__patches, skin_rash, nodal_skin_eru...   \n",
       "1  Fungal infection  dischromic__patches, skin_rash, nodal_skin_eru...   \n",
       "2  Fungal infection  dischromic__patches, itching, nodal_skin_erupt...   \n",
       "3  Fungal infection            skin_rash, itching, dischromic__patches   \n",
       "4  Fungal infection           nodal_skin_eruptions, skin_rash, itching   \n",
       "\n",
       "                               Shuffled_Symptom_list Shuffled_Symptom_seq  \n",
       "0  [dischromic__patches, skin_rash, nodal_skin_er...       [57, 5, 56, 8]  \n",
       "1  [dischromic__patches, skin_rash, nodal_skin_er...          [57, 5, 56]  \n",
       "2  [dischromic__patches, itching, nodal_skin_erup...          [57, 8, 56]  \n",
       "3          [skin_rash, itching, dischromic__patches]           [5, 8, 57]  \n",
       "4         [nodal_skin_eruptions, skin_rash, itching]           [56, 5, 8]  "
      ]
     },
     "execution_count": 29,
     "metadata": {},
     "output_type": "execute_result"
    }
   ],
   "source": [
    "df1.head()"
   ]
  },
  {
   "cell_type": "code",
   "execution_count": 30,
   "metadata": {},
   "outputs": [],
   "source": [
    "# ----------------------------------------------------\n",
    "# 6. Pad the Sequences\n",
    "# ----------------------------------------------------\n",
    "max_length = max(df1['Shuffled_Symptom_seq'].apply(len))  # maximum length of any symptom sequence\n",
    "X = pad_sequences(df1['Shuffled_Symptom_seq'], maxlen=max_length, padding='post', dtype='int32')\n",
    "\n"
   ]
  },
  {
   "cell_type": "code",
   "execution_count": 31,
   "metadata": {},
   "outputs": [],
   "source": [
    "# ----------------------------------------------------\n",
    "# 7. Encode Disease Labels\n",
    "# ----------------------------------------------------\n",
    "le = LabelEncoder()\n",
    "\n",
    "y = le.fit_transform(df1['Disease'])\n",
    "\n",
    "# Convert to one-hot vectors for a multi-class classification problem\n",
    "\n",
    "y = tf.keras.utils.to_categorical(y)\n"
   ]
  },
  {
   "cell_type": "code",
   "execution_count": 32,
   "metadata": {},
   "outputs": [
    {
     "data": {
      "text/plain": [
       "array([0., 0., 0., 0., 0., 0., 0., 0., 0., 0., 0., 0., 0., 0., 0., 1., 0.,\n",
       "       0., 0., 0., 0., 0., 0., 0., 0., 0., 0., 0., 0., 0., 0., 0., 0., 0.,\n",
       "       0., 0., 0., 0., 0., 0., 0.])"
      ]
     },
     "execution_count": 32,
     "metadata": {},
     "output_type": "execute_result"
    }
   ],
   "source": [
    "y[0]"
   ]
  },
  {
   "cell_type": "code",
   "execution_count": 33,
   "metadata": {},
   "outputs": [
    {
     "name": "stderr",
     "output_type": "stream",
     "text": [
      "I0000 00:00:1744450872.862871   79284 gpu_device.cc:2019] Created device /job:localhost/replica:0/task:0/device:GPU:0 with 2560 MB memory:  -> device: 0, name: NVIDIA GeForce GTX 1650 Ti, pci bus id: 0000:01:00.0, compute capability: 7.5\n"
     ]
    }
   ],
   "source": [
    "# ----------------------------------------------------\n",
    "# 8. Build a Weight Vector for the Vocabulary\n",
    "# ----------------------------------------------------\n",
    "# We'll create a numpy array, where each index corresponds to a token ID.\n",
    "# If a token is found in severity_dict, use that weight; otherwise, default to 1.\n",
    "vocab_size = len(tokenizer.word_index)\n",
    "embedding_scaling = np.ones(vocab_size + 1, dtype=np.float32)  # +1 because index 0 is reserved (padding)\n",
    "\n",
    "for token, index in tokenizer.word_index.items():\n",
    "    if token in severity_dict:\n",
    "        embedding_scaling[index] = severity_dict[token]\n",
    "    else:\n",
    "        embedding_scaling[index] = 1.0  # default severity weight\n",
    "\n",
    "# Convert it to a constant tensor so it won't be trainable\n",
    "embedding_scaling = tf.constant(embedding_scaling)\n"
   ]
  },
  {
   "cell_type": "code",
   "execution_count": 34,
   "metadata": {},
   "outputs": [
    {
     "data": {
      "text/plain": [
       "array([1., 2., 3., 4., 5., 6., 7.], dtype=float32)"
      ]
     },
     "execution_count": 34,
     "metadata": {},
     "output_type": "execute_result"
    }
   ],
   "source": [
    "np.unique(embedding_scaling)"
   ]
  },
  {
   "cell_type": "code",
   "execution_count": 35,
   "metadata": {},
   "outputs": [
    {
     "data": {
      "text/html": [
       "<div>\n",
       "<style scoped>\n",
       "    .dataframe tbody tr th:only-of-type {\n",
       "        vertical-align: middle;\n",
       "    }\n",
       "\n",
       "    .dataframe tbody tr th {\n",
       "        vertical-align: top;\n",
       "    }\n",
       "\n",
       "    .dataframe thead th {\n",
       "        text-align: right;\n",
       "    }\n",
       "</style>\n",
       "<table border=\"1\" class=\"dataframe\">\n",
       "  <thead>\n",
       "    <tr style=\"text-align: right;\">\n",
       "      <th></th>\n",
       "      <th>Shuffled_Symptoms</th>\n",
       "      <th>Shuffled_Symptom_list</th>\n",
       "      <th>Shuffled_Symptom_seq</th>\n",
       "      <th>Disease</th>\n",
       "    </tr>\n",
       "  </thead>\n",
       "  <tbody>\n",
       "    <tr>\n",
       "      <th>0</th>\n",
       "      <td>dischromic__patches, skin_rash, nodal_skin_eru...</td>\n",
       "      <td>[dischromic__patches, skin_rash, nodal_skin_er...</td>\n",
       "      <td>[57, 5, 56, 8]</td>\n",
       "      <td>Fungal infection</td>\n",
       "    </tr>\n",
       "    <tr>\n",
       "      <th>1</th>\n",
       "      <td>dischromic__patches, skin_rash, nodal_skin_eru...</td>\n",
       "      <td>[dischromic__patches, skin_rash, nodal_skin_er...</td>\n",
       "      <td>[57, 5, 56]</td>\n",
       "      <td>Fungal infection</td>\n",
       "    </tr>\n",
       "    <tr>\n",
       "      <th>2</th>\n",
       "      <td>dischromic__patches, itching, nodal_skin_erupt...</td>\n",
       "      <td>[dischromic__patches, itching, nodal_skin_erup...</td>\n",
       "      <td>[57, 8, 56]</td>\n",
       "      <td>Fungal infection</td>\n",
       "    </tr>\n",
       "    <tr>\n",
       "      <th>3</th>\n",
       "      <td>skin_rash, itching, dischromic__patches</td>\n",
       "      <td>[skin_rash, itching, dischromic__patches]</td>\n",
       "      <td>[5, 8, 57]</td>\n",
       "      <td>Fungal infection</td>\n",
       "    </tr>\n",
       "    <tr>\n",
       "      <th>4</th>\n",
       "      <td>nodal_skin_eruptions, skin_rash, itching</td>\n",
       "      <td>[nodal_skin_eruptions, skin_rash, itching]</td>\n",
       "      <td>[56, 5, 8]</td>\n",
       "      <td>Fungal infection</td>\n",
       "    </tr>\n",
       "  </tbody>\n",
       "</table>\n",
       "</div>"
      ],
      "text/plain": [
       "                                   Shuffled_Symptoms  \\\n",
       "0  dischromic__patches, skin_rash, nodal_skin_eru...   \n",
       "1  dischromic__patches, skin_rash, nodal_skin_eru...   \n",
       "2  dischromic__patches, itching, nodal_skin_erupt...   \n",
       "3            skin_rash, itching, dischromic__patches   \n",
       "4           nodal_skin_eruptions, skin_rash, itching   \n",
       "\n",
       "                               Shuffled_Symptom_list Shuffled_Symptom_seq  \\\n",
       "0  [dischromic__patches, skin_rash, nodal_skin_er...       [57, 5, 56, 8]   \n",
       "1  [dischromic__patches, skin_rash, nodal_skin_er...          [57, 5, 56]   \n",
       "2  [dischromic__patches, itching, nodal_skin_erup...          [57, 8, 56]   \n",
       "3          [skin_rash, itching, dischromic__patches]           [5, 8, 57]   \n",
       "4         [nodal_skin_eruptions, skin_rash, itching]           [56, 5, 8]   \n",
       "\n",
       "            Disease  \n",
       "0  Fungal infection  \n",
       "1  Fungal infection  \n",
       "2  Fungal infection  \n",
       "3  Fungal infection  \n",
       "4  Fungal infection  "
      ]
     },
     "execution_count": 35,
     "metadata": {},
     "output_type": "execute_result"
    }
   ],
   "source": [
    "df1=df1[['Shuffled_Symptoms','Shuffled_Symptom_list','Shuffled_Symptom_seq','Disease']]\n",
    "df1.head()"
   ]
  },
  {
   "cell_type": "code",
   "execution_count": 36,
   "metadata": {},
   "outputs": [
    {
     "data": {
      "text/html": [
       "<div>\n",
       "<style scoped>\n",
       "    .dataframe tbody tr th:only-of-type {\n",
       "        vertical-align: middle;\n",
       "    }\n",
       "\n",
       "    .dataframe tbody tr th {\n",
       "        vertical-align: top;\n",
       "    }\n",
       "\n",
       "    .dataframe thead th {\n",
       "        text-align: right;\n",
       "    }\n",
       "</style>\n",
       "<table border=\"1\" class=\"dataframe\">\n",
       "  <thead>\n",
       "    <tr style=\"text-align: right;\">\n",
       "      <th></th>\n",
       "      <th>Symptom</th>\n",
       "      <th>weight</th>\n",
       "    </tr>\n",
       "  </thead>\n",
       "  <tbody>\n",
       "    <tr>\n",
       "      <th>0</th>\n",
       "      <td>itching</td>\n",
       "      <td>1</td>\n",
       "    </tr>\n",
       "    <tr>\n",
       "      <th>1</th>\n",
       "      <td>skin_rash</td>\n",
       "      <td>3</td>\n",
       "    </tr>\n",
       "    <tr>\n",
       "      <th>2</th>\n",
       "      <td>nodal_skin_eruptions</td>\n",
       "      <td>4</td>\n",
       "    </tr>\n",
       "    <tr>\n",
       "      <th>3</th>\n",
       "      <td>continuous_sneezing</td>\n",
       "      <td>4</td>\n",
       "    </tr>\n",
       "    <tr>\n",
       "      <th>4</th>\n",
       "      <td>shivering</td>\n",
       "      <td>5</td>\n",
       "    </tr>\n",
       "  </tbody>\n",
       "</table>\n",
       "</div>"
      ],
      "text/plain": [
       "                Symptom  weight\n",
       "0               itching       1\n",
       "1             skin_rash       3\n",
       "2  nodal_skin_eruptions       4\n",
       "3   continuous_sneezing       4\n",
       "4             shivering       5"
      ]
     },
     "execution_count": 36,
     "metadata": {},
     "output_type": "execute_result"
    }
   ],
   "source": [
    "df2.head()"
   ]
  },
  {
   "cell_type": "code",
   "execution_count": 37,
   "metadata": {},
   "outputs": [
    {
     "data": {
      "text/plain": [
       "'one way is to put most weighted symptoms in last and least weighted symptoms first so that LSTM\\n   remembers High weighted one in the sequence in this weights also used and LSTM also works fine try this \\n   Approach and see result\\n   in UI in First two selectbox user enters common symptoms and in last two most severe symptoms'"
      ]
     },
     "execution_count": 37,
     "metadata": {},
     "output_type": "execute_result"
    }
   ],
   "source": [
    "'''' Here you Need to Think of a New Approach How to deal with further  Shuffled_Symptom_seq and weights'''\n",
    "'''one way is to put most weighted symptoms in last and least weighted symptoms first so that LSTM\n",
    "   remembers High weighted one in the sequence in this weights also used and LSTM also works fine try this \n",
    "   Approach and see result\n",
    "   in UI in First two selectbox user enters common symptoms and in last two most severe symptoms'''"
   ]
  },
  {
   "cell_type": "code",
   "execution_count": 38,
   "metadata": {},
   "outputs": [
    {
     "data": {
      "text/plain": [
       "' Can we here think of New Model also despite LSTMs and RNNs --- Yes we use Some of the Attention Mechanism alse\\n    Rather than juss stick to RNN and LSTMs'"
      ]
     },
     "execution_count": 38,
     "metadata": {},
     "output_type": "execute_result"
    }
   ],
   "source": [
    "''' Can we here think of New Model also despite LSTMs and RNNs --- Yes we use Some of the Attention Mechanism alse\n",
    "    Rather than juss stick to RNN and LSTMs'''"
   ]
  },
  {
   "cell_type": "code",
   "execution_count": 39,
   "metadata": {},
   "outputs": [],
   "source": [
    "# Create a dictionary: {symptom: weight}\n",
    "weight_map = dict(zip(df2[\"Symptom\"], df2[\"weight\"]))\n"
   ]
  },
  {
   "cell_type": "code",
   "execution_count": 40,
   "metadata": {},
   "outputs": [
    {
     "data": {
      "text/plain": [
       "{'itching': 1,\n",
       " 'skin_rash': 3,\n",
       " 'nodal_skin_eruptions': 4,\n",
       " 'continuous_sneezing': 4,\n",
       " 'shivering': 5,\n",
       " 'chills': 3,\n",
       " 'joint_pain': 3,\n",
       " 'stomach_pain': 5,\n",
       " 'acidity': 3,\n",
       " 'ulcers_on_tongue': 4,\n",
       " 'muscle_wasting': 3,\n",
       " 'vomiting': 5,\n",
       " 'burning_micturition': 6,\n",
       " 'spotting_urination': 6,\n",
       " 'fatigue': 4,\n",
       " 'weight_gain': 3,\n",
       " 'anxiety': 4,\n",
       " 'cold_hands_and_feets': 5,\n",
       " 'mood_swings': 3,\n",
       " 'weight_loss': 3,\n",
       " 'restlessness': 5,\n",
       " 'lethargy': 2,\n",
       " 'patches_in_throat': 6,\n",
       " 'irregular_sugar_level': 5,\n",
       " 'cough': 4,\n",
       " 'high_fever': 7,\n",
       " 'sunken_eyes': 3,\n",
       " 'breathlessness': 4,\n",
       " 'sweating': 3,\n",
       " 'dehydration': 4,\n",
       " 'indigestion': 5,\n",
       " 'headache': 3,\n",
       " 'yellowish_skin': 3,\n",
       " 'dark_urine': 4,\n",
       " 'nausea': 5,\n",
       " 'loss_of_appetite': 4,\n",
       " 'pain_behind_the_eyes': 4,\n",
       " 'back_pain': 3,\n",
       " 'constipation': 4,\n",
       " 'abdominal_pain': 4,\n",
       " 'diarrhoea': 6,\n",
       " 'mild_fever': 5,\n",
       " 'yellow_urine': 4,\n",
       " 'yellowing_of_eyes': 4,\n",
       " 'acute_liver_failure': 6,\n",
       " 'fluid_overload': 4,\n",
       " 'swelling_of_stomach': 7,\n",
       " 'swelled_lymph_nodes': 6,\n",
       " 'malaise': 6,\n",
       " 'blurred_and_distorted_vision': 5,\n",
       " 'phlegm': 5,\n",
       " 'throat_irritation': 4,\n",
       " 'redness_of_eyes': 5,\n",
       " 'sinus_pressure': 4,\n",
       " 'runny_nose': 5,\n",
       " 'congestion': 5,\n",
       " 'chest_pain': 7,\n",
       " 'weakness_in_limbs': 7,\n",
       " 'fast_heart_rate': 5,\n",
       " 'pain_during_bowel_movements': 5,\n",
       " 'pain_in_anal_region': 6,\n",
       " 'bloody_stool': 5,\n",
       " 'irritation_in_anus': 6,\n",
       " 'neck_pain': 5,\n",
       " 'dizziness': 4,\n",
       " 'cramps': 4,\n",
       " 'bruising': 4,\n",
       " 'obesity': 4,\n",
       " 'swollen_legs': 5,\n",
       " 'swollen_blood_vessels': 5,\n",
       " 'puffy_face_and_eyes': 5,\n",
       " 'enlarged_thyroid': 6,\n",
       " 'brittle_nails': 5,\n",
       " 'swollen_extremeties': 5,\n",
       " 'excessive_hunger': 4,\n",
       " 'extra_marital_contacts': 5,\n",
       " 'drying_and_tingling_lips': 4,\n",
       " 'slurred_speech': 4,\n",
       " 'knee_pain': 3,\n",
       " 'hip_joint_pain': 2,\n",
       " 'muscle_weakness': 2,\n",
       " 'stiff_neck': 4,\n",
       " 'swelling_joints': 5,\n",
       " 'movement_stiffness': 5,\n",
       " 'spinning_movements': 6,\n",
       " 'loss_of_balance': 4,\n",
       " 'unsteadiness': 4,\n",
       " 'weakness_of_one_body_side': 4,\n",
       " 'loss_of_smell': 3,\n",
       " 'bladder_discomfort': 4,\n",
       " 'foul_smell_ofurine': 5,\n",
       " 'continuous_feel_of_urine': 6,\n",
       " 'passage_of_gases': 5,\n",
       " 'internal_itching': 4,\n",
       " 'toxic_look_(typhos)': 5,\n",
       " 'depression': 3,\n",
       " 'irritability': 2,\n",
       " 'muscle_pain': 2,\n",
       " 'altered_sensorium': 2,\n",
       " 'red_spots_over_body': 3,\n",
       " 'belly_pain': 4,\n",
       " 'abnormal_menstruation': 6,\n",
       " 'dischromic_patches': 6,\n",
       " 'watering_from_eyes': 4,\n",
       " 'increased_appetite': 5,\n",
       " 'polyuria': 4,\n",
       " 'family_history': 5,\n",
       " 'mucoid_sputum': 4,\n",
       " 'rusty_sputum': 4,\n",
       " 'lack_of_concentration': 3,\n",
       " 'visual_disturbances': 3,\n",
       " 'receiving_blood_transfusion': 5,\n",
       " 'receiving_unsterile_injections': 2,\n",
       " 'coma': 7,\n",
       " 'stomach_bleeding': 6,\n",
       " 'distention_of_abdomen': 4,\n",
       " 'history_of_alcohol_consumption': 5,\n",
       " 'blood_in_sputum': 5,\n",
       " 'prominent_veins_on_calf': 6,\n",
       " 'palpitations': 4,\n",
       " 'painful_walking': 2,\n",
       " 'pus_filled_pimples': 2,\n",
       " 'blackheads': 2,\n",
       " 'scurring': 2,\n",
       " 'skin_peeling': 3,\n",
       " 'silver_like_dusting': 2,\n",
       " 'small_dents_in_nails': 2,\n",
       " 'inflammatory_nails': 2,\n",
       " 'blister': 4,\n",
       " 'red_sore_around_nose': 2,\n",
       " 'yellow_crust_ooze': 3,\n",
       " 'prognosis': 5}"
      ]
     },
     "execution_count": 40,
     "metadata": {},
     "output_type": "execute_result"
    }
   ],
   "source": [
    "weight_map"
   ]
  },
  {
   "cell_type": "code",
   "execution_count": 41,
   "metadata": {},
   "outputs": [],
   "source": [
    "# For any symptom not in weight_map, use a default weight of 0\n",
    "df1[\"Symptom_Weights\"] = df1[\"Shuffled_Symptom_list\"].apply(\n",
    "    lambda sym_list: [weight_map.get(sym,1) for sym in sym_list]\n",
    ")"
   ]
  },
  {
   "cell_type": "code",
   "execution_count": 42,
   "metadata": {},
   "outputs": [
    {
     "data": {
      "text/html": [
       "<div>\n",
       "<style scoped>\n",
       "    .dataframe tbody tr th:only-of-type {\n",
       "        vertical-align: middle;\n",
       "    }\n",
       "\n",
       "    .dataframe tbody tr th {\n",
       "        vertical-align: top;\n",
       "    }\n",
       "\n",
       "    .dataframe thead th {\n",
       "        text-align: right;\n",
       "    }\n",
       "</style>\n",
       "<table border=\"1\" class=\"dataframe\">\n",
       "  <thead>\n",
       "    <tr style=\"text-align: right;\">\n",
       "      <th></th>\n",
       "      <th>Shuffled_Symptoms</th>\n",
       "      <th>Shuffled_Symptom_list</th>\n",
       "      <th>Shuffled_Symptom_seq</th>\n",
       "      <th>Disease</th>\n",
       "      <th>Symptom_Weights</th>\n",
       "    </tr>\n",
       "  </thead>\n",
       "  <tbody>\n",
       "    <tr>\n",
       "      <th>0</th>\n",
       "      <td>dischromic__patches, skin_rash, nodal_skin_eru...</td>\n",
       "      <td>[dischromic__patches, skin_rash, nodal_skin_er...</td>\n",
       "      <td>[57, 5, 56, 8]</td>\n",
       "      <td>Fungal infection</td>\n",
       "      <td>[1, 3, 4, 1]</td>\n",
       "    </tr>\n",
       "    <tr>\n",
       "      <th>1</th>\n",
       "      <td>dischromic__patches, skin_rash, nodal_skin_eru...</td>\n",
       "      <td>[dischromic__patches, skin_rash, nodal_skin_er...</td>\n",
       "      <td>[57, 5, 56]</td>\n",
       "      <td>Fungal infection</td>\n",
       "      <td>[1, 3, 4]</td>\n",
       "    </tr>\n",
       "    <tr>\n",
       "      <th>2</th>\n",
       "      <td>dischromic__patches, itching, nodal_skin_erupt...</td>\n",
       "      <td>[dischromic__patches, itching, nodal_skin_erup...</td>\n",
       "      <td>[57, 8, 56]</td>\n",
       "      <td>Fungal infection</td>\n",
       "      <td>[1, 1, 4]</td>\n",
       "    </tr>\n",
       "    <tr>\n",
       "      <th>3</th>\n",
       "      <td>skin_rash, itching, dischromic__patches</td>\n",
       "      <td>[skin_rash, itching, dischromic__patches]</td>\n",
       "      <td>[5, 8, 57]</td>\n",
       "      <td>Fungal infection</td>\n",
       "      <td>[3, 1, 1]</td>\n",
       "    </tr>\n",
       "    <tr>\n",
       "      <th>4</th>\n",
       "      <td>nodal_skin_eruptions, skin_rash, itching</td>\n",
       "      <td>[nodal_skin_eruptions, skin_rash, itching]</td>\n",
       "      <td>[56, 5, 8]</td>\n",
       "      <td>Fungal infection</td>\n",
       "      <td>[4, 3, 1]</td>\n",
       "    </tr>\n",
       "  </tbody>\n",
       "</table>\n",
       "</div>"
      ],
      "text/plain": [
       "                                   Shuffled_Symptoms  \\\n",
       "0  dischromic__patches, skin_rash, nodal_skin_eru...   \n",
       "1  dischromic__patches, skin_rash, nodal_skin_eru...   \n",
       "2  dischromic__patches, itching, nodal_skin_erupt...   \n",
       "3            skin_rash, itching, dischromic__patches   \n",
       "4           nodal_skin_eruptions, skin_rash, itching   \n",
       "\n",
       "                               Shuffled_Symptom_list Shuffled_Symptom_seq  \\\n",
       "0  [dischromic__patches, skin_rash, nodal_skin_er...       [57, 5, 56, 8]   \n",
       "1  [dischromic__patches, skin_rash, nodal_skin_er...          [57, 5, 56]   \n",
       "2  [dischromic__patches, itching, nodal_skin_erup...          [57, 8, 56]   \n",
       "3          [skin_rash, itching, dischromic__patches]           [5, 8, 57]   \n",
       "4         [nodal_skin_eruptions, skin_rash, itching]           [56, 5, 8]   \n",
       "\n",
       "            Disease Symptom_Weights  \n",
       "0  Fungal infection    [1, 3, 4, 1]  \n",
       "1  Fungal infection       [1, 3, 4]  \n",
       "2  Fungal infection       [1, 1, 4]  \n",
       "3  Fungal infection       [3, 1, 1]  \n",
       "4  Fungal infection       [4, 3, 1]  "
      ]
     },
     "execution_count": 42,
     "metadata": {},
     "output_type": "execute_result"
    }
   ],
   "source": [
    "df1.head()"
   ]
  },
  {
   "cell_type": "code",
   "execution_count": 43,
   "metadata": {},
   "outputs": [
    {
     "data": {
      "text/plain": [
       "array([1, 3, 4, 5, 6, 2, 7])"
      ]
     },
     "execution_count": 43,
     "metadata": {},
     "output_type": "execute_result"
    }
   ],
   "source": [
    "df2.weight.unique()"
   ]
  },
  {
   "cell_type": "code",
   "execution_count": 44,
   "metadata": {},
   "outputs": [],
   "source": [
    "df1=df1[['Shuffled_Symptoms','Shuffled_Symptom_list','Symptom_Weights','Disease']]"
   ]
  },
  {
   "cell_type": "code",
   "execution_count": 45,
   "metadata": {},
   "outputs": [
    {
     "data": {
      "text/html": [
       "<div>\n",
       "<style scoped>\n",
       "    .dataframe tbody tr th:only-of-type {\n",
       "        vertical-align: middle;\n",
       "    }\n",
       "\n",
       "    .dataframe tbody tr th {\n",
       "        vertical-align: top;\n",
       "    }\n",
       "\n",
       "    .dataframe thead th {\n",
       "        text-align: right;\n",
       "    }\n",
       "</style>\n",
       "<table border=\"1\" class=\"dataframe\">\n",
       "  <thead>\n",
       "    <tr style=\"text-align: right;\">\n",
       "      <th></th>\n",
       "      <th>Shuffled_Symptoms</th>\n",
       "      <th>Shuffled_Symptom_list</th>\n",
       "      <th>Symptom_Weights</th>\n",
       "      <th>Disease</th>\n",
       "    </tr>\n",
       "  </thead>\n",
       "  <tbody>\n",
       "    <tr>\n",
       "      <th>4915</th>\n",
       "      <td>spinning_movements, nausea, headache, vomiting</td>\n",
       "      <td>[spinning_movements, nausea, headache, vomiting]</td>\n",
       "      <td>[6, 5, 3, 5]</td>\n",
       "      <td>(vertigo) Paroymsal  Positional Vertigo</td>\n",
       "    </tr>\n",
       "    <tr>\n",
       "      <th>4916</th>\n",
       "      <td>pus_filled_pimples, scurring, blackheads, skin...</td>\n",
       "      <td>[pus_filled_pimples, scurring, blackheads, ski...</td>\n",
       "      <td>[2, 2, 2, 3]</td>\n",
       "      <td>Acne</td>\n",
       "    </tr>\n",
       "    <tr>\n",
       "      <th>4917</th>\n",
       "      <td>burning_micturition, bladder_discomfort, foul_...</td>\n",
       "      <td>[burning_micturition, bladder_discomfort, foul...</td>\n",
       "      <td>[6, 4, 1, 6]</td>\n",
       "      <td>Urinary tract infection</td>\n",
       "    </tr>\n",
       "    <tr>\n",
       "      <th>4918</th>\n",
       "      <td>joint_pain, silver_like_dusting, skin_peeling,...</td>\n",
       "      <td>[joint_pain, silver_like_dusting, skin_peeling...</td>\n",
       "      <td>[3, 2, 3, 3]</td>\n",
       "      <td>Psoriasis</td>\n",
       "    </tr>\n",
       "    <tr>\n",
       "      <th>4919</th>\n",
       "      <td>skin_rash, red_sore_around_nose, blister, high...</td>\n",
       "      <td>[skin_rash, red_sore_around_nose, blister, hig...</td>\n",
       "      <td>[3, 2, 4, 7]</td>\n",
       "      <td>Impetigo</td>\n",
       "    </tr>\n",
       "  </tbody>\n",
       "</table>\n",
       "</div>"
      ],
      "text/plain": [
       "                                      Shuffled_Symptoms  \\\n",
       "4915     spinning_movements, nausea, headache, vomiting   \n",
       "4916  pus_filled_pimples, scurring, blackheads, skin...   \n",
       "4917  burning_micturition, bladder_discomfort, foul_...   \n",
       "4918  joint_pain, silver_like_dusting, skin_peeling,...   \n",
       "4919  skin_rash, red_sore_around_nose, blister, high...   \n",
       "\n",
       "                                  Shuffled_Symptom_list Symptom_Weights  \\\n",
       "4915   [spinning_movements, nausea, headache, vomiting]    [6, 5, 3, 5]   \n",
       "4916  [pus_filled_pimples, scurring, blackheads, ski...    [2, 2, 2, 3]   \n",
       "4917  [burning_micturition, bladder_discomfort, foul...    [6, 4, 1, 6]   \n",
       "4918  [joint_pain, silver_like_dusting, skin_peeling...    [3, 2, 3, 3]   \n",
       "4919  [skin_rash, red_sore_around_nose, blister, hig...    [3, 2, 4, 7]   \n",
       "\n",
       "                                      Disease  \n",
       "4915  (vertigo) Paroymsal  Positional Vertigo  \n",
       "4916                                     Acne  \n",
       "4917                  Urinary tract infection  \n",
       "4918                                Psoriasis  \n",
       "4919                                 Impetigo  "
      ]
     },
     "execution_count": 45,
     "metadata": {},
     "output_type": "execute_result"
    }
   ],
   "source": [
    "df1.tail()"
   ]
  },
  {
   "cell_type": "code",
   "execution_count": 46,
   "metadata": {},
   "outputs": [
    {
     "data": {
      "text/plain": [
       "(4920, 4)"
      ]
     },
     "execution_count": 46,
     "metadata": {},
     "output_type": "execute_result"
    }
   ],
   "source": [
    "df1.shape"
   ]
  },
  {
   "cell_type": "code",
   "execution_count": 47,
   "metadata": {},
   "outputs": [
    {
     "data": {
      "text/plain": [
       "(120, 4)"
      ]
     },
     "execution_count": 47,
     "metadata": {},
     "output_type": "execute_result"
    }
   ],
   "source": [
    "df1[df1['Disease'].str.contains('Heart')].shape"
   ]
  },
  {
   "cell_type": "code",
   "execution_count": 48,
   "metadata": {},
   "outputs": [],
   "source": [
    "import ast\n",
    "\n",
    "def safe_literal_eval(x):\n",
    "    # If it's already a list, return it as-is.\n",
    "    if isinstance(x, list):\n",
    "        return x\n",
    "    # Otherwise, try to evaluate the string representation\n",
    "    try:\n",
    "        return ast.literal_eval(x)\n",
    "    except Exception as e:\n",
    "        print(f\"Error parsing {x}: {e}\")\n",
    "        return x\n",
    "\n",
    "# Apply the safe evaluation function to the Symptom_Weights column.\n",
    "df1['Symptom_Weights'] = df1['Symptom_Weights'].apply(safe_literal_eval)\n"
   ]
  },
  {
   "cell_type": "code",
   "execution_count": 49,
   "metadata": {},
   "outputs": [
    {
     "data": {
      "text/plain": [
       "0       [1, 3, 4, 1]\n",
       "1          [1, 3, 4]\n",
       "2          [1, 1, 4]\n",
       "3          [3, 1, 1]\n",
       "4          [4, 3, 1]\n",
       "            ...     \n",
       "4915    [6, 5, 3, 5]\n",
       "4916    [2, 2, 2, 3]\n",
       "4917    [6, 4, 1, 6]\n",
       "4918    [3, 2, 3, 3]\n",
       "4919    [3, 2, 4, 7]\n",
       "Name: Symptom_Weights, Length: 4920, dtype: object"
      ]
     },
     "execution_count": 49,
     "metadata": {},
     "output_type": "execute_result"
    }
   ],
   "source": [
    "df1['Symptom_Weights']"
   ]
  },
  {
   "cell_type": "code",
   "execution_count": 50,
   "metadata": {},
   "outputs": [],
   "source": [
    "# Process the symptoms: we assume they are a comma-separated string.\n",
    "# If needed, you can further process (strip spaces, etc.)\n",
    "df1['Symptom_Tokens'] = df1['Shuffled_Symptoms'].apply(lambda x: [sym.strip() for sym in x.split(',')])\n"
   ]
  },
  {
   "cell_type": "code",
   "execution_count": 51,
   "metadata": {},
   "outputs": [
    {
     "data": {
      "text/plain": [
       "np.int64(4)"
      ]
     },
     "execution_count": 51,
     "metadata": {},
     "output_type": "execute_result"
    }
   ],
   "source": [
    "# Determine maximum sequence length (number of symptoms per record)\n",
    "max_len = df1['Symptom_Tokens'].apply(len).max()\n",
    "max_len"
   ]
  },
  {
   "cell_type": "code",
   "execution_count": 52,
   "metadata": {},
   "outputs": [
    {
     "name": "stdout",
     "output_type": "stream",
     "text": [
      "143\n"
     ]
    }
   ],
   "source": [
    "# Prepare tokenizer on the symptom tokens\n",
    "all_symptoms = df1['Symptom_Tokens'].tolist()\n",
    "# Flatten the list of tokens\n",
    "flat_symptoms = [sym for sublist in all_symptoms for sym in sublist]\n",
    "tokenizer = Tokenizer()\n",
    "tokenizer.fit_on_texts(flat_symptoms)\n",
    "vocab_size = len(tokenizer.word_index) + 1\n",
    "print(vocab_size)"
   ]
  },
  {
   "cell_type": "code",
   "execution_count": 53,
   "metadata": {},
   "outputs": [],
   "source": [
    "# Convert each record's symptom tokens to sequences of integers\n",
    "df1['Symptom_Seq'] = df1['Symptom_Tokens'].apply(lambda tokens: tokenizer.texts_to_sequences(tokens))\n",
    "# texts_to_sequences returns list of lists, so flatten each record\n",
    "df1['Symptom_Seq'] = df1['Symptom_Seq'].apply(lambda seq_list: [item for sub in seq_list for item in sub])\n",
    "# Pad sequences to uniform length (pad with zeros)\n",
    "symptom_seqs = pad_sequences(df1['Symptom_Seq'], maxlen=max_len, padding='post')\n"
   ]
  },
  {
   "cell_type": "code",
   "execution_count": 54,
   "metadata": {},
   "outputs": [
    {
     "data": {
      "text/plain": [
       "array([[87,  4, 88, 13],\n",
       "       [11, 87,  4, 88],\n",
       "       [13, 87,  4, 88],\n",
       "       ...,\n",
       "       [23, 76,  5, 18],\n",
       "       [ 4, 77,  4, 11],\n",
       "       [84, 85,  7,  8]], dtype=int32)"
      ]
     },
     "execution_count": 54,
     "metadata": {},
     "output_type": "execute_result"
    }
   ],
   "source": [
    "symptom_seqs"
   ]
  },
  {
   "cell_type": "code",
   "execution_count": 55,
   "metadata": {},
   "outputs": [
    {
     "data": {
      "text/plain": [
       "array([[1, 3, 4, 1],\n",
       "       [1, 3, 4, 0],\n",
       "       [1, 1, 4, 0],\n",
       "       ...,\n",
       "       [6, 4, 1, 6],\n",
       "       [3, 2, 3, 3],\n",
       "       [3, 2, 4, 7]])"
      ]
     },
     "execution_count": 55,
     "metadata": {},
     "output_type": "execute_result"
    }
   ],
   "source": [
    "# Similarly, pad the weights. We assume weights are given in order.\n",
    "# If a record has fewer weights than max_len, pad with zeros.\n",
    "weights = np.array([np.pad(w, (0, max_len - len(w)), 'constant') for w in df1['Symptom_Weights']])\n",
    "weights"
   ]
  },
  {
   "cell_type": "code",
   "execution_count": 56,
   "metadata": {},
   "outputs": [],
   "source": [
    "# Encode the disease labels to integers\n",
    "label_encoder = LabelEncoder()\n",
    "labels = label_encoder.fit_transform(df1['Disease'])\n",
    "num_classes = len(label_encoder.classes_)\n",
    "labels_cat = to_categorical(labels, num_classes=num_classes)\n"
   ]
  },
  {
   "cell_type": "code",
   "execution_count": 57,
   "metadata": {},
   "outputs": [],
   "source": [
    "# Train-test split\n",
    "X_symptoms_train, X_symptoms_test, X_weights_train, X_weights_test, y_train, y_test = train_test_split(\n",
    "    symptom_seqs, weights, labels_cat, test_size=0.2, random_state=42\n",
    ")"
   ]
  },
  {
   "cell_type": "code",
   "execution_count": 58,
   "metadata": {},
   "outputs": [],
   "source": [
    "# -------------------------\n",
    "# 2. Build the LSTM Model\n",
    "# -------------------------\n",
    "embedding_dim = 512  # Adjust embedding size as needed\n"
   ]
  },
  {
   "cell_type": "code",
   "execution_count": 59,
   "metadata": {},
   "outputs": [],
   "source": [
    "# Input layers\n",
    "symptoms_input = Input(shape=(max_len,), name=\"symptoms_input\")\n",
    "weights_input = Input(shape=(max_len,), name=\"weights_input\")\n"
   ]
  },
  {
   "cell_type": "code",
   "execution_count": 60,
   "metadata": {},
   "outputs": [
    {
     "name": "stderr",
     "output_type": "stream",
     "text": [
      "/home/shashank/anaconda3/envs/tf-env/lib/python3.10/site-packages/keras/src/layers/core/embedding.py:90: UserWarning: Argument `input_length` is deprecated. Just remove it.\n",
      "  warnings.warn(\n"
     ]
    }
   ],
   "source": [
    "# Embedding layer for symptoms\n",
    "embedding_layer = Embedding(input_dim=vocab_size,\n",
    "                            output_dim=embedding_dim,\n",
    "                            input_length=max_len,\n",
    "                            name=\"symptom_embedding\")\n",
    "embedded_symptoms = embedding_layer(symptoms_input)\n"
   ]
  },
  {
   "cell_type": "code",
   "execution_count": 61,
   "metadata": {},
   "outputs": [],
   "source": [
    "# Reshape weights to multiply with embedding output\n",
    "weights_reshaped = Reshape((max_len, 1), name=\"reshape_weights\")(weights_input)\n",
    "# Multiply embeddings by weights (element-wise multiplication)\n",
    "weighted_embedding = Multiply(name=\"weighted_embedding\")([embedded_symptoms, weights_reshaped])"
   ]
  },
  {
   "cell_type": "code",
   "execution_count": 62,
   "metadata": {},
   "outputs": [
    {
     "data": {
      "text/plain": [
       "<KerasTensor shape=(None, np.int64(4), 512), dtype=float32, sparse=False, ragged=False, name=keras_tensor_2>"
      ]
     },
     "execution_count": 62,
     "metadata": {},
     "output_type": "execute_result"
    }
   ],
   "source": [
    "weighted_embedding"
   ]
  },
  {
   "cell_type": "code",
   "execution_count": 63,
   "metadata": {},
   "outputs": [],
   "source": [
    "# Reshape weights to match the dimensions of the embeddings (for element-wise multiplication)\n",
    "weights_reshaped = Reshape((max_len, 1), name=\"reshape_weights\")(weights_input)\n",
    "\n",
    "# Multiply the embeddings by the corresponding weights\n",
    "weighted_embedding = Multiply(name=\"weighted_embedding\")([embedded_symptoms, weights_reshaped])"
   ]
  },
  {
   "cell_type": "code",
   "execution_count": 64,
   "metadata": {},
   "outputs": [],
   "source": [
    "# LSTM layer with recurrent_dropout to force the fallback (non-cuDNN) implementation\n",
    "lstm_out = LSTM(512, \n",
    "                activation='tanh', \n",
    "                recurrent_activation='sigmoid', \n",
    "                recurrent_dropout=0.2,  # This parameter forces the non-cuDNN kernel\n",
    "                name=\"lstm_layer\")(weighted_embedding)\n"
   ]
  },
  {
   "cell_type": "code",
   "execution_count": 65,
   "metadata": {},
   "outputs": [],
   "source": [
    "# Add a dense layer for further processing\n",
    "dense1 = Dense(128, activation='relu', name=\"dense_layer\")(lstm_out)\n",
    "# Output layer with softmax activation for multi-class classification\n",
    "output = Dense(num_classes, activation='softmax', name=\"output_layer\")(dense1)"
   ]
  },
  {
   "cell_type": "code",
   "execution_count": 66,
   "metadata": {},
   "outputs": [
    {
     "data": {
      "text/html": [
       "<pre style=\"white-space:pre;overflow-x:auto;line-height:normal;font-family:Menlo,'DejaVu Sans Mono',consolas,'Courier New',monospace\"><span style=\"font-weight: bold\">Model: \"functional\"</span>\n",
       "</pre>\n"
      ],
      "text/plain": [
       "\u001b[1mModel: \"functional\"\u001b[0m\n"
      ]
     },
     "metadata": {},
     "output_type": "display_data"
    },
    {
     "data": {
      "text/html": [
       "<pre style=\"white-space:pre;overflow-x:auto;line-height:normal;font-family:Menlo,'DejaVu Sans Mono',consolas,'Courier New',monospace\">┏━━━━━━━━━━━━━━━━━━━━━┳━━━━━━━━━━━━━━━━━━━┳━━━━━━━━━━━━┳━━━━━━━━━━━━━━━━━━━┓\n",
       "┃<span style=\"font-weight: bold\"> Layer (type)        </span>┃<span style=\"font-weight: bold\"> Output Shape      </span>┃<span style=\"font-weight: bold\">    Param # </span>┃<span style=\"font-weight: bold\"> Connected to      </span>┃\n",
       "┡━━━━━━━━━━━━━━━━━━━━━╇━━━━━━━━━━━━━━━━━━━╇━━━━━━━━━━━━╇━━━━━━━━━━━━━━━━━━━┩\n",
       "│ symptoms_input      │ (<span style=\"color: #00d7ff; text-decoration-color: #00d7ff\">None</span>, <span style=\"color: #00af00; text-decoration-color: #00af00\">4</span>)         │          <span style=\"color: #00af00; text-decoration-color: #00af00\">0</span> │ -                 │\n",
       "│ (<span style=\"color: #0087ff; text-decoration-color: #0087ff\">InputLayer</span>)        │                   │            │                   │\n",
       "├─────────────────────┼───────────────────┼────────────┼───────────────────┤\n",
       "│ weights_input       │ (<span style=\"color: #00d7ff; text-decoration-color: #00d7ff\">None</span>, <span style=\"color: #00af00; text-decoration-color: #00af00\">4</span>)         │          <span style=\"color: #00af00; text-decoration-color: #00af00\">0</span> │ -                 │\n",
       "│ (<span style=\"color: #0087ff; text-decoration-color: #0087ff\">InputLayer</span>)        │                   │            │                   │\n",
       "├─────────────────────┼───────────────────┼────────────┼───────────────────┤\n",
       "│ symptom_embedding   │ (<span style=\"color: #00d7ff; text-decoration-color: #00d7ff\">None</span>, <span style=\"color: #00af00; text-decoration-color: #00af00\">4</span>, <span style=\"color: #00af00; text-decoration-color: #00af00\">512</span>)    │     <span style=\"color: #00af00; text-decoration-color: #00af00\">73,216</span> │ symptoms_input[<span style=\"color: #00af00; text-decoration-color: #00af00\">0</span>… │\n",
       "│ (<span style=\"color: #0087ff; text-decoration-color: #0087ff\">Embedding</span>)         │                   │            │                   │\n",
       "├─────────────────────┼───────────────────┼────────────┼───────────────────┤\n",
       "│ reshape_weights     │ (<span style=\"color: #00d7ff; text-decoration-color: #00d7ff\">None</span>, <span style=\"color: #00af00; text-decoration-color: #00af00\">4</span>, <span style=\"color: #00af00; text-decoration-color: #00af00\">1</span>)      │          <span style=\"color: #00af00; text-decoration-color: #00af00\">0</span> │ weights_input[<span style=\"color: #00af00; text-decoration-color: #00af00\">0</span>]… │\n",
       "│ (<span style=\"color: #0087ff; text-decoration-color: #0087ff\">Reshape</span>)           │                   │            │                   │\n",
       "├─────────────────────┼───────────────────┼────────────┼───────────────────┤\n",
       "│ weighted_embedding  │ (<span style=\"color: #00d7ff; text-decoration-color: #00d7ff\">None</span>, <span style=\"color: #00af00; text-decoration-color: #00af00\">4</span>, <span style=\"color: #00af00; text-decoration-color: #00af00\">512</span>)    │          <span style=\"color: #00af00; text-decoration-color: #00af00\">0</span> │ symptom_embeddin… │\n",
       "│ (<span style=\"color: #0087ff; text-decoration-color: #0087ff\">Multiply</span>)          │                   │            │ reshape_weights[<span style=\"color: #00af00; text-decoration-color: #00af00\">…</span> │\n",
       "├─────────────────────┼───────────────────┼────────────┼───────────────────┤\n",
       "│ lstm_layer (<span style=\"color: #0087ff; text-decoration-color: #0087ff\">LSTM</span>)   │ (<span style=\"color: #00d7ff; text-decoration-color: #00d7ff\">None</span>, <span style=\"color: #00af00; text-decoration-color: #00af00\">512</span>)       │  <span style=\"color: #00af00; text-decoration-color: #00af00\">2,099,200</span> │ weighted_embeddi… │\n",
       "├─────────────────────┼───────────────────┼────────────┼───────────────────┤\n",
       "│ dense_layer (<span style=\"color: #0087ff; text-decoration-color: #0087ff\">Dense</span>) │ (<span style=\"color: #00d7ff; text-decoration-color: #00d7ff\">None</span>, <span style=\"color: #00af00; text-decoration-color: #00af00\">128</span>)       │     <span style=\"color: #00af00; text-decoration-color: #00af00\">65,664</span> │ lstm_layer[<span style=\"color: #00af00; text-decoration-color: #00af00\">0</span>][<span style=\"color: #00af00; text-decoration-color: #00af00\">0</span>]  │\n",
       "├─────────────────────┼───────────────────┼────────────┼───────────────────┤\n",
       "│ output_layer        │ (<span style=\"color: #00d7ff; text-decoration-color: #00d7ff\">None</span>, <span style=\"color: #00af00; text-decoration-color: #00af00\">41</span>)        │      <span style=\"color: #00af00; text-decoration-color: #00af00\">5,289</span> │ dense_layer[<span style=\"color: #00af00; text-decoration-color: #00af00\">0</span>][<span style=\"color: #00af00; text-decoration-color: #00af00\">0</span>] │\n",
       "│ (<span style=\"color: #0087ff; text-decoration-color: #0087ff\">Dense</span>)             │                   │            │                   │\n",
       "└─────────────────────┴───────────────────┴────────────┴───────────────────┘\n",
       "</pre>\n"
      ],
      "text/plain": [
       "┏━━━━━━━━━━━━━━━━━━━━━┳━━━━━━━━━━━━━━━━━━━┳━━━━━━━━━━━━┳━━━━━━━━━━━━━━━━━━━┓\n",
       "┃\u001b[1m \u001b[0m\u001b[1mLayer (type)       \u001b[0m\u001b[1m \u001b[0m┃\u001b[1m \u001b[0m\u001b[1mOutput Shape     \u001b[0m\u001b[1m \u001b[0m┃\u001b[1m \u001b[0m\u001b[1m   Param #\u001b[0m\u001b[1m \u001b[0m┃\u001b[1m \u001b[0m\u001b[1mConnected to     \u001b[0m\u001b[1m \u001b[0m┃\n",
       "┡━━━━━━━━━━━━━━━━━━━━━╇━━━━━━━━━━━━━━━━━━━╇━━━━━━━━━━━━╇━━━━━━━━━━━━━━━━━━━┩\n",
       "│ symptoms_input      │ (\u001b[38;5;45mNone\u001b[0m, \u001b[38;5;34m4\u001b[0m)         │          \u001b[38;5;34m0\u001b[0m │ -                 │\n",
       "│ (\u001b[38;5;33mInputLayer\u001b[0m)        │                   │            │                   │\n",
       "├─────────────────────┼───────────────────┼────────────┼───────────────────┤\n",
       "│ weights_input       │ (\u001b[38;5;45mNone\u001b[0m, \u001b[38;5;34m4\u001b[0m)         │          \u001b[38;5;34m0\u001b[0m │ -                 │\n",
       "│ (\u001b[38;5;33mInputLayer\u001b[0m)        │                   │            │                   │\n",
       "├─────────────────────┼───────────────────┼────────────┼───────────────────┤\n",
       "│ symptom_embedding   │ (\u001b[38;5;45mNone\u001b[0m, \u001b[38;5;34m4\u001b[0m, \u001b[38;5;34m512\u001b[0m)    │     \u001b[38;5;34m73,216\u001b[0m │ symptoms_input[\u001b[38;5;34m0\u001b[0m… │\n",
       "│ (\u001b[38;5;33mEmbedding\u001b[0m)         │                   │            │                   │\n",
       "├─────────────────────┼───────────────────┼────────────┼───────────────────┤\n",
       "│ reshape_weights     │ (\u001b[38;5;45mNone\u001b[0m, \u001b[38;5;34m4\u001b[0m, \u001b[38;5;34m1\u001b[0m)      │          \u001b[38;5;34m0\u001b[0m │ weights_input[\u001b[38;5;34m0\u001b[0m]… │\n",
       "│ (\u001b[38;5;33mReshape\u001b[0m)           │                   │            │                   │\n",
       "├─────────────────────┼───────────────────┼────────────┼───────────────────┤\n",
       "│ weighted_embedding  │ (\u001b[38;5;45mNone\u001b[0m, \u001b[38;5;34m4\u001b[0m, \u001b[38;5;34m512\u001b[0m)    │          \u001b[38;5;34m0\u001b[0m │ symptom_embeddin… │\n",
       "│ (\u001b[38;5;33mMultiply\u001b[0m)          │                   │            │ reshape_weights[\u001b[38;5;34m…\u001b[0m │\n",
       "├─────────────────────┼───────────────────┼────────────┼───────────────────┤\n",
       "│ lstm_layer (\u001b[38;5;33mLSTM\u001b[0m)   │ (\u001b[38;5;45mNone\u001b[0m, \u001b[38;5;34m512\u001b[0m)       │  \u001b[38;5;34m2,099,200\u001b[0m │ weighted_embeddi… │\n",
       "├─────────────────────┼───────────────────┼────────────┼───────────────────┤\n",
       "│ dense_layer (\u001b[38;5;33mDense\u001b[0m) │ (\u001b[38;5;45mNone\u001b[0m, \u001b[38;5;34m128\u001b[0m)       │     \u001b[38;5;34m65,664\u001b[0m │ lstm_layer[\u001b[38;5;34m0\u001b[0m][\u001b[38;5;34m0\u001b[0m]  │\n",
       "├─────────────────────┼───────────────────┼────────────┼───────────────────┤\n",
       "│ output_layer        │ (\u001b[38;5;45mNone\u001b[0m, \u001b[38;5;34m41\u001b[0m)        │      \u001b[38;5;34m5,289\u001b[0m │ dense_layer[\u001b[38;5;34m0\u001b[0m][\u001b[38;5;34m0\u001b[0m] │\n",
       "│ (\u001b[38;5;33mDense\u001b[0m)             │                   │            │                   │\n",
       "└─────────────────────┴───────────────────┴────────────┴───────────────────┘\n"
      ]
     },
     "metadata": {},
     "output_type": "display_data"
    },
    {
     "data": {
      "text/html": [
       "<pre style=\"white-space:pre;overflow-x:auto;line-height:normal;font-family:Menlo,'DejaVu Sans Mono',consolas,'Courier New',monospace\"><span style=\"font-weight: bold\"> Total params: </span><span style=\"color: #00af00; text-decoration-color: #00af00\">2,243,369</span> (8.56 MB)\n",
       "</pre>\n"
      ],
      "text/plain": [
       "\u001b[1m Total params: \u001b[0m\u001b[38;5;34m2,243,369\u001b[0m (8.56 MB)\n"
      ]
     },
     "metadata": {},
     "output_type": "display_data"
    },
    {
     "data": {
      "text/html": [
       "<pre style=\"white-space:pre;overflow-x:auto;line-height:normal;font-family:Menlo,'DejaVu Sans Mono',consolas,'Courier New',monospace\"><span style=\"font-weight: bold\"> Trainable params: </span><span style=\"color: #00af00; text-decoration-color: #00af00\">2,243,369</span> (8.56 MB)\n",
       "</pre>\n"
      ],
      "text/plain": [
       "\u001b[1m Trainable params: \u001b[0m\u001b[38;5;34m2,243,369\u001b[0m (8.56 MB)\n"
      ]
     },
     "metadata": {},
     "output_type": "display_data"
    },
    {
     "data": {
      "text/html": [
       "<pre style=\"white-space:pre;overflow-x:auto;line-height:normal;font-family:Menlo,'DejaVu Sans Mono',consolas,'Courier New',monospace\"><span style=\"font-weight: bold\"> Non-trainable params: </span><span style=\"color: #00af00; text-decoration-color: #00af00\">0</span> (0.00 B)\n",
       "</pre>\n"
      ],
      "text/plain": [
       "\u001b[1m Non-trainable params: \u001b[0m\u001b[38;5;34m0\u001b[0m (0.00 B)\n"
      ]
     },
     "metadata": {},
     "output_type": "display_data"
    }
   ],
   "source": [
    "# Build and compile the model\n",
    "model = Model(inputs=[symptoms_input, weights_input], outputs=output)\n",
    "model.compile(optimizer='adam', loss='categorical_crossentropy', metrics=['accuracy'])\n",
    "model.summary()"
   ]
  },
  {
   "cell_type": "code",
   "execution_count": 67,
   "metadata": {},
   "outputs": [
    {
     "name": "stdout",
     "output_type": "stream",
     "text": [
      "Epoch 1/100\n",
      "\u001b[1m111/111\u001b[0m \u001b[32m━━━━━━━━━━━━━━━━━━━━\u001b[0m\u001b[37m\u001b[0m \u001b[1m6s\u001b[0m 22ms/step - accuracy: 0.6011 - loss: 2.0598 - val_accuracy: 0.9391 - val_loss: 0.2481\n",
      "Epoch 2/100\n",
      "\u001b[1m111/111\u001b[0m \u001b[32m━━━━━━━━━━━━━━━━━━━━\u001b[0m\u001b[37m\u001b[0m \u001b[1m2s\u001b[0m 19ms/step - accuracy: 0.9176 - loss: 0.2259 - val_accuracy: 0.9239 - val_loss: 0.2108\n",
      "Epoch 3/100\n",
      "\u001b[1m111/111\u001b[0m \u001b[32m━━━━━━━━━━━━━━━━━━━━\u001b[0m\u001b[37m\u001b[0m \u001b[1m2s\u001b[0m 18ms/step - accuracy: 0.9298 - loss: 0.1856 - val_accuracy: 0.9289 - val_loss: 0.2284\n",
      "Epoch 4/100\n",
      "\u001b[1m111/111\u001b[0m \u001b[32m━━━━━━━━━━━━━━━━━━━━\u001b[0m\u001b[37m\u001b[0m \u001b[1m2s\u001b[0m 19ms/step - accuracy: 0.9346 - loss: 0.1717 - val_accuracy: 0.9340 - val_loss: 0.1940\n",
      "Epoch 5/100\n",
      "\u001b[1m111/111\u001b[0m \u001b[32m━━━━━━━━━━━━━━━━━━━━\u001b[0m\u001b[37m\u001b[0m \u001b[1m2s\u001b[0m 18ms/step - accuracy: 0.9410 - loss: 0.1380 - val_accuracy: 0.9239 - val_loss: 0.1989\n",
      "Epoch 6/100\n",
      "\u001b[1m111/111\u001b[0m \u001b[32m━━━━━━━━━━━━━━━━━━━━\u001b[0m\u001b[37m\u001b[0m \u001b[1m2s\u001b[0m 20ms/step - accuracy: 0.9400 - loss: 0.1626 - val_accuracy: 0.9518 - val_loss: 0.1557\n",
      "Epoch 7/100\n",
      "\u001b[1m111/111\u001b[0m \u001b[32m━━━━━━━━━━━━━━━━━━━━\u001b[0m\u001b[37m\u001b[0m \u001b[1m2s\u001b[0m 19ms/step - accuracy: 0.9525 - loss: 0.1166 - val_accuracy: 0.9391 - val_loss: 0.1826\n",
      "Epoch 8/100\n",
      "\u001b[1m111/111\u001b[0m \u001b[32m━━━━━━━━━━━━━━━━━━━━\u001b[0m\u001b[37m\u001b[0m \u001b[1m2s\u001b[0m 20ms/step - accuracy: 0.9519 - loss: 0.1117 - val_accuracy: 0.9289 - val_loss: 0.1881\n",
      "Epoch 9/100\n",
      "\u001b[1m111/111\u001b[0m \u001b[32m━━━━━━━━━━━━━━━━━━━━\u001b[0m\u001b[37m\u001b[0m \u001b[1m2s\u001b[0m 19ms/step - accuracy: 0.9533 - loss: 0.1091 - val_accuracy: 0.9289 - val_loss: 0.2002\n",
      "Epoch 10/100\n",
      "\u001b[1m111/111\u001b[0m \u001b[32m━━━━━━━━━━━━━━━━━━━━\u001b[0m\u001b[37m\u001b[0m \u001b[1m2s\u001b[0m 19ms/step - accuracy: 0.9510 - loss: 0.1149 - val_accuracy: 0.9518 - val_loss: 0.1630\n",
      "Epoch 11/100\n",
      "\u001b[1m111/111\u001b[0m \u001b[32m━━━━━━━━━━━━━━━━━━━━\u001b[0m\u001b[37m\u001b[0m \u001b[1m2s\u001b[0m 19ms/step - accuracy: 0.9537 - loss: 0.1047 - val_accuracy: 0.9467 - val_loss: 0.1723\n",
      "Epoch 12/100\n",
      "\u001b[1m111/111\u001b[0m \u001b[32m━━━━━━━━━━━━━━━━━━━━\u001b[0m\u001b[37m\u001b[0m \u001b[1m2s\u001b[0m 19ms/step - accuracy: 0.9600 - loss: 0.0954 - val_accuracy: 0.9467 - val_loss: 0.1555\n",
      "Epoch 13/100\n",
      "\u001b[1m111/111\u001b[0m \u001b[32m━━━━━━━━━━━━━━━━━━━━\u001b[0m\u001b[37m\u001b[0m \u001b[1m2s\u001b[0m 19ms/step - accuracy: 0.9539 - loss: 0.1095 - val_accuracy: 0.9442 - val_loss: 0.1853\n",
      "Epoch 14/100\n",
      "\u001b[1m111/111\u001b[0m \u001b[32m━━━━━━━━━━━━━━━━━━━━\u001b[0m\u001b[37m\u001b[0m \u001b[1m2s\u001b[0m 19ms/step - accuracy: 0.9618 - loss: 0.0924 - val_accuracy: 0.9569 - val_loss: 0.1503\n",
      "Epoch 15/100\n",
      "\u001b[1m111/111\u001b[0m \u001b[32m━━━━━━━━━━━━━━━━━━━━\u001b[0m\u001b[37m\u001b[0m \u001b[1m2s\u001b[0m 18ms/step - accuracy: 0.9566 - loss: 0.0932 - val_accuracy: 0.9492 - val_loss: 0.1776\n",
      "Epoch 16/100\n",
      "\u001b[1m111/111\u001b[0m \u001b[32m━━━━━━━━━━━━━━━━━━━━\u001b[0m\u001b[37m\u001b[0m \u001b[1m2s\u001b[0m 19ms/step - accuracy: 0.9576 - loss: 0.1019 - val_accuracy: 0.9569 - val_loss: 0.1533\n",
      "Epoch 17/100\n",
      "\u001b[1m111/111\u001b[0m \u001b[32m━━━━━━━━━━━━━━━━━━━━\u001b[0m\u001b[37m\u001b[0m \u001b[1m2s\u001b[0m 21ms/step - accuracy: 0.9604 - loss: 0.0841 - val_accuracy: 0.9416 - val_loss: 0.1873\n",
      "Epoch 18/100\n",
      "\u001b[1m111/111\u001b[0m \u001b[32m━━━━━━━━━━━━━━━━━━━━\u001b[0m\u001b[37m\u001b[0m \u001b[1m2s\u001b[0m 21ms/step - accuracy: 0.9593 - loss: 0.0810 - val_accuracy: 0.9467 - val_loss: 0.1602\n",
      "Epoch 19/100\n",
      "\u001b[1m111/111\u001b[0m \u001b[32m━━━━━━━━━━━━━━━━━━━━\u001b[0m\u001b[37m\u001b[0m \u001b[1m2s\u001b[0m 21ms/step - accuracy: 0.9602 - loss: 0.0836 - val_accuracy: 0.9543 - val_loss: 0.1418\n",
      "Epoch 20/100\n",
      "\u001b[1m111/111\u001b[0m \u001b[32m━━━━━━━━━━━━━━━━━━━━\u001b[0m\u001b[37m\u001b[0m \u001b[1m2s\u001b[0m 21ms/step - accuracy: 0.9576 - loss: 0.0914 - val_accuracy: 0.9442 - val_loss: 0.1775\n",
      "Epoch 21/100\n",
      "\u001b[1m111/111\u001b[0m \u001b[32m━━━━━━━━━━━━━━━━━━━━\u001b[0m\u001b[37m\u001b[0m \u001b[1m2s\u001b[0m 19ms/step - accuracy: 0.9601 - loss: 0.0877 - val_accuracy: 0.9569 - val_loss: 0.1627\n",
      "Epoch 22/100\n",
      "\u001b[1m111/111\u001b[0m \u001b[32m━━━━━━━━━━━━━━━━━━━━\u001b[0m\u001b[37m\u001b[0m \u001b[1m2s\u001b[0m 19ms/step - accuracy: 0.9650 - loss: 0.0706 - val_accuracy: 0.9365 - val_loss: 0.1897\n",
      "Epoch 23/100\n",
      "\u001b[1m111/111\u001b[0m \u001b[32m━━━━━━━━━━━━━━━━━━━━\u001b[0m\u001b[37m\u001b[0m \u001b[1m2s\u001b[0m 18ms/step - accuracy: 0.9606 - loss: 0.0775 - val_accuracy: 0.9492 - val_loss: 0.1626\n",
      "Epoch 24/100\n",
      "\u001b[1m111/111\u001b[0m \u001b[32m━━━━━━━━━━━━━━━━━━━━\u001b[0m\u001b[37m\u001b[0m \u001b[1m2s\u001b[0m 19ms/step - accuracy: 0.9616 - loss: 0.0841 - val_accuracy: 0.9340 - val_loss: 0.2242\n",
      "Epoch 25/100\n",
      "\u001b[1m111/111\u001b[0m \u001b[32m━━━━━━━━━━━━━━━━━━━━\u001b[0m\u001b[37m\u001b[0m \u001b[1m2s\u001b[0m 19ms/step - accuracy: 0.9603 - loss: 0.1104 - val_accuracy: 0.9365 - val_loss: 0.1862\n",
      "Epoch 26/100\n",
      "\u001b[1m111/111\u001b[0m \u001b[32m━━━━━━━━━━━━━━━━━━━━\u001b[0m\u001b[37m\u001b[0m \u001b[1m2s\u001b[0m 19ms/step - accuracy: 0.9607 - loss: 0.0894 - val_accuracy: 0.9416 - val_loss: 0.1565\n",
      "Epoch 27/100\n",
      "\u001b[1m111/111\u001b[0m \u001b[32m━━━━━━━━━━━━━━━━━━━━\u001b[0m\u001b[37m\u001b[0m \u001b[1m2s\u001b[0m 19ms/step - accuracy: 0.9665 - loss: 0.0778 - val_accuracy: 0.9594 - val_loss: 0.1715\n",
      "Epoch 28/100\n",
      "\u001b[1m111/111\u001b[0m \u001b[32m━━━━━━━━━━━━━━━━━━━━\u001b[0m\u001b[37m\u001b[0m \u001b[1m2s\u001b[0m 18ms/step - accuracy: 0.9694 - loss: 0.0734 - val_accuracy: 0.9416 - val_loss: 0.1758\n",
      "Epoch 29/100\n",
      "\u001b[1m111/111\u001b[0m \u001b[32m━━━━━━━━━━━━━━━━━━━━\u001b[0m\u001b[37m\u001b[0m \u001b[1m2s\u001b[0m 19ms/step - accuracy: 0.9664 - loss: 0.0779 - val_accuracy: 0.9365 - val_loss: 0.2122\n",
      "Epoch 30/100\n",
      "\u001b[1m111/111\u001b[0m \u001b[32m━━━━━━━━━━━━━━━━━━━━\u001b[0m\u001b[37m\u001b[0m \u001b[1m2s\u001b[0m 21ms/step - accuracy: 0.9631 - loss: 0.0796 - val_accuracy: 0.9467 - val_loss: 0.1989\n",
      "Epoch 31/100\n",
      "\u001b[1m111/111\u001b[0m \u001b[32m━━━━━━━━━━━━━━━━━━━━\u001b[0m\u001b[37m\u001b[0m \u001b[1m2s\u001b[0m 21ms/step - accuracy: 0.9642 - loss: 0.0794 - val_accuracy: 0.9492 - val_loss: 0.1770\n",
      "Epoch 32/100\n",
      "\u001b[1m111/111\u001b[0m \u001b[32m━━━━━━━━━━━━━━━━━━━━\u001b[0m\u001b[37m\u001b[0m \u001b[1m2s\u001b[0m 20ms/step - accuracy: 0.9635 - loss: 0.0763 - val_accuracy: 0.9492 - val_loss: 0.1953\n",
      "Epoch 33/100\n",
      "\u001b[1m111/111\u001b[0m \u001b[32m━━━━━━━━━━━━━━━━━━━━\u001b[0m\u001b[37m\u001b[0m \u001b[1m2s\u001b[0m 22ms/step - accuracy: 0.9619 - loss: 0.0999 - val_accuracy: 0.9594 - val_loss: 0.2003\n",
      "Epoch 34/100\n",
      "\u001b[1m111/111\u001b[0m \u001b[32m━━━━━━━━━━━━━━━━━━━━\u001b[0m\u001b[37m\u001b[0m \u001b[1m2s\u001b[0m 21ms/step - accuracy: 0.9654 - loss: 0.0770 - val_accuracy: 0.9518 - val_loss: 0.1650\n",
      "Epoch 35/100\n",
      "\u001b[1m111/111\u001b[0m \u001b[32m━━━━━━━━━━━━━━━━━━━━\u001b[0m\u001b[37m\u001b[0m \u001b[1m2s\u001b[0m 21ms/step - accuracy: 0.9644 - loss: 0.0767 - val_accuracy: 0.9518 - val_loss: 0.1820\n",
      "Epoch 36/100\n",
      "\u001b[1m111/111\u001b[0m \u001b[32m━━━━━━━━━━━━━━━━━━━━\u001b[0m\u001b[37m\u001b[0m \u001b[1m2s\u001b[0m 21ms/step - accuracy: 0.9624 - loss: 0.0777 - val_accuracy: 0.9569 - val_loss: 0.1605\n",
      "Epoch 37/100\n",
      "\u001b[1m111/111\u001b[0m \u001b[32m━━━━━━━━━━━━━━━━━━━━\u001b[0m\u001b[37m\u001b[0m \u001b[1m2s\u001b[0m 21ms/step - accuracy: 0.9649 - loss: 0.0655 - val_accuracy: 0.9645 - val_loss: 0.1784\n",
      "Epoch 38/100\n",
      "\u001b[1m111/111\u001b[0m \u001b[32m━━━━━━━━━━━━━━━━━━━━\u001b[0m\u001b[37m\u001b[0m \u001b[1m2s\u001b[0m 20ms/step - accuracy: 0.9712 - loss: 0.0656 - val_accuracy: 0.9467 - val_loss: 0.1663\n",
      "Epoch 39/100\n",
      "\u001b[1m111/111\u001b[0m \u001b[32m━━━━━━━━━━━━━━━━━━━━\u001b[0m\u001b[37m\u001b[0m \u001b[1m2s\u001b[0m 20ms/step - accuracy: 0.9710 - loss: 0.0638 - val_accuracy: 0.9518 - val_loss: 0.1716\n",
      "Epoch 40/100\n",
      "\u001b[1m111/111\u001b[0m \u001b[32m━━━━━━━━━━━━━━━━━━━━\u001b[0m\u001b[37m\u001b[0m \u001b[1m2s\u001b[0m 21ms/step - accuracy: 0.9640 - loss: 0.0794 - val_accuracy: 0.9518 - val_loss: 0.1941\n",
      "Epoch 41/100\n",
      "\u001b[1m111/111\u001b[0m \u001b[32m━━━━━━━━━━━━━━━━━━━━\u001b[0m\u001b[37m\u001b[0m \u001b[1m2s\u001b[0m 20ms/step - accuracy: 0.9619 - loss: 0.0764 - val_accuracy: 0.9518 - val_loss: 0.2015\n",
      "Epoch 42/100\n",
      "\u001b[1m111/111\u001b[0m \u001b[32m━━━━━━━━━━━━━━━━━━━━\u001b[0m\u001b[37m\u001b[0m \u001b[1m2s\u001b[0m 20ms/step - accuracy: 0.9710 - loss: 0.0763 - val_accuracy: 0.9569 - val_loss: 0.1738\n",
      "Epoch 43/100\n",
      "\u001b[1m111/111\u001b[0m \u001b[32m━━━━━━━━━━━━━━━━━━━━\u001b[0m\u001b[37m\u001b[0m \u001b[1m2s\u001b[0m 20ms/step - accuracy: 0.9620 - loss: 0.0796 - val_accuracy: 0.9543 - val_loss: 0.1693\n",
      "Epoch 44/100\n",
      "\u001b[1m111/111\u001b[0m \u001b[32m━━━━━━━━━━━━━━━━━━━━\u001b[0m\u001b[37m\u001b[0m \u001b[1m2s\u001b[0m 21ms/step - accuracy: 0.9728 - loss: 0.0626 - val_accuracy: 0.9518 - val_loss: 0.1741\n",
      "Epoch 45/100\n",
      "\u001b[1m111/111\u001b[0m \u001b[32m━━━━━━━━━━━━━━━━━━━━\u001b[0m\u001b[37m\u001b[0m \u001b[1m2s\u001b[0m 22ms/step - accuracy: 0.9724 - loss: 0.0542 - val_accuracy: 0.9569 - val_loss: 0.1784\n",
      "Epoch 46/100\n",
      "\u001b[1m111/111\u001b[0m \u001b[32m━━━━━━━━━━━━━━━━━━━━\u001b[0m\u001b[37m\u001b[0m \u001b[1m2s\u001b[0m 21ms/step - accuracy: 0.9660 - loss: 0.0659 - val_accuracy: 0.9619 - val_loss: 0.1875\n",
      "Epoch 47/100\n",
      "\u001b[1m111/111\u001b[0m \u001b[32m━━━━━━━━━━━━━━━━━━━━\u001b[0m\u001b[37m\u001b[0m \u001b[1m2s\u001b[0m 21ms/step - accuracy: 0.9690 - loss: 0.0608 - val_accuracy: 0.9518 - val_loss: 0.2069\n",
      "Epoch 48/100\n",
      "\u001b[1m111/111\u001b[0m \u001b[32m━━━━━━━━━━━━━━━━━━━━\u001b[0m\u001b[37m\u001b[0m \u001b[1m2s\u001b[0m 21ms/step - accuracy: 0.9687 - loss: 0.0664 - val_accuracy: 0.9467 - val_loss: 0.2028\n",
      "Epoch 49/100\n",
      "\u001b[1m111/111\u001b[0m \u001b[32m━━━━━━━━━━━━━━━━━━━━\u001b[0m\u001b[37m\u001b[0m \u001b[1m2s\u001b[0m 21ms/step - accuracy: 0.9667 - loss: 0.0704 - val_accuracy: 0.9492 - val_loss: 0.1835\n",
      "Epoch 50/100\n",
      "\u001b[1m111/111\u001b[0m \u001b[32m━━━━━━━━━━━━━━━━━━━━\u001b[0m\u001b[37m\u001b[0m \u001b[1m2s\u001b[0m 21ms/step - accuracy: 0.9734 - loss: 0.0624 - val_accuracy: 0.9746 - val_loss: 0.1679\n",
      "Epoch 51/100\n",
      "\u001b[1m111/111\u001b[0m \u001b[32m━━━━━━━━━━━━━━━━━━━━\u001b[0m\u001b[37m\u001b[0m \u001b[1m2s\u001b[0m 21ms/step - accuracy: 0.9765 - loss: 0.0564 - val_accuracy: 0.9594 - val_loss: 0.1977\n",
      "Epoch 52/100\n",
      "\u001b[1m111/111\u001b[0m \u001b[32m━━━━━━━━━━━━━━━━━━━━\u001b[0m\u001b[37m\u001b[0m \u001b[1m2s\u001b[0m 20ms/step - accuracy: 0.9665 - loss: 0.0798 - val_accuracy: 0.9315 - val_loss: 0.2286\n",
      "Epoch 53/100\n",
      "\u001b[1m111/111\u001b[0m \u001b[32m━━━━━━━━━━━━━━━━━━━━\u001b[0m\u001b[37m\u001b[0m \u001b[1m2s\u001b[0m 20ms/step - accuracy: 0.9616 - loss: 0.0879 - val_accuracy: 0.9391 - val_loss: 0.2167\n",
      "Epoch 54/100\n",
      "\u001b[1m111/111\u001b[0m \u001b[32m━━━━━━━━━━━━━━━━━━━━\u001b[0m\u001b[37m\u001b[0m \u001b[1m2s\u001b[0m 20ms/step - accuracy: 0.9684 - loss: 0.0783 - val_accuracy: 0.9518 - val_loss: 0.1838\n",
      "Epoch 55/100\n",
      "\u001b[1m111/111\u001b[0m \u001b[32m━━━━━━━━━━━━━━━━━━━━\u001b[0m\u001b[37m\u001b[0m \u001b[1m2s\u001b[0m 20ms/step - accuracy: 0.9704 - loss: 0.0658 - val_accuracy: 0.9467 - val_loss: 0.1887\n",
      "Epoch 56/100\n",
      "\u001b[1m111/111\u001b[0m \u001b[32m━━━━━━━━━━━━━━━━━━━━\u001b[0m\u001b[37m\u001b[0m \u001b[1m2s\u001b[0m 21ms/step - accuracy: 0.9726 - loss: 0.0618 - val_accuracy: 0.9492 - val_loss: 0.2001\n",
      "Epoch 57/100\n",
      "\u001b[1m111/111\u001b[0m \u001b[32m━━━━━━━━━━━━━━━━━━━━\u001b[0m\u001b[37m\u001b[0m \u001b[1m2s\u001b[0m 21ms/step - accuracy: 0.9734 - loss: 0.0591 - val_accuracy: 0.9518 - val_loss: 0.1785\n",
      "Epoch 58/100\n",
      "\u001b[1m111/111\u001b[0m \u001b[32m━━━━━━━━━━━━━━━━━━━━\u001b[0m\u001b[37m\u001b[0m \u001b[1m2s\u001b[0m 21ms/step - accuracy: 0.9726 - loss: 0.0613 - val_accuracy: 0.9518 - val_loss: 0.1819\n",
      "Epoch 59/100\n",
      "\u001b[1m111/111\u001b[0m \u001b[32m━━━━━━━━━━━━━━━━━━━━\u001b[0m\u001b[37m\u001b[0m \u001b[1m2s\u001b[0m 20ms/step - accuracy: 0.9743 - loss: 0.0504 - val_accuracy: 0.9543 - val_loss: 0.1783\n",
      "Epoch 60/100\n",
      "\u001b[1m111/111\u001b[0m \u001b[32m━━━━━━━━━━━━━━━━━━━━\u001b[0m\u001b[37m\u001b[0m \u001b[1m2s\u001b[0m 21ms/step - accuracy: 0.9794 - loss: 0.0519 - val_accuracy: 0.9543 - val_loss: 0.1842\n",
      "Epoch 61/100\n",
      "\u001b[1m111/111\u001b[0m \u001b[32m━━━━━━━━━━━━━━━━━━━━\u001b[0m\u001b[37m\u001b[0m \u001b[1m2s\u001b[0m 21ms/step - accuracy: 0.9787 - loss: 0.0465 - val_accuracy: 0.9518 - val_loss: 0.2064\n",
      "Epoch 62/100\n",
      "\u001b[1m111/111\u001b[0m \u001b[32m━━━━━━━━━━━━━━━━━━━━\u001b[0m\u001b[37m\u001b[0m \u001b[1m2s\u001b[0m 22ms/step - accuracy: 0.9778 - loss: 0.0496 - val_accuracy: 0.9467 - val_loss: 0.2084\n",
      "Epoch 63/100\n",
      "\u001b[1m111/111\u001b[0m \u001b[32m━━━━━━━━━━━━━━━━━━━━\u001b[0m\u001b[37m\u001b[0m \u001b[1m2s\u001b[0m 20ms/step - accuracy: 0.9763 - loss: 0.0574 - val_accuracy: 0.9467 - val_loss: 0.1801\n",
      "Epoch 64/100\n",
      "\u001b[1m111/111\u001b[0m \u001b[32m━━━━━━━━━━━━━━━━━━━━\u001b[0m\u001b[37m\u001b[0m \u001b[1m2s\u001b[0m 21ms/step - accuracy: 0.9739 - loss: 0.0566 - val_accuracy: 0.9645 - val_loss: 0.1980\n",
      "Epoch 65/100\n",
      "\u001b[1m111/111\u001b[0m \u001b[32m━━━━━━━━━━━━━━━━━━━━\u001b[0m\u001b[37m\u001b[0m \u001b[1m2s\u001b[0m 20ms/step - accuracy: 0.9756 - loss: 0.0574 - val_accuracy: 0.9594 - val_loss: 0.1841\n",
      "Epoch 66/100\n",
      "\u001b[1m111/111\u001b[0m \u001b[32m━━━━━━━━━━━━━━━━━━━━\u001b[0m\u001b[37m\u001b[0m \u001b[1m2s\u001b[0m 21ms/step - accuracy: 0.9763 - loss: 0.0568 - val_accuracy: 0.9645 - val_loss: 0.1685\n",
      "Epoch 67/100\n",
      "\u001b[1m111/111\u001b[0m \u001b[32m━━━━━━━━━━━━━━━━━━━━\u001b[0m\u001b[37m\u001b[0m \u001b[1m2s\u001b[0m 20ms/step - accuracy: 0.9733 - loss: 0.0697 - val_accuracy: 0.9670 - val_loss: 0.1605\n",
      "Epoch 68/100\n",
      "\u001b[1m111/111\u001b[0m \u001b[32m━━━━━━━━━━━━━━━━━━━━\u001b[0m\u001b[37m\u001b[0m \u001b[1m2s\u001b[0m 20ms/step - accuracy: 0.9727 - loss: 0.0590 - val_accuracy: 0.9569 - val_loss: 0.1755\n",
      "Epoch 69/100\n",
      "\u001b[1m111/111\u001b[0m \u001b[32m━━━━━━━━━━━━━━━━━━━━\u001b[0m\u001b[37m\u001b[0m \u001b[1m2s\u001b[0m 20ms/step - accuracy: 0.9776 - loss: 0.0530 - val_accuracy: 0.9645 - val_loss: 0.1836\n",
      "Epoch 70/100\n",
      "\u001b[1m111/111\u001b[0m \u001b[32m━━━━━━━━━━━━━━━━━━━━\u001b[0m\u001b[37m\u001b[0m \u001b[1m2s\u001b[0m 21ms/step - accuracy: 0.9757 - loss: 0.0589 - val_accuracy: 0.9543 - val_loss: 0.2194\n",
      "Epoch 71/100\n",
      "\u001b[1m111/111\u001b[0m \u001b[32m━━━━━━━━━━━━━━━━━━━━\u001b[0m\u001b[37m\u001b[0m \u001b[1m2s\u001b[0m 21ms/step - accuracy: 0.9744 - loss: 0.0565 - val_accuracy: 0.9594 - val_loss: 0.1804\n",
      "Epoch 72/100\n",
      "\u001b[1m111/111\u001b[0m \u001b[32m━━━━━━━━━━━━━━━━━━━━\u001b[0m\u001b[37m\u001b[0m \u001b[1m2s\u001b[0m 20ms/step - accuracy: 0.9822 - loss: 0.0493 - val_accuracy: 0.9416 - val_loss: 0.1982\n",
      "Epoch 73/100\n",
      "\u001b[1m111/111\u001b[0m \u001b[32m━━━━━━━━━━━━━━━━━━━━\u001b[0m\u001b[37m\u001b[0m \u001b[1m2s\u001b[0m 21ms/step - accuracy: 0.9737 - loss: 0.0543 - val_accuracy: 0.9492 - val_loss: 0.2143\n",
      "Epoch 74/100\n",
      "\u001b[1m111/111\u001b[0m \u001b[32m━━━━━━━━━━━━━━━━━━━━\u001b[0m\u001b[37m\u001b[0m \u001b[1m2s\u001b[0m 20ms/step - accuracy: 0.9759 - loss: 0.0540 - val_accuracy: 0.9518 - val_loss: 0.1978\n",
      "Epoch 75/100\n",
      "\u001b[1m111/111\u001b[0m \u001b[32m━━━━━━━━━━━━━━━━━━━━\u001b[0m\u001b[37m\u001b[0m \u001b[1m2s\u001b[0m 21ms/step - accuracy: 0.9781 - loss: 0.0501 - val_accuracy: 0.9416 - val_loss: 0.2311\n",
      "Epoch 76/100\n",
      "\u001b[1m111/111\u001b[0m \u001b[32m━━━━━━━━━━━━━━━━━━━━\u001b[0m\u001b[37m\u001b[0m \u001b[1m2s\u001b[0m 21ms/step - accuracy: 0.9761 - loss: 0.0540 - val_accuracy: 0.9619 - val_loss: 0.1923\n",
      "Epoch 77/100\n",
      "\u001b[1m111/111\u001b[0m \u001b[32m━━━━━━━━━━━━━━━━━━━━\u001b[0m\u001b[37m\u001b[0m \u001b[1m2s\u001b[0m 21ms/step - accuracy: 0.9741 - loss: 0.0543 - val_accuracy: 0.9543 - val_loss: 0.2016\n",
      "Epoch 78/100\n",
      "\u001b[1m111/111\u001b[0m \u001b[32m━━━━━━━━━━━━━━━━━━━━\u001b[0m\u001b[37m\u001b[0m \u001b[1m2s\u001b[0m 20ms/step - accuracy: 0.9798 - loss: 0.0426 - val_accuracy: 0.9518 - val_loss: 0.2170\n",
      "Epoch 79/100\n",
      "\u001b[1m111/111\u001b[0m \u001b[32m━━━━━━━━━━━━━━━━━━━━\u001b[0m\u001b[37m\u001b[0m \u001b[1m2s\u001b[0m 21ms/step - accuracy: 0.9752 - loss: 0.0508 - val_accuracy: 0.9492 - val_loss: 0.2152\n",
      "Epoch 80/100\n",
      "\u001b[1m111/111\u001b[0m \u001b[32m━━━━━━━━━━━━━━━━━━━━\u001b[0m\u001b[37m\u001b[0m \u001b[1m2s\u001b[0m 20ms/step - accuracy: 0.9731 - loss: 0.0612 - val_accuracy: 0.9594 - val_loss: 0.1849\n",
      "Epoch 81/100\n",
      "\u001b[1m111/111\u001b[0m \u001b[32m━━━━━━━━━━━━━━━━━━━━\u001b[0m\u001b[37m\u001b[0m \u001b[1m2s\u001b[0m 20ms/step - accuracy: 0.9755 - loss: 0.0556 - val_accuracy: 0.9543 - val_loss: 0.2123\n",
      "Epoch 82/100\n",
      "\u001b[1m111/111\u001b[0m \u001b[32m━━━━━━━━━━━━━━━━━━━━\u001b[0m\u001b[37m\u001b[0m \u001b[1m2s\u001b[0m 21ms/step - accuracy: 0.9776 - loss: 0.0534 - val_accuracy: 0.9670 - val_loss: 0.1902\n",
      "Epoch 83/100\n",
      "\u001b[1m111/111\u001b[0m \u001b[32m━━━━━━━━━━━━━━━━━━━━\u001b[0m\u001b[37m\u001b[0m \u001b[1m2s\u001b[0m 21ms/step - accuracy: 0.9810 - loss: 0.0504 - val_accuracy: 0.9543 - val_loss: 0.2003\n",
      "Epoch 84/100\n",
      "\u001b[1m111/111\u001b[0m \u001b[32m━━━━━━━━━━━━━━━━━━━━\u001b[0m\u001b[37m\u001b[0m \u001b[1m2s\u001b[0m 20ms/step - accuracy: 0.9779 - loss: 0.0462 - val_accuracy: 0.9619 - val_loss: 0.2008\n",
      "Epoch 85/100\n",
      "\u001b[1m111/111\u001b[0m \u001b[32m━━━━━━━━━━━━━━━━━━━━\u001b[0m\u001b[37m\u001b[0m \u001b[1m2s\u001b[0m 20ms/step - accuracy: 0.9784 - loss: 0.0463 - val_accuracy: 0.9543 - val_loss: 0.2235\n",
      "Epoch 86/100\n",
      "\u001b[1m111/111\u001b[0m \u001b[32m━━━━━━━━━━━━━━━━━━━━\u001b[0m\u001b[37m\u001b[0m \u001b[1m2s\u001b[0m 20ms/step - accuracy: 0.9731 - loss: 0.0583 - val_accuracy: 0.9492 - val_loss: 0.2262\n",
      "Epoch 87/100\n",
      "\u001b[1m111/111\u001b[0m \u001b[32m━━━━━━━━━━━━━━━━━━━━\u001b[0m\u001b[37m\u001b[0m \u001b[1m2s\u001b[0m 21ms/step - accuracy: 0.9776 - loss: 0.0483 - val_accuracy: 0.9569 - val_loss: 0.2170\n",
      "Epoch 88/100\n",
      "\u001b[1m111/111\u001b[0m \u001b[32m━━━━━━━━━━━━━━━━━━━━\u001b[0m\u001b[37m\u001b[0m \u001b[1m2s\u001b[0m 21ms/step - accuracy: 0.9732 - loss: 0.0563 - val_accuracy: 0.9670 - val_loss: 0.1995\n",
      "Epoch 89/100\n",
      "\u001b[1m111/111\u001b[0m \u001b[32m━━━━━━━━━━━━━━━━━━━━\u001b[0m\u001b[37m\u001b[0m \u001b[1m2s\u001b[0m 21ms/step - accuracy: 0.9772 - loss: 0.0520 - val_accuracy: 0.9645 - val_loss: 0.2085\n",
      "Epoch 90/100\n",
      "\u001b[1m111/111\u001b[0m \u001b[32m━━━━━━━━━━━━━━━━━━━━\u001b[0m\u001b[37m\u001b[0m \u001b[1m2s\u001b[0m 21ms/step - accuracy: 0.9767 - loss: 0.0571 - val_accuracy: 0.9594 - val_loss: 0.1968\n",
      "Epoch 91/100\n",
      "\u001b[1m111/111\u001b[0m \u001b[32m━━━━━━━━━━━━━━━━━━━━\u001b[0m\u001b[37m\u001b[0m \u001b[1m2s\u001b[0m 21ms/step - accuracy: 0.9818 - loss: 0.0420 - val_accuracy: 0.9695 - val_loss: 0.1810\n",
      "Epoch 92/100\n",
      "\u001b[1m111/111\u001b[0m \u001b[32m━━━━━━━━━━━━━━━━━━━━\u001b[0m\u001b[37m\u001b[0m \u001b[1m2s\u001b[0m 21ms/step - accuracy: 0.9785 - loss: 0.0458 - val_accuracy: 0.9594 - val_loss: 0.1933\n",
      "Epoch 93/100\n",
      "\u001b[1m111/111\u001b[0m \u001b[32m━━━━━━━━━━━━━━━━━━━━\u001b[0m\u001b[37m\u001b[0m \u001b[1m2s\u001b[0m 21ms/step - accuracy: 0.9824 - loss: 0.0411 - val_accuracy: 0.9518 - val_loss: 0.2403\n",
      "Epoch 94/100\n",
      "\u001b[1m111/111\u001b[0m \u001b[32m━━━━━━━━━━━━━━━━━━━━\u001b[0m\u001b[37m\u001b[0m \u001b[1m2s\u001b[0m 20ms/step - accuracy: 0.9721 - loss: 0.0567 - val_accuracy: 0.9518 - val_loss: 0.2437\n",
      "Epoch 95/100\n",
      "\u001b[1m111/111\u001b[0m \u001b[32m━━━━━━━━━━━━━━━━━━━━\u001b[0m\u001b[37m\u001b[0m \u001b[1m2s\u001b[0m 21ms/step - accuracy: 0.9764 - loss: 0.0460 - val_accuracy: 0.9467 - val_loss: 0.2920\n",
      "Epoch 96/100\n",
      "\u001b[1m111/111\u001b[0m \u001b[32m━━━━━━━━━━━━━━━━━━━━\u001b[0m\u001b[37m\u001b[0m \u001b[1m2s\u001b[0m 20ms/step - accuracy: 0.9799 - loss: 0.0442 - val_accuracy: 0.9467 - val_loss: 0.2591\n",
      "Epoch 97/100\n",
      "\u001b[1m111/111\u001b[0m \u001b[32m━━━━━━━━━━━━━━━━━━━━\u001b[0m\u001b[37m\u001b[0m \u001b[1m2s\u001b[0m 20ms/step - accuracy: 0.9786 - loss: 0.0570 - val_accuracy: 0.9569 - val_loss: 0.2150\n",
      "Epoch 98/100\n",
      "\u001b[1m111/111\u001b[0m \u001b[32m━━━━━━━━━━━━━━━━━━━━\u001b[0m\u001b[37m\u001b[0m \u001b[1m2s\u001b[0m 20ms/step - accuracy: 0.9781 - loss: 0.0502 - val_accuracy: 0.9594 - val_loss: 0.2084\n",
      "Epoch 99/100\n",
      "\u001b[1m111/111\u001b[0m \u001b[32m━━━━━━━━━━━━━━━━━━━━\u001b[0m\u001b[37m\u001b[0m \u001b[1m2s\u001b[0m 21ms/step - accuracy: 0.9797 - loss: 0.0510 - val_accuracy: 0.9594 - val_loss: 0.2151\n",
      "Epoch 100/100\n",
      "\u001b[1m111/111\u001b[0m \u001b[32m━━━━━━━━━━━━━━━━━━━━\u001b[0m\u001b[37m\u001b[0m \u001b[1m2s\u001b[0m 21ms/step - accuracy: 0.9805 - loss: 0.0477 - val_accuracy: 0.9619 - val_loss: 0.2050\n"
     ]
    }
   ],
   "source": [
    "# -------------------------\n",
    "# 3. Train the Model\n",
    "# -------------------------\n",
    "batch_size = 32\n",
    "epochs = 100  # Increase epochs if necessary\n",
    "\n",
    "history = model.fit(\n",
    "    [X_symptoms_train, X_weights_train], y_train,\n",
    "    validation_split=0.1,\n",
    "    batch_size=batch_size,\n",
    "    epochs=epochs,\n",
    "    verbose=1\n",
    ")"
   ]
  },
  {
   "cell_type": "code",
   "execution_count": 82,
   "metadata": {},
   "outputs": [
    {
     "name": "stdout",
     "output_type": "stream",
     "text": [
      "Training Loss per Epoch: [1.0830178260803223, 0.21875503659248352, 0.18719279766082764, 0.15745414793491364, 0.15319404006004333, 0.1508530229330063, 0.12229066342115402, 0.11963298171758652, 0.11407046020030975, 0.10815343260765076, 0.11079342663288116, 0.10205645114183426, 0.10821212828159332, 0.09422022104263306, 0.0899670198559761, 0.09018604457378387, 0.08797375857830048, 0.0935760959982872, 0.08171256631612778, 0.08909013122320175, 0.0834713727235794, 0.07898030430078506, 0.07997448742389679, 0.09196992218494415, 0.1093437448143959, 0.09706194698810577, 0.08009596168994904, 0.08349788933992386, 0.08291264623403549, 0.07592872530221939, 0.07117072492837906, 0.08303602039813995, 0.09965499490499496, 0.08682779967784882, 0.07962619513273239, 0.0781397596001625, 0.06969721615314484, 0.06611645966768265, 0.06975080817937851, 0.07970930635929108, 0.08140679448843002, 0.07216545939445496, 0.06755562871694565, 0.06906858831644058, 0.06086354702711105, 0.06487488001585007, 0.063585065305233, 0.06445998698472977, 0.06719639897346497, 0.06462864577770233, 0.07801271975040436, 0.07943215221166611, 0.08460694551467896, 0.08303675055503845, 0.06896624714136124, 0.06716731935739517, 0.07074254751205444, 0.0666339099407196, 0.06057671457529068, 0.05565495043992996, 0.054931413382291794, 0.05720207840204239, 0.06589619815349579, 0.059191957116127014, 0.06739488244056702, 0.06766820698976517, 0.07635563611984253, 0.06116309016942978, 0.060771260410547256, 0.06116531789302826, 0.05925198271870613, 0.05564267188310623, 0.06042982637882233, 0.06063125655055046, 0.05552075430750847, 0.06392576545476913, 0.05937281250953674, 0.047918468713760376, 0.056864384561777115, 0.05928623676300049, 0.05358877778053284, 0.0555490180850029, 0.05542375147342682, 0.04958586394786835, 0.05313142389059067, 0.05694932863116264, 0.05470132827758789, 0.05581628903746605, 0.053716979920864105, 0.05384029820561409, 0.05713455379009247, 0.047802820801734924, 0.05425216630101204, 0.05438410863280296, 0.05172513797879219, 0.04714827239513397, 0.06523484736680984, 0.0587250255048275, 0.05547700822353363, 0.049540724605321884]\n",
      "Validation Loss per Epoch: [0.24813753366470337, 0.21078716218471527, 0.22836019098758698, 0.19396120309829712, 0.19889603555202484, 0.15572382509708405, 0.1825578808784485, 0.18813946843147278, 0.20021294057369232, 0.16296839714050293, 0.17225706577301025, 0.1554870754480362, 0.18527212738990784, 0.15025067329406738, 0.17756763100624084, 0.15334907174110413, 0.18732088804244995, 0.16020439565181732, 0.14177677035331726, 0.1774880588054657, 0.1627005785703659, 0.18972453474998474, 0.16258665919303894, 0.22420598566532135, 0.18618689477443695, 0.1564897745847702, 0.17147648334503174, 0.17583218216896057, 0.21223774552345276, 0.19894473254680634, 0.17704343795776367, 0.19529478251934052, 0.20034968852996826, 0.1650182604789734, 0.18200017511844635, 0.16048698127269745, 0.1784093976020813, 0.16625724732875824, 0.17164276540279388, 0.1940930336713791, 0.20153017342090607, 0.1737985759973526, 0.16929122805595398, 0.1740613430738449, 0.1783733069896698, 0.18745261430740356, 0.2069016844034195, 0.20275618135929108, 0.18351125717163086, 0.16788038611412048, 0.197731152176857, 0.2286449372768402, 0.21670766174793243, 0.1837669014930725, 0.18868137896060944, 0.2000514566898346, 0.17845670878887177, 0.18191270530223846, 0.17833158373832703, 0.18423520028591156, 0.2064124196767807, 0.20838992297649384, 0.1800522357225418, 0.19800350069999695, 0.18405771255493164, 0.16846808791160583, 0.16047583520412445, 0.17548704147338867, 0.1835966408252716, 0.21937620639801025, 0.18042075634002686, 0.19822603464126587, 0.21434038877487183, 0.19782963395118713, 0.23109790682792664, 0.192345529794693, 0.20162531733512878, 0.21700002253055573, 0.21523120999336243, 0.18494383990764618, 0.21231453120708466, 0.19017158448696136, 0.2003389149904251, 0.2008044421672821, 0.22352372109889984, 0.22615152597427368, 0.21703386306762695, 0.19953493773937225, 0.20854723453521729, 0.1968020647764206, 0.18104305863380432, 0.19330966472625732, 0.24031440913677216, 0.2436988800764084, 0.29202866554260254, 0.2590981423854828, 0.21499991416931152, 0.20844389498233795, 0.21513520181179047, 0.2049959897994995]\n"
     ]
    },
    {
     "data": {
      "image/png": "[encoded data removed]",
      "text/plain": [
       "<Figure size 800x400 with 1 Axes>"
      ]
     },
     "metadata": {},
     "output_type": "display_data"
    }
   ],
   "source": [
    "# ----------------------------------------------------------------\n",
    "# Print and Plot Train vs. Validation Loss\n",
    "# ----------------------------------------------------------------\n",
    "train_loss = history.history['loss']\n",
    "val_loss = history.history['val_loss']\n",
    "print(\"Training Loss per Epoch:\", train_loss)\n",
    "print(\"Validation Loss per Epoch:\", val_loss)\n",
    "\n",
    "plt.figure(figsize=(8, 4))\n",
    "plt.plot(train_loss, label='Train Loss')\n",
    "plt.plot(val_loss, label='Validation Loss')\n",
    "plt.xlabel('Epoch')\n",
    "plt.ylabel('Loss')\n",
    "plt.title('Training vs. Validation Loss')\n",
    "plt.legend()\n",
    "plt.show()"
   ]
  },
  {
   "cell_type": "code",
   "execution_count": 83,
   "metadata": {},
   "outputs": [
    {
     "name": "stdout",
     "output_type": "stream",
     "text": [
      "Training Accuracy per Epoch: [0.7603049278259277, 0.9195370078086853, 0.9308300614356995, 0.939864456653595, 0.9381705522537231, 0.9387351870536804, 0.9505928754806519, 0.9474872946739197, 0.9477696418762207, 0.9548277854919434, 0.9522868394851685, 0.9568040370941162, 0.953698456287384, 0.9604743123054504, 0.9579333662986755, 0.9610389471054077, 0.9579333662986755, 0.9573687314987183, 0.962168276309967, 0.9587803483009338, 0.9610389471054077, 0.9613212943077087, 0.9613212943077087, 0.9579333662986755, 0.9568040370941162, 0.9579333662986755, 0.9630152583122253, 0.9632975459098816, 0.9632975459098816, 0.9649915099143982, 0.9661208391189575, 0.9627329111099243, 0.9610389471054077, 0.9607566595077515, 0.9627329111099243, 0.962168276309967, 0.9658384919166565, 0.9692264199256897, 0.9680970907211304, 0.9632975459098816, 0.9649915099143982, 0.9692264199256897, 0.9666854739189148, 0.9692264199256897, 0.9689440727233887, 0.969791054725647, 0.9683794379234314, 0.9692264199256897, 0.9689440727233887, 0.9723320007324219, 0.9678148031234741, 0.9658384919166565, 0.9624505639076233, 0.9647092223167419, 0.9706380367279053, 0.9692264199256897, 0.9678148031234741, 0.9689440727233887, 0.970355749130249, 0.9751552939414978, 0.9748729467391968, 0.9751552939414978, 0.9712027311325073, 0.9717673659324646, 0.9720497131347656, 0.9726143479347229, 0.9692264199256897, 0.9734613299369812, 0.9737436771392822, 0.9751552939414978, 0.9731789827346802, 0.9765669107437134, 0.9731789827346802, 0.970355749130249, 0.9757199287414551, 0.9709203839302063, 0.9731789827346802, 0.9760022759437561, 0.9762845635414124, 0.9748729467391968, 0.9748729467391968, 0.975437581539154, 0.9757199287414551, 0.9774138927459717, 0.9751552939414978, 0.9751552939414978, 0.9771315455436707, 0.9762845635414124, 0.9768492579460144, 0.977978527545929, 0.9762845635414124, 0.9760022759437561, 0.9776962399482727, 0.9728966951370239, 0.9751552939414978, 0.9791078567504883, 0.9731789827346802, 0.9751552939414978, 0.9771315455436707, 0.9768492579460144]\n",
      "Validation Accuracy per Epoch: [0.9390863180160522, 0.9238578677177429, 0.9289340376853943, 0.9340101480484009, 0.9238578677177429, 0.9517766237258911, 0.9390863180160522, 0.9289340376853943, 0.9289340376853943, 0.9517766237258911, 0.9467005133628845, 0.9467005133628845, 0.9441624283790588, 0.9568527936935425, 0.9492385983467102, 0.9568527936935425, 0.9416243433952332, 0.9467005133628845, 0.9543147087097168, 0.9441624283790588, 0.9568527936935425, 0.9365482330322266, 0.9492385983467102, 0.9340101480484009, 0.9365482330322266, 0.9416243433952332, 0.9593908786773682, 0.9416243433952332, 0.9365482330322266, 0.9467005133628845, 0.9492385983467102, 0.9492385983467102, 0.9593908786773682, 0.9517766237258911, 0.9517766237258911, 0.9568527936935425, 0.9644669890403748, 0.9467005133628845, 0.9517766237258911, 0.9517766237258911, 0.9517766237258911, 0.9568527936935425, 0.9543147087097168, 0.9517766237258911, 0.9568527936935425, 0.9619289636611938, 0.9517766237258911, 0.9467005133628845, 0.9492385983467102, 0.9746192693710327, 0.9593908786773682, 0.9314720630645752, 0.9390863180160522, 0.9517766237258911, 0.9467005133628845, 0.9492385983467102, 0.9517766237258911, 0.9517766237258911, 0.9543147087097168, 0.9543147087097168, 0.9517766237258911, 0.9467005133628845, 0.9467005133628845, 0.9644669890403748, 0.9593908786773682, 0.9644669890403748, 0.9670050740242004, 0.9568527936935425, 0.9644669890403748, 0.9543147087097168, 0.9593908786773682, 0.9416243433952332, 0.9492385983467102, 0.9517766237258911, 0.9416243433952332, 0.9619289636611938, 0.9543147087097168, 0.9517766237258911, 0.9492385983467102, 0.9593908786773682, 0.9543147087097168, 0.9670050740242004, 0.9543147087097168, 0.9619289636611938, 0.9543147087097168, 0.9492385983467102, 0.9568527936935425, 0.9670050740242004, 0.9644669890403748, 0.9593908786773682, 0.9695431590080261, 0.9593908786773682, 0.9517766237258911, 0.9517766237258911, 0.9467005133628845, 0.9467005133628845, 0.9568527936935425, 0.9593908786773682, 0.9593908786773682, 0.9619289636611938]\n"
     ]
    },
    {
     "data": {
      "image/png": "[encoded data removed]",
      "text/plain": [
       "<Figure size 800x400 with 1 Axes>"
      ]
     },
     "metadata": {},
     "output_type": "display_data"
    }
   ],
   "source": [
    "# ----------------------------------------------------------------\n",
    "# Print and Plot Train vs. Validation Accuracy\n",
    "# ----------------------------------------------------------------\n",
    "train_acc = history.history['accuracy']\n",
    "val_acc = history.history['val_accuracy']\n",
    "print(\"Training Accuracy per Epoch:\", train_acc)\n",
    "print(\"Validation Accuracy per Epoch:\", val_acc)\n",
    "\n",
    "plt.figure(figsize=(8, 4))\n",
    "plt.plot(train_acc, label='Train Accuracy')\n",
    "plt.plot(val_acc, label='Validation Accuracy')\n",
    "plt.xlabel('Epoch')\n",
    "plt.ylabel('Accuracy')\n",
    "plt.title('Training vs. Validation Accuracy')\n",
    "plt.legend()\n",
    "plt.show()"
   ]
  },
  {
   "cell_type": "code",
   "execution_count": 68,
   "metadata": {},
   "outputs": [
    {
     "name": "stdout",
     "output_type": "stream",
     "text": [
      "Test Loss: 0.2481 | Test Accuracy: 0.9472\n"
     ]
    }
   ],
   "source": [
    "# -------------------------\n",
    "# 4. Evaluate the Model\n",
    "# -------------------------\n",
    "loss, accuracy = model.evaluate([X_symptoms_test, X_weights_test], y_test, verbose=0)\n",
    "print(f\"Test Loss: {loss:.4f} | Test Accuracy: {accuracy:.4f}\")\n"
   ]
  },
  {
   "cell_type": "code",
   "execution_count": null,
   "metadata": {},
   "outputs": [
    {
     "name": "stdout",
     "output_type": "stream",
     "text": [
      "\u001b[1m1/1\u001b[0m \u001b[32m━━━━━━━━━━━━━━━━━━━━\u001b[0m\u001b[37m\u001b[0m \u001b[1m0s\u001b[0m 38ms/step\n",
      "Predicted Disease: Hypothyroidism\n"
     ]
    }
   ],
   "source": [
    "# -------------------------\n",
    "# 5. Making Predictions\n",
    "# -------------------------\n",
    "\n",
    "# For making predictions on new data, make sure to preprocess the symptom tokens and weights similarly.\n",
    "\n",
    "# Example:\n",
    "\n",
    "new_symptoms = \"fatigue ,weight_gain , anxiety\"\n",
    "new_weights = [5, 6, 7]\n",
    "new_tokens = [sym.strip() for sym in new_symptoms.split(',')]\n",
    "new_seq = tokenizer.texts_to_sequences(new_tokens)\n",
    "new_seq = [item for sub in new_seq for item in sub]\n",
    "new_seq = pad_sequences([new_seq], maxlen=max_len, padding='post')\n",
    "new_weights = np.array([np.pad(new_weights, (0, max_len - len(new_weights)), 'constant')])\n",
    "prediction = model.predict([new_seq, new_weights])\n",
    "predicted_label = label_encoder.inverse_transform([np.argmax(prediction)])\n",
    "print(\"Predicted Disease:\", predicted_label[0])\n"
   ]
  },
  {
   "cell_type": "markdown",
   "metadata": {},
   "source": [
    "*********************************** Using Attention Layer *********************************************************"
   ]
  },
  {
   "cell_type": "code",
   "execution_count": 91,
   "metadata": {},
   "outputs": [],
   "source": [
    "import tensorflow as tf\n",
    "from tensorflow.keras.layers import (\n",
    "    Input, Embedding, LSTM, Dense, Dropout, Multiply, Reshape, LayerNormalization, GlobalAveragePooling1D\n",
    ")\n",
    "from tensorflow.keras.layers import MultiHeadAttention\n",
    "from tensorflow.keras.models import Model\n",
    "from tensorflow.keras.preprocessing.sequence import pad_sequences"
   ]
  },
  {
   "cell_type": "code",
   "execution_count": 92,
   "metadata": {},
   "outputs": [
    {
     "name": "stderr",
     "output_type": "stream",
     "text": [
      "/home/shashank/anaconda3/envs/tf-env/lib/python3.10/site-packages/keras/src/layers/core/embedding.py:90: UserWarning: Argument `input_length` is deprecated. Just remove it.\n",
      "  warnings.warn(\n"
     ]
    }
   ],
   "source": [
    "embedding_dim = 512  # dimension for symptom embeddings\n",
    "\n",
    "# ---------------------------\n",
    "# Build the Enhanced Model Architecture with Multiple Attention Layers\n",
    "# ---------------------------\n",
    "\n",
    "# Input layers for the symptom sequences and their associated weights\n",
    "symptoms_input = Input(shape=(max_len,), name=\"symptoms_input\")\n",
    "weights_input = Input(shape=(max_len,), name=\"weights_input\")\n",
    "\n",
    "# Embedding layer for symptoms\n",
    "embedding_layer = Embedding(input_dim=vocab_size,\n",
    "                            output_dim=embedding_dim,\n",
    "                            input_length=max_len,\n",
    "                            name=\"symptom_embedding\")\n",
    "embedded_symptoms = embedding_layer(symptoms_input)\n",
    "\n",
    "# Reshape the weights so they are compatible for element-wise multiplication\n",
    "weights_reshaped = Reshape((max_len, 1), name=\"reshape_weights\")(weights_input)\n",
    "\n",
    "# Multiply the symptom embeddings by their weights\n",
    "weighted_embedding = Multiply(name=\"weighted_embedding\")([embedded_symptoms, weights_reshaped])\n",
    "\n",
    "# LSTM layer that outputs a hidden state for each time step\n",
    "lstm_out = LSTM(512,\n",
    "                activation='tanh',\n",
    "                recurrent_activation='sigmoid',\n",
    "                recurrent_dropout=0.2,\n",
    "                return_sequences=True,\n",
    "                name=\"lstm_layer\")(weighted_embedding)"
   ]
  },
  {
   "cell_type": "code",
   "execution_count": 93,
   "metadata": {},
   "outputs": [],
   "source": [
    "# ----------------------------------------\n",
    "# First Multi-Head Attention Block\n",
    "# ----------------------------------------\n",
    "# Use the LSTM outputs as the query, key and value.\n",
    "attention_1 = MultiHeadAttention(num_heads=8, key_dim=64, name=\"multihead_attention_1\")(\n",
    "    query=lstm_out,\n",
    "    value=lstm_out,\n",
    "    key=lstm_out\n",
    ")\n",
    "# Apply a residual connection followed by layer normalization.\n",
    "attn_out_1 = tf.keras.layers.Add(name=\"residual_1\")([lstm_out, attention_1])\n",
    "attn_norm_1 = LayerNormalization(epsilon=1e-6, name=\"layer_norm_1\")(attn_out_1)\n"
   ]
  },
  {
   "cell_type": "code",
   "execution_count": 94,
   "metadata": {},
   "outputs": [
    {
     "data": {
      "text/html": [
       "<pre style=\"white-space:pre;overflow-x:auto;line-height:normal;font-family:Menlo,'DejaVu Sans Mono',consolas,'Courier New',monospace\"><span style=\"font-weight: bold\">Model: \"functional_2\"</span>\n",
       "</pre>\n"
      ],
      "text/plain": [
       "\u001b[1mModel: \"functional_2\"\u001b[0m\n"
      ]
     },
     "metadata": {},
     "output_type": "display_data"
    },
    {
     "data": {
      "text/html": [
       "<pre style=\"white-space:pre;overflow-x:auto;line-height:normal;font-family:Menlo,'DejaVu Sans Mono',consolas,'Courier New',monospace\">┏━━━━━━━━━━━━━━━━━━━━━┳━━━━━━━━━━━━━━━━━━━┳━━━━━━━━━━━━┳━━━━━━━━━━━━━━━━━━━┓\n",
       "┃<span style=\"font-weight: bold\"> Layer (type)        </span>┃<span style=\"font-weight: bold\"> Output Shape      </span>┃<span style=\"font-weight: bold\">    Param # </span>┃<span style=\"font-weight: bold\"> Connected to      </span>┃\n",
       "┡━━━━━━━━━━━━━━━━━━━━━╇━━━━━━━━━━━━━━━━━━━╇━━━━━━━━━━━━╇━━━━━━━━━━━━━━━━━━━┩\n",
       "│ symptoms_input      │ (<span style=\"color: #00d7ff; text-decoration-color: #00d7ff\">None</span>, <span style=\"color: #00af00; text-decoration-color: #00af00\">4</span>)         │          <span style=\"color: #00af00; text-decoration-color: #00af00\">0</span> │ -                 │\n",
       "│ (<span style=\"color: #0087ff; text-decoration-color: #0087ff\">InputLayer</span>)        │                   │            │                   │\n",
       "├─────────────────────┼───────────────────┼────────────┼───────────────────┤\n",
       "│ weights_input       │ (<span style=\"color: #00d7ff; text-decoration-color: #00d7ff\">None</span>, <span style=\"color: #00af00; text-decoration-color: #00af00\">4</span>)         │          <span style=\"color: #00af00; text-decoration-color: #00af00\">0</span> │ -                 │\n",
       "│ (<span style=\"color: #0087ff; text-decoration-color: #0087ff\">InputLayer</span>)        │                   │            │                   │\n",
       "├─────────────────────┼───────────────────┼────────────┼───────────────────┤\n",
       "│ symptom_embedding   │ (<span style=\"color: #00d7ff; text-decoration-color: #00d7ff\">None</span>, <span style=\"color: #00af00; text-decoration-color: #00af00\">4</span>, <span style=\"color: #00af00; text-decoration-color: #00af00\">512</span>)    │     <span style=\"color: #00af00; text-decoration-color: #00af00\">73,216</span> │ symptoms_input[<span style=\"color: #00af00; text-decoration-color: #00af00\">0</span>… │\n",
       "│ (<span style=\"color: #0087ff; text-decoration-color: #0087ff\">Embedding</span>)         │                   │            │                   │\n",
       "├─────────────────────┼───────────────────┼────────────┼───────────────────┤\n",
       "│ reshape_weights     │ (<span style=\"color: #00d7ff; text-decoration-color: #00d7ff\">None</span>, <span style=\"color: #00af00; text-decoration-color: #00af00\">4</span>, <span style=\"color: #00af00; text-decoration-color: #00af00\">1</span>)      │          <span style=\"color: #00af00; text-decoration-color: #00af00\">0</span> │ weights_input[<span style=\"color: #00af00; text-decoration-color: #00af00\">0</span>]… │\n",
       "│ (<span style=\"color: #0087ff; text-decoration-color: #0087ff\">Reshape</span>)           │                   │            │                   │\n",
       "├─────────────────────┼───────────────────┼────────────┼───────────────────┤\n",
       "│ weighted_embedding  │ (<span style=\"color: #00d7ff; text-decoration-color: #00d7ff\">None</span>, <span style=\"color: #00af00; text-decoration-color: #00af00\">4</span>, <span style=\"color: #00af00; text-decoration-color: #00af00\">512</span>)    │          <span style=\"color: #00af00; text-decoration-color: #00af00\">0</span> │ symptom_embeddin… │\n",
       "│ (<span style=\"color: #0087ff; text-decoration-color: #0087ff\">Multiply</span>)          │                   │            │ reshape_weights[<span style=\"color: #00af00; text-decoration-color: #00af00\">…</span> │\n",
       "├─────────────────────┼───────────────────┼────────────┼───────────────────┤\n",
       "│ lstm_layer (<span style=\"color: #0087ff; text-decoration-color: #0087ff\">LSTM</span>)   │ (<span style=\"color: #00d7ff; text-decoration-color: #00d7ff\">None</span>, <span style=\"color: #00af00; text-decoration-color: #00af00\">4</span>, <span style=\"color: #00af00; text-decoration-color: #00af00\">512</span>)    │  <span style=\"color: #00af00; text-decoration-color: #00af00\">2,099,200</span> │ weighted_embeddi… │\n",
       "├─────────────────────┼───────────────────┼────────────┼───────────────────┤\n",
       "│ multihead_attentio… │ (<span style=\"color: #00d7ff; text-decoration-color: #00d7ff\">None</span>, <span style=\"color: #00af00; text-decoration-color: #00af00\">4</span>, <span style=\"color: #00af00; text-decoration-color: #00af00\">512</span>)    │  <span style=\"color: #00af00; text-decoration-color: #00af00\">1,050,624</span> │ lstm_layer[<span style=\"color: #00af00; text-decoration-color: #00af00\">0</span>][<span style=\"color: #00af00; text-decoration-color: #00af00\">0</span>], │\n",
       "│ (<span style=\"color: #0087ff; text-decoration-color: #0087ff\">MultiHeadAttentio…</span> │                   │            │ lstm_layer[<span style=\"color: #00af00; text-decoration-color: #00af00\">0</span>][<span style=\"color: #00af00; text-decoration-color: #00af00\">0</span>], │\n",
       "│                     │                   │            │ lstm_layer[<span style=\"color: #00af00; text-decoration-color: #00af00\">0</span>][<span style=\"color: #00af00; text-decoration-color: #00af00\">0</span>]  │\n",
       "├─────────────────────┼───────────────────┼────────────┼───────────────────┤\n",
       "│ residual_1 (<span style=\"color: #0087ff; text-decoration-color: #0087ff\">Add</span>)    │ (<span style=\"color: #00d7ff; text-decoration-color: #00d7ff\">None</span>, <span style=\"color: #00af00; text-decoration-color: #00af00\">4</span>, <span style=\"color: #00af00; text-decoration-color: #00af00\">512</span>)    │          <span style=\"color: #00af00; text-decoration-color: #00af00\">0</span> │ lstm_layer[<span style=\"color: #00af00; text-decoration-color: #00af00\">0</span>][<span style=\"color: #00af00; text-decoration-color: #00af00\">0</span>], │\n",
       "│                     │                   │            │ multihead_attent… │\n",
       "├─────────────────────┼───────────────────┼────────────┼───────────────────┤\n",
       "│ layer_norm_1        │ (<span style=\"color: #00d7ff; text-decoration-color: #00d7ff\">None</span>, <span style=\"color: #00af00; text-decoration-color: #00af00\">4</span>, <span style=\"color: #00af00; text-decoration-color: #00af00\">512</span>)    │      <span style=\"color: #00af00; text-decoration-color: #00af00\">1,024</span> │ residual_1[<span style=\"color: #00af00; text-decoration-color: #00af00\">0</span>][<span style=\"color: #00af00; text-decoration-color: #00af00\">0</span>]  │\n",
       "│ (<span style=\"color: #0087ff; text-decoration-color: #0087ff\">LayerNormalizatio…</span> │                   │            │                   │\n",
       "├─────────────────────┼───────────────────┼────────────┼───────────────────┤\n",
       "│ multihead_attentio… │ (<span style=\"color: #00d7ff; text-decoration-color: #00d7ff\">None</span>, <span style=\"color: #00af00; text-decoration-color: #00af00\">4</span>, <span style=\"color: #00af00; text-decoration-color: #00af00\">512</span>)    │  <span style=\"color: #00af00; text-decoration-color: #00af00\">1,050,624</span> │ layer_norm_1[<span style=\"color: #00af00; text-decoration-color: #00af00\">0</span>][<span style=\"color: #00af00; text-decoration-color: #00af00\">…</span> │\n",
       "│ (<span style=\"color: #0087ff; text-decoration-color: #0087ff\">MultiHeadAttentio…</span> │                   │            │ layer_norm_1[<span style=\"color: #00af00; text-decoration-color: #00af00\">0</span>][<span style=\"color: #00af00; text-decoration-color: #00af00\">…</span> │\n",
       "│                     │                   │            │ layer_norm_1[<span style=\"color: #00af00; text-decoration-color: #00af00\">0</span>][<span style=\"color: #00af00; text-decoration-color: #00af00\">…</span> │\n",
       "├─────────────────────┼───────────────────┼────────────┼───────────────────┤\n",
       "│ residual_2 (<span style=\"color: #0087ff; text-decoration-color: #0087ff\">Add</span>)    │ (<span style=\"color: #00d7ff; text-decoration-color: #00d7ff\">None</span>, <span style=\"color: #00af00; text-decoration-color: #00af00\">4</span>, <span style=\"color: #00af00; text-decoration-color: #00af00\">512</span>)    │          <span style=\"color: #00af00; text-decoration-color: #00af00\">0</span> │ layer_norm_1[<span style=\"color: #00af00; text-decoration-color: #00af00\">0</span>][<span style=\"color: #00af00; text-decoration-color: #00af00\">…</span> │\n",
       "│                     │                   │            │ multihead_attent… │\n",
       "├─────────────────────┼───────────────────┼────────────┼───────────────────┤\n",
       "│ layer_norm_2        │ (<span style=\"color: #00d7ff; text-decoration-color: #00d7ff\">None</span>, <span style=\"color: #00af00; text-decoration-color: #00af00\">4</span>, <span style=\"color: #00af00; text-decoration-color: #00af00\">512</span>)    │      <span style=\"color: #00af00; text-decoration-color: #00af00\">1,024</span> │ residual_2[<span style=\"color: #00af00; text-decoration-color: #00af00\">0</span>][<span style=\"color: #00af00; text-decoration-color: #00af00\">0</span>]  │\n",
       "│ (<span style=\"color: #0087ff; text-decoration-color: #0087ff\">LayerNormalizatio…</span> │                   │            │                   │\n",
       "├─────────────────────┼───────────────────┼────────────┼───────────────────┤\n",
       "│ global_avg_pool     │ (<span style=\"color: #00d7ff; text-decoration-color: #00d7ff\">None</span>, <span style=\"color: #00af00; text-decoration-color: #00af00\">512</span>)       │          <span style=\"color: #00af00; text-decoration-color: #00af00\">0</span> │ layer_norm_2[<span style=\"color: #00af00; text-decoration-color: #00af00\">0</span>][<span style=\"color: #00af00; text-decoration-color: #00af00\">…</span> │\n",
       "│ (<span style=\"color: #0087ff; text-decoration-color: #0087ff\">GlobalAveragePool…</span> │                   │            │                   │\n",
       "├─────────────────────┼───────────────────┼────────────┼───────────────────┤\n",
       "│ dropout_layer       │ (<span style=\"color: #00d7ff; text-decoration-color: #00d7ff\">None</span>, <span style=\"color: #00af00; text-decoration-color: #00af00\">512</span>)       │          <span style=\"color: #00af00; text-decoration-color: #00af00\">0</span> │ global_avg_pool[<span style=\"color: #00af00; text-decoration-color: #00af00\">…</span> │\n",
       "│ (<span style=\"color: #0087ff; text-decoration-color: #0087ff\">Dropout</span>)           │                   │            │                   │\n",
       "├─────────────────────┼───────────────────┼────────────┼───────────────────┤\n",
       "│ dense_layer (<span style=\"color: #0087ff; text-decoration-color: #0087ff\">Dense</span>) │ (<span style=\"color: #00d7ff; text-decoration-color: #00d7ff\">None</span>, <span style=\"color: #00af00; text-decoration-color: #00af00\">128</span>)       │     <span style=\"color: #00af00; text-decoration-color: #00af00\">65,664</span> │ dropout_layer[<span style=\"color: #00af00; text-decoration-color: #00af00\">0</span>]… │\n",
       "├─────────────────────┼───────────────────┼────────────┼───────────────────┤\n",
       "│ output_layer        │ (<span style=\"color: #00d7ff; text-decoration-color: #00d7ff\">None</span>, <span style=\"color: #00af00; text-decoration-color: #00af00\">41</span>)        │      <span style=\"color: #00af00; text-decoration-color: #00af00\">5,289</span> │ dense_layer[<span style=\"color: #00af00; text-decoration-color: #00af00\">0</span>][<span style=\"color: #00af00; text-decoration-color: #00af00\">0</span>] │\n",
       "│ (<span style=\"color: #0087ff; text-decoration-color: #0087ff\">Dense</span>)             │                   │            │                   │\n",
       "└─────────────────────┴───────────────────┴────────────┴───────────────────┘\n",
       "</pre>\n"
      ],
      "text/plain": [
       "┏━━━━━━━━━━━━━━━━━━━━━┳━━━━━━━━━━━━━━━━━━━┳━━━━━━━━━━━━┳━━━━━━━━━━━━━━━━━━━┓\n",
       "┃\u001b[1m \u001b[0m\u001b[1mLayer (type)       \u001b[0m\u001b[1m \u001b[0m┃\u001b[1m \u001b[0m\u001b[1mOutput Shape     \u001b[0m\u001b[1m \u001b[0m┃\u001b[1m \u001b[0m\u001b[1m   Param #\u001b[0m\u001b[1m \u001b[0m┃\u001b[1m \u001b[0m\u001b[1mConnected to     \u001b[0m\u001b[1m \u001b[0m┃\n",
       "┡━━━━━━━━━━━━━━━━━━━━━╇━━━━━━━━━━━━━━━━━━━╇━━━━━━━━━━━━╇━━━━━━━━━━━━━━━━━━━┩\n",
       "│ symptoms_input      │ (\u001b[38;5;45mNone\u001b[0m, \u001b[38;5;34m4\u001b[0m)         │          \u001b[38;5;34m0\u001b[0m │ -                 │\n",
       "│ (\u001b[38;5;33mInputLayer\u001b[0m)        │                   │            │                   │\n",
       "├─────────────────────┼───────────────────┼────────────┼───────────────────┤\n",
       "│ weights_input       │ (\u001b[38;5;45mNone\u001b[0m, \u001b[38;5;34m4\u001b[0m)         │          \u001b[38;5;34m0\u001b[0m │ -                 │\n",
       "│ (\u001b[38;5;33mInputLayer\u001b[0m)        │                   │            │                   │\n",
       "├─────────────────────┼───────────────────┼────────────┼───────────────────┤\n",
       "│ symptom_embedding   │ (\u001b[38;5;45mNone\u001b[0m, \u001b[38;5;34m4\u001b[0m, \u001b[38;5;34m512\u001b[0m)    │     \u001b[38;5;34m73,216\u001b[0m │ symptoms_input[\u001b[38;5;34m0\u001b[0m… │\n",
       "│ (\u001b[38;5;33mEmbedding\u001b[0m)         │                   │            │                   │\n",
       "├─────────────────────┼───────────────────┼────────────┼───────────────────┤\n",
       "│ reshape_weights     │ (\u001b[38;5;45mNone\u001b[0m, \u001b[38;5;34m4\u001b[0m, \u001b[38;5;34m1\u001b[0m)      │          \u001b[38;5;34m0\u001b[0m │ weights_input[\u001b[38;5;34m0\u001b[0m]… │\n",
       "│ (\u001b[38;5;33mReshape\u001b[0m)           │                   │            │                   │\n",
       "├─────────────────────┼───────────────────┼────────────┼───────────────────┤\n",
       "│ weighted_embedding  │ (\u001b[38;5;45mNone\u001b[0m, \u001b[38;5;34m4\u001b[0m, \u001b[38;5;34m512\u001b[0m)    │          \u001b[38;5;34m0\u001b[0m │ symptom_embeddin… │\n",
       "│ (\u001b[38;5;33mMultiply\u001b[0m)          │                   │            │ reshape_weights[\u001b[38;5;34m…\u001b[0m │\n",
       "├─────────────────────┼───────────────────┼────────────┼───────────────────┤\n",
       "│ lstm_layer (\u001b[38;5;33mLSTM\u001b[0m)   │ (\u001b[38;5;45mNone\u001b[0m, \u001b[38;5;34m4\u001b[0m, \u001b[38;5;34m512\u001b[0m)    │  \u001b[38;5;34m2,099,200\u001b[0m │ weighted_embeddi… │\n",
       "├─────────────────────┼───────────────────┼────────────┼───────────────────┤\n",
       "│ multihead_attentio… │ (\u001b[38;5;45mNone\u001b[0m, \u001b[38;5;34m4\u001b[0m, \u001b[38;5;34m512\u001b[0m)    │  \u001b[38;5;34m1,050,624\u001b[0m │ lstm_layer[\u001b[38;5;34m0\u001b[0m][\u001b[38;5;34m0\u001b[0m], │\n",
       "│ (\u001b[38;5;33mMultiHeadAttentio…\u001b[0m │                   │            │ lstm_layer[\u001b[38;5;34m0\u001b[0m][\u001b[38;5;34m0\u001b[0m], │\n",
       "│                     │                   │            │ lstm_layer[\u001b[38;5;34m0\u001b[0m][\u001b[38;5;34m0\u001b[0m]  │\n",
       "├─────────────────────┼───────────────────┼────────────┼───────────────────┤\n",
       "│ residual_1 (\u001b[38;5;33mAdd\u001b[0m)    │ (\u001b[38;5;45mNone\u001b[0m, \u001b[38;5;34m4\u001b[0m, \u001b[38;5;34m512\u001b[0m)    │          \u001b[38;5;34m0\u001b[0m │ lstm_layer[\u001b[38;5;34m0\u001b[0m][\u001b[38;5;34m0\u001b[0m], │\n",
       "│                     │                   │            │ multihead_attent… │\n",
       "├─────────────────────┼───────────────────┼────────────┼───────────────────┤\n",
       "│ layer_norm_1        │ (\u001b[38;5;45mNone\u001b[0m, \u001b[38;5;34m4\u001b[0m, \u001b[38;5;34m512\u001b[0m)    │      \u001b[38;5;34m1,024\u001b[0m │ residual_1[\u001b[38;5;34m0\u001b[0m][\u001b[38;5;34m0\u001b[0m]  │\n",
       "│ (\u001b[38;5;33mLayerNormalizatio…\u001b[0m │                   │            │                   │\n",
       "├─────────────────────┼───────────────────┼────────────┼───────────────────┤\n",
       "│ multihead_attentio… │ (\u001b[38;5;45mNone\u001b[0m, \u001b[38;5;34m4\u001b[0m, \u001b[38;5;34m512\u001b[0m)    │  \u001b[38;5;34m1,050,624\u001b[0m │ layer_norm_1[\u001b[38;5;34m0\u001b[0m][\u001b[38;5;34m…\u001b[0m │\n",
       "│ (\u001b[38;5;33mMultiHeadAttentio…\u001b[0m │                   │            │ layer_norm_1[\u001b[38;5;34m0\u001b[0m][\u001b[38;5;34m…\u001b[0m │\n",
       "│                     │                   │            │ layer_norm_1[\u001b[38;5;34m0\u001b[0m][\u001b[38;5;34m…\u001b[0m │\n",
       "├─────────────────────┼───────────────────┼────────────┼───────────────────┤\n",
       "│ residual_2 (\u001b[38;5;33mAdd\u001b[0m)    │ (\u001b[38;5;45mNone\u001b[0m, \u001b[38;5;34m4\u001b[0m, \u001b[38;5;34m512\u001b[0m)    │          \u001b[38;5;34m0\u001b[0m │ layer_norm_1[\u001b[38;5;34m0\u001b[0m][\u001b[38;5;34m…\u001b[0m │\n",
       "│                     │                   │            │ multihead_attent… │\n",
       "├─────────────────────┼───────────────────┼────────────┼───────────────────┤\n",
       "│ layer_norm_2        │ (\u001b[38;5;45mNone\u001b[0m, \u001b[38;5;34m4\u001b[0m, \u001b[38;5;34m512\u001b[0m)    │      \u001b[38;5;34m1,024\u001b[0m │ residual_2[\u001b[38;5;34m0\u001b[0m][\u001b[38;5;34m0\u001b[0m]  │\n",
       "│ (\u001b[38;5;33mLayerNormalizatio…\u001b[0m │                   │            │                   │\n",
       "├─────────────────────┼───────────────────┼────────────┼───────────────────┤\n",
       "│ global_avg_pool     │ (\u001b[38;5;45mNone\u001b[0m, \u001b[38;5;34m512\u001b[0m)       │          \u001b[38;5;34m0\u001b[0m │ layer_norm_2[\u001b[38;5;34m0\u001b[0m][\u001b[38;5;34m…\u001b[0m │\n",
       "│ (\u001b[38;5;33mGlobalAveragePool…\u001b[0m │                   │            │                   │\n",
       "├─────────────────────┼───────────────────┼────────────┼───────────────────┤\n",
       "│ dropout_layer       │ (\u001b[38;5;45mNone\u001b[0m, \u001b[38;5;34m512\u001b[0m)       │          \u001b[38;5;34m0\u001b[0m │ global_avg_pool[\u001b[38;5;34m…\u001b[0m │\n",
       "│ (\u001b[38;5;33mDropout\u001b[0m)           │                   │            │                   │\n",
       "├─────────────────────┼───────────────────┼────────────┼───────────────────┤\n",
       "│ dense_layer (\u001b[38;5;33mDense\u001b[0m) │ (\u001b[38;5;45mNone\u001b[0m, \u001b[38;5;34m128\u001b[0m)       │     \u001b[38;5;34m65,664\u001b[0m │ dropout_layer[\u001b[38;5;34m0\u001b[0m]… │\n",
       "├─────────────────────┼───────────────────┼────────────┼───────────────────┤\n",
       "│ output_layer        │ (\u001b[38;5;45mNone\u001b[0m, \u001b[38;5;34m41\u001b[0m)        │      \u001b[38;5;34m5,289\u001b[0m │ dense_layer[\u001b[38;5;34m0\u001b[0m][\u001b[38;5;34m0\u001b[0m] │\n",
       "│ (\u001b[38;5;33mDense\u001b[0m)             │                   │            │                   │\n",
       "└─────────────────────┴───────────────────┴────────────┴───────────────────┘\n"
      ]
     },
     "metadata": {},
     "output_type": "display_data"
    },
    {
     "data": {
      "text/html": [
       "<pre style=\"white-space:pre;overflow-x:auto;line-height:normal;font-family:Menlo,'DejaVu Sans Mono',consolas,'Courier New',monospace\"><span style=\"font-weight: bold\"> Total params: </span><span style=\"color: #00af00; text-decoration-color: #00af00\">4,346,665</span> (16.58 MB)\n",
       "</pre>\n"
      ],
      "text/plain": [
       "\u001b[1m Total params: \u001b[0m\u001b[38;5;34m4,346,665\u001b[0m (16.58 MB)\n"
      ]
     },
     "metadata": {},
     "output_type": "display_data"
    },
    {
     "data": {
      "text/html": [
       "<pre style=\"white-space:pre;overflow-x:auto;line-height:normal;font-family:Menlo,'DejaVu Sans Mono',consolas,'Courier New',monospace\"><span style=\"font-weight: bold\"> Trainable params: </span><span style=\"color: #00af00; text-decoration-color: #00af00\">4,346,665</span> (16.58 MB)\n",
       "</pre>\n"
      ],
      "text/plain": [
       "\u001b[1m Trainable params: \u001b[0m\u001b[38;5;34m4,346,665\u001b[0m (16.58 MB)\n"
      ]
     },
     "metadata": {},
     "output_type": "display_data"
    },
    {
     "data": {
      "text/html": [
       "<pre style=\"white-space:pre;overflow-x:auto;line-height:normal;font-family:Menlo,'DejaVu Sans Mono',consolas,'Courier New',monospace\"><span style=\"font-weight: bold\"> Non-trainable params: </span><span style=\"color: #00af00; text-decoration-color: #00af00\">0</span> (0.00 B)\n",
       "</pre>\n"
      ],
      "text/plain": [
       "\u001b[1m Non-trainable params: \u001b[0m\u001b[38;5;34m0\u001b[0m (0.00 B)\n"
      ]
     },
     "metadata": {},
     "output_type": "display_data"
    }
   ],
   "source": [
    "# ----------------------------------------\n",
    "# Second Multi-Head Attention Block\n",
    "# ----------------------------------------\n",
    "# A second block refines the features further.\n",
    "attention_2 = MultiHeadAttention(num_heads=8, key_dim=64, name=\"multihead_attention_2\")(\n",
    "    query=attn_norm_1,\n",
    "    value=attn_norm_1,\n",
    "    key=attn_norm_1\n",
    ")\n",
    "# Again, use a residual connection and layer normalization.\n",
    "attn_out_2 = tf.keras.layers.Add(name=\"residual_2\")([attn_norm_1, attention_2])\n",
    "attn_norm_2 = LayerNormalization(epsilon=1e-6, name=\"layer_norm_2\")(attn_out_2)\n",
    "\n",
    "# Optionally, aggregate the sequence of features into one single vector.\n",
    "# Here we use global average pooling.\n",
    "global_context = GlobalAveragePooling1D(name=\"global_avg_pool\")(attn_norm_2)\n",
    "\n",
    "# A dropout can be added before feeding the representation to dense layers.\n",
    "drop = Dropout(0.5, name=\"dropout_layer\")(global_context)\n",
    "\n",
    "# Fully-connected layer for additional processing.\n",
    "dense1 = Dense(128, activation='relu', name=\"dense_layer\")(drop)\n",
    "\n",
    "# Output layer with softmax for multi-class classification.\n",
    "output = Dense(num_classes, activation='softmax', name=\"output_layer\")(dense1)\n",
    "\n",
    "# Build and compile the enhanced model.\n",
    "model_enhanced = Model(inputs=[symptoms_input, weights_input], outputs=output)\n",
    "model_enhanced.compile(optimizer='adam', loss='categorical_crossentropy', metrics=['accuracy'])\n",
    "\n",
    "# Display the model summary.\n",
    "model_enhanced.summary()"
   ]
  },
  {
   "cell_type": "code",
   "execution_count": 95,
   "metadata": {},
   "outputs": [
    {
     "name": "stdout",
     "output_type": "stream",
     "text": [
      "Epoch 1/100\n",
      "\u001b[1m111/111\u001b[0m \u001b[32m━━━━━━━━━━━━━━━━━━━━\u001b[0m\u001b[37m\u001b[0m \u001b[1m9s\u001b[0m 37ms/step - accuracy: 0.5980 - loss: 1.5295 - val_accuracy: 0.8452 - val_loss: 0.5153\n",
      "Epoch 2/100\n",
      "\u001b[1m111/111\u001b[0m \u001b[32m━━━━━━━━━━━━━━━━━━━━\u001b[0m\u001b[37m\u001b[0m \u001b[1m4s\u001b[0m 33ms/step - accuracy: 0.8558 - loss: 0.4430 - val_accuracy: 0.8731 - val_loss: 0.3508\n",
      "Epoch 3/100\n",
      "\u001b[1m111/111\u001b[0m \u001b[32m━━━━━━━━━━━━━━━━━━━━\u001b[0m\u001b[37m\u001b[0m \u001b[1m3s\u001b[0m 31ms/step - accuracy: 0.9029 - loss: 0.2879 - val_accuracy: 0.9112 - val_loss: 0.2649\n",
      "Epoch 4/100\n",
      "\u001b[1m111/111\u001b[0m \u001b[32m━━━━━━━━━━━━━━━━━━━━\u001b[0m\u001b[37m\u001b[0m \u001b[1m4s\u001b[0m 32ms/step - accuracy: 0.8992 - loss: 0.2806 - val_accuracy: 0.9162 - val_loss: 0.2580\n",
      "Epoch 5/100\n",
      "\u001b[1m111/111\u001b[0m \u001b[32m━━━━━━━━━━━━━━━━━━━━\u001b[0m\u001b[37m\u001b[0m \u001b[1m4s\u001b[0m 32ms/step - accuracy: 0.9188 - loss: 0.2519 - val_accuracy: 0.9010 - val_loss: 0.3087\n",
      "Epoch 6/100\n",
      "\u001b[1m111/111\u001b[0m \u001b[32m━━━━━━━━━━━━━━━━━━━━\u001b[0m\u001b[37m\u001b[0m \u001b[1m4s\u001b[0m 32ms/step - accuracy: 0.9147 - loss: 0.2472 - val_accuracy: 0.9213 - val_loss: 0.2461\n",
      "Epoch 7/100\n",
      "\u001b[1m111/111\u001b[0m \u001b[32m━━━━━━━━━━━━━━━━━━━━\u001b[0m\u001b[37m\u001b[0m \u001b[1m4s\u001b[0m 32ms/step - accuracy: 0.9264 - loss: 0.2066 - val_accuracy: 0.9213 - val_loss: 0.3038\n",
      "Epoch 8/100\n",
      "\u001b[1m111/111\u001b[0m \u001b[32m━━━━━━━━━━━━━━━━━━━━\u001b[0m\u001b[37m\u001b[0m \u001b[1m4s\u001b[0m 31ms/step - accuracy: 0.9165 - loss: 0.2330 - val_accuracy: 0.9213 - val_loss: 0.2679\n",
      "Epoch 9/100\n",
      "\u001b[1m111/111\u001b[0m \u001b[32m━━━━━━━━━━━━━━━━━━━━\u001b[0m\u001b[37m\u001b[0m \u001b[1m4s\u001b[0m 33ms/step - accuracy: 0.9258 - loss: 0.2243 - val_accuracy: 0.9239 - val_loss: 0.2113\n",
      "Epoch 10/100\n",
      "\u001b[1m111/111\u001b[0m \u001b[32m━━━━━━━━━━━━━━━━━━━━\u001b[0m\u001b[37m\u001b[0m \u001b[1m4s\u001b[0m 32ms/step - accuracy: 0.9211 - loss: 0.2314 - val_accuracy: 0.9315 - val_loss: 0.2385\n",
      "Epoch 11/100\n",
      "\u001b[1m111/111\u001b[0m \u001b[32m━━━━━━━━━━━━━━━━━━━━\u001b[0m\u001b[37m\u001b[0m \u001b[1m4s\u001b[0m 33ms/step - accuracy: 0.9110 - loss: 0.2703 - val_accuracy: 0.9137 - val_loss: 0.3216\n",
      "Epoch 12/100\n",
      "\u001b[1m111/111\u001b[0m \u001b[32m━━━━━━━━━━━━━━━━━━━━\u001b[0m\u001b[37m\u001b[0m \u001b[1m4s\u001b[0m 32ms/step - accuracy: 0.9235 - loss: 0.2170 - val_accuracy: 0.9391 - val_loss: 0.1998\n",
      "Epoch 13/100\n",
      "\u001b[1m111/111\u001b[0m \u001b[32m━━━━━━━━━━━━━━━━━━━━\u001b[0m\u001b[37m\u001b[0m \u001b[1m4s\u001b[0m 32ms/step - accuracy: 0.9411 - loss: 0.1586 - val_accuracy: 0.9036 - val_loss: 0.4046\n",
      "Epoch 14/100\n",
      "\u001b[1m111/111\u001b[0m \u001b[32m━━━━━━━━━━━━━━━━━━━━\u001b[0m\u001b[37m\u001b[0m \u001b[1m4s\u001b[0m 33ms/step - accuracy: 0.9411 - loss: 0.1534 - val_accuracy: 0.9289 - val_loss: 0.3112\n",
      "Epoch 15/100\n",
      "\u001b[1m111/111\u001b[0m \u001b[32m━━━━━━━━━━━━━━━━━━━━\u001b[0m\u001b[37m\u001b[0m \u001b[1m4s\u001b[0m 34ms/step - accuracy: 0.9305 - loss: 0.1821 - val_accuracy: 0.9365 - val_loss: 0.1972\n",
      "Epoch 16/100\n",
      "\u001b[1m111/111\u001b[0m \u001b[32m━━━━━━━━━━━━━━━━━━━━\u001b[0m\u001b[37m\u001b[0m \u001b[1m4s\u001b[0m 34ms/step - accuracy: 0.9458 - loss: 0.1430 - val_accuracy: 0.9518 - val_loss: 0.1744\n",
      "Epoch 17/100\n",
      "\u001b[1m111/111\u001b[0m \u001b[32m━━━━━━━━━━━━━━━━━━━━\u001b[0m\u001b[37m\u001b[0m \u001b[1m4s\u001b[0m 33ms/step - accuracy: 0.9434 - loss: 0.1527 - val_accuracy: 0.9645 - val_loss: 0.1491\n",
      "Epoch 18/100\n",
      "\u001b[1m111/111\u001b[0m \u001b[32m━━━━━━━━━━━━━━━━━━━━\u001b[0m\u001b[37m\u001b[0m \u001b[1m4s\u001b[0m 34ms/step - accuracy: 0.9513 - loss: 0.1211 - val_accuracy: 0.9391 - val_loss: 0.2002\n",
      "Epoch 19/100\n",
      "\u001b[1m111/111\u001b[0m \u001b[32m━━━━━━━━━━━━━━━━━━━━\u001b[0m\u001b[37m\u001b[0m \u001b[1m4s\u001b[0m 33ms/step - accuracy: 0.9531 - loss: 0.1160 - val_accuracy: 0.9213 - val_loss: 0.1952\n",
      "Epoch 20/100\n",
      "\u001b[1m111/111\u001b[0m \u001b[32m━━━━━━━━━━━━━━━━━━━━\u001b[0m\u001b[37m\u001b[0m \u001b[1m4s\u001b[0m 35ms/step - accuracy: 0.9437 - loss: 0.1487 - val_accuracy: 0.9340 - val_loss: 0.2497\n",
      "Epoch 21/100\n",
      "\u001b[1m111/111\u001b[0m \u001b[32m━━━━━━━━━━━━━━━━━━━━\u001b[0m\u001b[37m\u001b[0m \u001b[1m4s\u001b[0m 35ms/step - accuracy: 0.9365 - loss: 0.2015 - val_accuracy: 0.9112 - val_loss: 0.2643\n",
      "Epoch 22/100\n",
      "\u001b[1m111/111\u001b[0m \u001b[32m━━━━━━━━━━━━━━━━━━━━\u001b[0m\u001b[37m\u001b[0m \u001b[1m4s\u001b[0m 34ms/step - accuracy: 0.9213 - loss: 0.2224 - val_accuracy: 0.9492 - val_loss: 0.2246\n",
      "Epoch 23/100\n",
      "\u001b[1m111/111\u001b[0m \u001b[32m━━━━━━━━━━━━━━━━━━━━\u001b[0m\u001b[37m\u001b[0m \u001b[1m4s\u001b[0m 33ms/step - accuracy: 0.9389 - loss: 0.1616 - val_accuracy: 0.9340 - val_loss: 0.2451\n",
      "Epoch 24/100\n",
      "\u001b[1m111/111\u001b[0m \u001b[32m━━━━━━━━━━━━━━━━━━━━\u001b[0m\u001b[37m\u001b[0m \u001b[1m4s\u001b[0m 34ms/step - accuracy: 0.9474 - loss: 0.1476 - val_accuracy: 0.9518 - val_loss: 0.1554\n",
      "Epoch 25/100\n",
      "\u001b[1m111/111\u001b[0m \u001b[32m━━━━━━━━━━━━━━━━━━━━\u001b[0m\u001b[37m\u001b[0m \u001b[1m4s\u001b[0m 35ms/step - accuracy: 0.9512 - loss: 0.1178 - val_accuracy: 0.9340 - val_loss: 0.1998\n",
      "Epoch 26/100\n",
      "\u001b[1m111/111\u001b[0m \u001b[32m━━━━━━━━━━━━━━━━━━━━\u001b[0m\u001b[37m\u001b[0m \u001b[1m4s\u001b[0m 36ms/step - accuracy: 0.9513 - loss: 0.1098 - val_accuracy: 0.9569 - val_loss: 0.1661\n",
      "Epoch 27/100\n",
      "\u001b[1m111/111\u001b[0m \u001b[32m━━━━━━━━━━━━━━━━━━━━\u001b[0m\u001b[37m\u001b[0m \u001b[1m4s\u001b[0m 35ms/step - accuracy: 0.9602 - loss: 0.0941 - val_accuracy: 0.9340 - val_loss: 0.2390\n",
      "Epoch 28/100\n",
      "\u001b[1m111/111\u001b[0m \u001b[32m━━━━━━━━━━━━━━━━━━━━\u001b[0m\u001b[37m\u001b[0m \u001b[1m4s\u001b[0m 35ms/step - accuracy: 0.9570 - loss: 0.1140 - val_accuracy: 0.9416 - val_loss: 0.1858\n",
      "Epoch 29/100\n",
      "\u001b[1m111/111\u001b[0m \u001b[32m━━━━━━━━━━━━━━━━━━━━\u001b[0m\u001b[37m\u001b[0m \u001b[1m4s\u001b[0m 35ms/step - accuracy: 0.9585 - loss: 0.1099 - val_accuracy: 0.9416 - val_loss: 0.2339\n",
      "Epoch 30/100\n",
      "\u001b[1m111/111\u001b[0m \u001b[32m━━━━━━━━━━━━━━━━━━━━\u001b[0m\u001b[37m\u001b[0m \u001b[1m4s\u001b[0m 36ms/step - accuracy: 0.9383 - loss: 0.1609 - val_accuracy: 0.9670 - val_loss: 0.1904\n",
      "Epoch 31/100\n",
      "\u001b[1m111/111\u001b[0m \u001b[32m━━━━━━━━━━━━━━━━━━━━\u001b[0m\u001b[37m\u001b[0m \u001b[1m4s\u001b[0m 36ms/step - accuracy: 0.9526 - loss: 0.1127 - val_accuracy: 0.9442 - val_loss: 0.2410\n",
      "Epoch 32/100\n",
      "\u001b[1m111/111\u001b[0m \u001b[32m━━━━━━━━━━━━━━━━━━━━\u001b[0m\u001b[37m\u001b[0m \u001b[1m4s\u001b[0m 36ms/step - accuracy: 0.9365 - loss: 0.1592 - val_accuracy: 0.9416 - val_loss: 0.2244\n",
      "Epoch 33/100\n",
      "\u001b[1m111/111\u001b[0m \u001b[32m━━━━━━━━━━━━━━━━━━━━\u001b[0m\u001b[37m\u001b[0m \u001b[1m4s\u001b[0m 35ms/step - accuracy: 0.9125 - loss: 0.2469 - val_accuracy: 0.9264 - val_loss: 0.2520\n",
      "Epoch 34/100\n",
      "\u001b[1m111/111\u001b[0m \u001b[32m━━━━━━━━━━━━━━━━━━━━\u001b[0m\u001b[37m\u001b[0m \u001b[1m4s\u001b[0m 33ms/step - accuracy: 0.9328 - loss: 0.1672 - val_accuracy: 0.9416 - val_loss: 0.2029\n",
      "Epoch 35/100\n",
      "\u001b[1m111/111\u001b[0m \u001b[32m━━━━━━━━━━━━━━━━━━━━\u001b[0m\u001b[37m\u001b[0m \u001b[1m4s\u001b[0m 34ms/step - accuracy: 0.9443 - loss: 0.1313 - val_accuracy: 0.9365 - val_loss: 0.1945\n",
      "Epoch 36/100\n",
      "\u001b[1m111/111\u001b[0m \u001b[32m━━━━━━━━━━━━━━━━━━━━\u001b[0m\u001b[37m\u001b[0m \u001b[1m4s\u001b[0m 35ms/step - accuracy: 0.9548 - loss: 0.1143 - val_accuracy: 0.9543 - val_loss: 0.1826\n",
      "Epoch 37/100\n",
      "\u001b[1m111/111\u001b[0m \u001b[32m━━━━━━━━━━━━━━━━━━━━\u001b[0m\u001b[37m\u001b[0m \u001b[1m4s\u001b[0m 32ms/step - accuracy: 0.9552 - loss: 0.1049 - val_accuracy: 0.9569 - val_loss: 0.1804\n",
      "Epoch 38/100\n",
      "\u001b[1m111/111\u001b[0m \u001b[32m━━━━━━━━━━━━━━━━━━━━\u001b[0m\u001b[37m\u001b[0m \u001b[1m4s\u001b[0m 33ms/step - accuracy: 0.9544 - loss: 0.1114 - val_accuracy: 0.9467 - val_loss: 0.2255\n",
      "Epoch 39/100\n",
      "\u001b[1m111/111\u001b[0m \u001b[32m━━━━━━━━━━━━━━━━━━━━\u001b[0m\u001b[37m\u001b[0m \u001b[1m4s\u001b[0m 34ms/step - accuracy: 0.9584 - loss: 0.1122 - val_accuracy: 0.9594 - val_loss: 0.1519\n",
      "Epoch 40/100\n",
      "\u001b[1m111/111\u001b[0m \u001b[32m━━━━━━━━━━━━━━━━━━━━\u001b[0m\u001b[37m\u001b[0m \u001b[1m4s\u001b[0m 36ms/step - accuracy: 0.9562 - loss: 0.1072 - val_accuracy: 0.9391 - val_loss: 0.1913\n",
      "Epoch 41/100\n",
      "\u001b[1m111/111\u001b[0m \u001b[32m━━━━━━━━━━━━━━━━━━━━\u001b[0m\u001b[37m\u001b[0m \u001b[1m4s\u001b[0m 35ms/step - accuracy: 0.9628 - loss: 0.0994 - val_accuracy: 0.9619 - val_loss: 0.1710\n",
      "Epoch 42/100\n",
      "\u001b[1m111/111\u001b[0m \u001b[32m━━━━━━━━━━━━━━━━━━━━\u001b[0m\u001b[37m\u001b[0m \u001b[1m4s\u001b[0m 34ms/step - accuracy: 0.9553 - loss: 0.0955 - val_accuracy: 0.9518 - val_loss: 0.1985\n",
      "Epoch 43/100\n",
      "\u001b[1m111/111\u001b[0m \u001b[32m━━━━━━━━━━━━━━━━━━━━\u001b[0m\u001b[37m\u001b[0m \u001b[1m4s\u001b[0m 35ms/step - accuracy: 0.9507 - loss: 0.1226 - val_accuracy: 0.9645 - val_loss: 0.1630\n",
      "Epoch 44/100\n",
      "\u001b[1m111/111\u001b[0m \u001b[32m━━━━━━━━━━━━━━━━━━━━\u001b[0m\u001b[37m\u001b[0m \u001b[1m4s\u001b[0m 36ms/step - accuracy: 0.9515 - loss: 0.1082 - val_accuracy: 0.9315 - val_loss: 0.2216\n",
      "Epoch 45/100\n",
      "\u001b[1m111/111\u001b[0m \u001b[32m━━━━━━━━━━━━━━━━━━━━\u001b[0m\u001b[37m\u001b[0m \u001b[1m4s\u001b[0m 36ms/step - accuracy: 0.9577 - loss: 0.1080 - val_accuracy: 0.9416 - val_loss: 0.2363\n",
      "Epoch 46/100\n",
      "\u001b[1m111/111\u001b[0m \u001b[32m━━━━━━━━━━━━━━━━━━━━\u001b[0m\u001b[37m\u001b[0m \u001b[1m4s\u001b[0m 36ms/step - accuracy: 0.9516 - loss: 0.1190 - val_accuracy: 0.9467 - val_loss: 0.2104\n",
      "Epoch 47/100\n",
      "\u001b[1m111/111\u001b[0m \u001b[32m━━━━━━━━━━━━━━━━━━━━\u001b[0m\u001b[37m\u001b[0m \u001b[1m4s\u001b[0m 35ms/step - accuracy: 0.9549 - loss: 0.1117 - val_accuracy: 0.9518 - val_loss: 0.2019\n",
      "Epoch 48/100\n",
      "\u001b[1m111/111\u001b[0m \u001b[32m━━━━━━━━━━━━━━━━━━━━\u001b[0m\u001b[37m\u001b[0m \u001b[1m4s\u001b[0m 36ms/step - accuracy: 0.9389 - loss: 0.1419 - val_accuracy: 0.9492 - val_loss: 0.2269\n",
      "Epoch 49/100\n",
      "\u001b[1m111/111\u001b[0m \u001b[32m━━━━━━━━━━━━━━━━━━━━\u001b[0m\u001b[37m\u001b[0m \u001b[1m4s\u001b[0m 37ms/step - accuracy: 0.9611 - loss: 0.0943 - val_accuracy: 0.9518 - val_loss: 0.2278\n",
      "Epoch 50/100\n",
      "\u001b[1m111/111\u001b[0m \u001b[32m━━━━━━━━━━━━━━━━━━━━\u001b[0m\u001b[37m\u001b[0m \u001b[1m4s\u001b[0m 35ms/step - accuracy: 0.9599 - loss: 0.1101 - val_accuracy: 0.9543 - val_loss: 0.2580\n",
      "Epoch 51/100\n",
      "\u001b[1m111/111\u001b[0m \u001b[32m━━━━━━━━━━━━━━━━━━━━\u001b[0m\u001b[37m\u001b[0m \u001b[1m4s\u001b[0m 35ms/step - accuracy: 0.9653 - loss: 0.0831 - val_accuracy: 0.9518 - val_loss: 0.2288\n",
      "Epoch 52/100\n",
      "\u001b[1m111/111\u001b[0m \u001b[32m━━━━━━━━━━━━━━━━━━━━\u001b[0m\u001b[37m\u001b[0m \u001b[1m4s\u001b[0m 37ms/step - accuracy: 0.9603 - loss: 0.0889 - val_accuracy: 0.9594 - val_loss: 0.2217\n",
      "Epoch 53/100\n",
      "\u001b[1m111/111\u001b[0m \u001b[32m━━━━━━━━━━━━━━━━━━━━\u001b[0m\u001b[37m\u001b[0m \u001b[1m4s\u001b[0m 35ms/step - accuracy: 0.9661 - loss: 0.0848 - val_accuracy: 0.9492 - val_loss: 0.2035\n",
      "Epoch 54/100\n",
      "\u001b[1m111/111\u001b[0m \u001b[32m━━━━━━━━━━━━━━━━━━━━\u001b[0m\u001b[37m\u001b[0m \u001b[1m4s\u001b[0m 35ms/step - accuracy: 0.9606 - loss: 0.0974 - val_accuracy: 0.9543 - val_loss: 0.2338\n",
      "Epoch 55/100\n",
      "\u001b[1m111/111\u001b[0m \u001b[32m━━━━━━━━━━━━━━━━━━━━\u001b[0m\u001b[37m\u001b[0m \u001b[1m4s\u001b[0m 35ms/step - accuracy: 0.9563 - loss: 0.1099 - val_accuracy: 0.9442 - val_loss: 0.2072\n",
      "Epoch 56/100\n",
      "\u001b[1m111/111\u001b[0m \u001b[32m━━━━━━━━━━━━━━━━━━━━\u001b[0m\u001b[37m\u001b[0m \u001b[1m4s\u001b[0m 37ms/step - accuracy: 0.9637 - loss: 0.0821 - val_accuracy: 0.9645 - val_loss: 0.2268\n",
      "Epoch 57/100\n",
      "\u001b[1m111/111\u001b[0m \u001b[32m━━━━━━━━━━━━━━━━━━━━\u001b[0m\u001b[37m\u001b[0m \u001b[1m4s\u001b[0m 35ms/step - accuracy: 0.9617 - loss: 0.0892 - val_accuracy: 0.9467 - val_loss: 0.2353\n",
      "Epoch 58/100\n",
      "\u001b[1m111/111\u001b[0m \u001b[32m━━━━━━━━━━━━━━━━━━━━\u001b[0m\u001b[37m\u001b[0m \u001b[1m4s\u001b[0m 34ms/step - accuracy: 0.9523 - loss: 0.1086 - val_accuracy: 0.9492 - val_loss: 0.1902\n",
      "Epoch 59/100\n",
      "\u001b[1m111/111\u001b[0m \u001b[32m━━━━━━━━━━━━━━━━━━━━\u001b[0m\u001b[37m\u001b[0m \u001b[1m4s\u001b[0m 33ms/step - accuracy: 0.9398 - loss: 0.1564 - val_accuracy: 0.9492 - val_loss: 0.2049\n",
      "Epoch 60/100\n",
      "\u001b[1m111/111\u001b[0m \u001b[32m━━━━━━━━━━━━━━━━━━━━\u001b[0m\u001b[37m\u001b[0m \u001b[1m4s\u001b[0m 35ms/step - accuracy: 0.9612 - loss: 0.0947 - val_accuracy: 0.9569 - val_loss: 0.1667\n",
      "Epoch 61/100\n",
      "\u001b[1m111/111\u001b[0m \u001b[32m━━━━━━━━━━━━━━━━━━━━\u001b[0m\u001b[37m\u001b[0m \u001b[1m4s\u001b[0m 35ms/step - accuracy: 0.9624 - loss: 0.0863 - val_accuracy: 0.9442 - val_loss: 0.1386\n",
      "Epoch 62/100\n",
      "\u001b[1m111/111\u001b[0m \u001b[32m━━━━━━━━━━━━━━━━━━━━\u001b[0m\u001b[37m\u001b[0m \u001b[1m4s\u001b[0m 33ms/step - accuracy: 0.9629 - loss: 0.0977 - val_accuracy: 0.9619 - val_loss: 0.1487\n",
      "Epoch 63/100\n",
      "\u001b[1m111/111\u001b[0m \u001b[32m━━━━━━━━━━━━━━━━━━━━\u001b[0m\u001b[37m\u001b[0m \u001b[1m4s\u001b[0m 33ms/step - accuracy: 0.9672 - loss: 0.0774 - val_accuracy: 0.9619 - val_loss: 0.1546\n",
      "Epoch 64/100\n",
      "\u001b[1m111/111\u001b[0m \u001b[32m━━━━━━━━━━━━━━━━━━━━\u001b[0m\u001b[37m\u001b[0m \u001b[1m4s\u001b[0m 32ms/step - accuracy: 0.9635 - loss: 0.0818 - val_accuracy: 0.9543 - val_loss: 0.1711\n",
      "Epoch 65/100\n",
      "\u001b[1m111/111\u001b[0m \u001b[32m━━━━━━━━━━━━━━━━━━━━\u001b[0m\u001b[37m\u001b[0m \u001b[1m4s\u001b[0m 33ms/step - accuracy: 0.9601 - loss: 0.0832 - val_accuracy: 0.9645 - val_loss: 0.1843\n",
      "Epoch 66/100\n",
      "\u001b[1m111/111\u001b[0m \u001b[32m━━━━━━━━━━━━━━━━━━━━\u001b[0m\u001b[37m\u001b[0m \u001b[1m4s\u001b[0m 34ms/step - accuracy: 0.9607 - loss: 0.1200 - val_accuracy: 0.9518 - val_loss: 0.1968\n",
      "Epoch 67/100\n",
      "\u001b[1m111/111\u001b[0m \u001b[32m━━━━━━━━━━━━━━━━━━━━\u001b[0m\u001b[37m\u001b[0m \u001b[1m4s\u001b[0m 36ms/step - accuracy: 0.9612 - loss: 0.0993 - val_accuracy: 0.9594 - val_loss: 0.1531\n",
      "Epoch 68/100\n",
      "\u001b[1m111/111\u001b[0m \u001b[32m━━━━━━━━━━━━━━━━━━━━\u001b[0m\u001b[37m\u001b[0m \u001b[1m4s\u001b[0m 36ms/step - accuracy: 0.9700 - loss: 0.0894 - val_accuracy: 0.9569 - val_loss: 0.1888\n",
      "Epoch 69/100\n",
      "\u001b[1m111/111\u001b[0m \u001b[32m━━━━━━━━━━━━━━━━━━━━\u001b[0m\u001b[37m\u001b[0m \u001b[1m4s\u001b[0m 36ms/step - accuracy: 0.9595 - loss: 0.0895 - val_accuracy: 0.9467 - val_loss: 0.2298\n",
      "Epoch 70/100\n",
      "\u001b[1m111/111\u001b[0m \u001b[32m━━━━━━━━━━━━━━━━━━━━\u001b[0m\u001b[37m\u001b[0m \u001b[1m4s\u001b[0m 35ms/step - accuracy: 0.9638 - loss: 0.0796 - val_accuracy: 0.9442 - val_loss: 0.1768\n",
      "Epoch 71/100\n",
      "\u001b[1m111/111\u001b[0m \u001b[32m━━━━━━━━━━━━━━━━━━━━\u001b[0m\u001b[37m\u001b[0m \u001b[1m3s\u001b[0m 31ms/step - accuracy: 0.9590 - loss: 0.0828 - val_accuracy: 0.9518 - val_loss: 0.1452\n",
      "Epoch 72/100\n",
      "\u001b[1m111/111\u001b[0m \u001b[32m━━━━━━━━━━━━━━━━━━━━\u001b[0m\u001b[37m\u001b[0m \u001b[1m3s\u001b[0m 30ms/step - accuracy: 0.9645 - loss: 0.0762 - val_accuracy: 0.9518 - val_loss: 0.1560\n",
      "Epoch 73/100\n",
      "\u001b[1m111/111\u001b[0m \u001b[32m━━━━━━━━━━━━━━━━━━━━\u001b[0m\u001b[37m\u001b[0m \u001b[1m3s\u001b[0m 30ms/step - accuracy: 0.9630 - loss: 0.0850 - val_accuracy: 0.9518 - val_loss: 0.2144\n",
      "Epoch 74/100\n",
      "\u001b[1m111/111\u001b[0m \u001b[32m━━━━━━━━━━━━━━━━━━━━\u001b[0m\u001b[37m\u001b[0m \u001b[1m3s\u001b[0m 30ms/step - accuracy: 0.9644 - loss: 0.0913 - val_accuracy: 0.9467 - val_loss: 0.2236\n",
      "Epoch 75/100\n",
      "\u001b[1m111/111\u001b[0m \u001b[32m━━━━━━━━━━━━━━━━━━━━\u001b[0m\u001b[37m\u001b[0m \u001b[1m3s\u001b[0m 29ms/step - accuracy: 0.9373 - loss: 0.1774 - val_accuracy: 0.9391 - val_loss: 0.2869\n",
      "Epoch 76/100\n",
      "\u001b[1m111/111\u001b[0m \u001b[32m━━━━━━━━━━━━━━━━━━━━\u001b[0m\u001b[37m\u001b[0m \u001b[1m3s\u001b[0m 29ms/step - accuracy: 0.9420 - loss: 0.1526 - val_accuracy: 0.9518 - val_loss: 0.2051\n",
      "Epoch 77/100\n",
      "\u001b[1m111/111\u001b[0m \u001b[32m━━━━━━━━━━━━━━━━━━━━\u001b[0m\u001b[37m\u001b[0m \u001b[1m3s\u001b[0m 29ms/step - accuracy: 0.9571 - loss: 0.1281 - val_accuracy: 0.9645 - val_loss: 0.1660\n",
      "Epoch 78/100\n",
      "\u001b[1m111/111\u001b[0m \u001b[32m━━━━━━━━━━━━━━━━━━━━\u001b[0m\u001b[37m\u001b[0m \u001b[1m3s\u001b[0m 30ms/step - accuracy: 0.9692 - loss: 0.0795 - val_accuracy: 0.9619 - val_loss: 0.1548\n",
      "Epoch 79/100\n",
      "\u001b[1m111/111\u001b[0m \u001b[32m━━━━━━━━━━━━━━━━━━━━\u001b[0m\u001b[37m\u001b[0m \u001b[1m3s\u001b[0m 31ms/step - accuracy: 0.9605 - loss: 0.0832 - val_accuracy: 0.9492 - val_loss: 0.1849\n",
      "Epoch 80/100\n",
      "\u001b[1m111/111\u001b[0m \u001b[32m━━━━━━━━━━━━━━━━━━━━\u001b[0m\u001b[37m\u001b[0m \u001b[1m3s\u001b[0m 30ms/step - accuracy: 0.9572 - loss: 0.1011 - val_accuracy: 0.9467 - val_loss: 0.2467\n",
      "Epoch 81/100\n",
      "\u001b[1m111/111\u001b[0m \u001b[32m━━━━━━━━━━━━━━━━━━━━\u001b[0m\u001b[37m\u001b[0m \u001b[1m3s\u001b[0m 31ms/step - accuracy: 0.9560 - loss: 0.1159 - val_accuracy: 0.9670 - val_loss: 0.2061\n",
      "Epoch 82/100\n",
      "\u001b[1m111/111\u001b[0m \u001b[32m━━━━━━━━━━━━━━━━━━━━\u001b[0m\u001b[37m\u001b[0m \u001b[1m3s\u001b[0m 31ms/step - accuracy: 0.9680 - loss: 0.0808 - val_accuracy: 0.9543 - val_loss: 0.2527\n",
      "Epoch 83/100\n",
      "\u001b[1m111/111\u001b[0m \u001b[32m━━━━━━━━━━━━━━━━━━━━\u001b[0m\u001b[37m\u001b[0m \u001b[1m4s\u001b[0m 32ms/step - accuracy: 0.9544 - loss: 0.1079 - val_accuracy: 0.9569 - val_loss: 0.1988\n",
      "Epoch 84/100\n",
      "\u001b[1m111/111\u001b[0m \u001b[32m━━━━━━━━━━━━━━━━━━━━\u001b[0m\u001b[37m\u001b[0m \u001b[1m3s\u001b[0m 31ms/step - accuracy: 0.9618 - loss: 0.1065 - val_accuracy: 0.9594 - val_loss: 0.1803\n",
      "Epoch 85/100\n",
      "\u001b[1m111/111\u001b[0m \u001b[32m━━━━━━━━━━━━━━━━━━━━\u001b[0m\u001b[37m\u001b[0m \u001b[1m3s\u001b[0m 31ms/step - accuracy: 0.9704 - loss: 0.0790 - val_accuracy: 0.9543 - val_loss: 0.1614\n",
      "Epoch 86/100\n",
      "\u001b[1m111/111\u001b[0m \u001b[32m━━━━━━━━━━━━━━━━━━━━\u001b[0m\u001b[37m\u001b[0m \u001b[1m3s\u001b[0m 31ms/step - accuracy: 0.9641 - loss: 0.0876 - val_accuracy: 0.9594 - val_loss: 0.2115\n",
      "Epoch 87/100\n",
      "\u001b[1m111/111\u001b[0m \u001b[32m━━━━━━━━━━━━━━━━━━━━\u001b[0m\u001b[37m\u001b[0m \u001b[1m3s\u001b[0m 31ms/step - accuracy: 0.9778 - loss: 0.0577 - val_accuracy: 0.9721 - val_loss: 0.1924\n",
      "Epoch 88/100\n",
      "\u001b[1m111/111\u001b[0m \u001b[32m━━━━━━━━━━━━━━━━━━━━\u001b[0m\u001b[37m\u001b[0m \u001b[1m3s\u001b[0m 31ms/step - accuracy: 0.9659 - loss: 0.0782 - val_accuracy: 0.9746 - val_loss: 0.1859\n",
      "Epoch 89/100\n",
      "\u001b[1m111/111\u001b[0m \u001b[32m━━━━━━━━━━━━━━━━━━━━\u001b[0m\u001b[37m\u001b[0m \u001b[1m3s\u001b[0m 31ms/step - accuracy: 0.9696 - loss: 0.0696 - val_accuracy: 0.9442 - val_loss: 0.2384\n",
      "Epoch 90/100\n",
      "\u001b[1m111/111\u001b[0m \u001b[32m━━━━━━━━━━━━━━━━━━━━\u001b[0m\u001b[37m\u001b[0m \u001b[1m4s\u001b[0m 34ms/step - accuracy: 0.9707 - loss: 0.0668 - val_accuracy: 0.9619 - val_loss: 0.2171\n",
      "Epoch 91/100\n",
      "\u001b[1m111/111\u001b[0m \u001b[32m━━━━━━━━━━━━━━━━━━━━\u001b[0m\u001b[37m\u001b[0m \u001b[1m4s\u001b[0m 36ms/step - accuracy: 0.9729 - loss: 0.0587 - val_accuracy: 0.9467 - val_loss: 0.2718\n",
      "Epoch 92/100\n",
      "\u001b[1m111/111\u001b[0m \u001b[32m━━━━━━━━━━━━━━━━━━━━\u001b[0m\u001b[37m\u001b[0m \u001b[1m4s\u001b[0m 36ms/step - accuracy: 0.9689 - loss: 0.0899 - val_accuracy: 0.9695 - val_loss: 0.1712\n",
      "Epoch 93/100\n",
      "\u001b[1m111/111\u001b[0m \u001b[32m━━━━━━━━━━━━━━━━━━━━\u001b[0m\u001b[37m\u001b[0m \u001b[1m4s\u001b[0m 35ms/step - accuracy: 0.9713 - loss: 0.0659 - val_accuracy: 0.9594 - val_loss: 0.2280\n",
      "Epoch 94/100\n",
      "\u001b[1m111/111\u001b[0m \u001b[32m━━━━━━━━━━━━━━━━━━━━\u001b[0m\u001b[37m\u001b[0m \u001b[1m4s\u001b[0m 35ms/step - accuracy: 0.9738 - loss: 0.0637 - val_accuracy: 0.9518 - val_loss: 0.1778\n",
      "Epoch 95/100\n",
      "\u001b[1m111/111\u001b[0m \u001b[32m━━━━━━━━━━━━━━━━━━━━\u001b[0m\u001b[37m\u001b[0m \u001b[1m4s\u001b[0m 36ms/step - accuracy: 0.9761 - loss: 0.0567 - val_accuracy: 0.9543 - val_loss: 0.2396\n",
      "Epoch 96/100\n",
      "\u001b[1m111/111\u001b[0m \u001b[32m━━━━━━━━━━━━━━━━━━━━\u001b[0m\u001b[37m\u001b[0m \u001b[1m4s\u001b[0m 35ms/step - accuracy: 0.9782 - loss: 0.0611 - val_accuracy: 0.9594 - val_loss: 0.2040\n",
      "Epoch 97/100\n",
      "\u001b[1m111/111\u001b[0m \u001b[32m━━━━━━━━━━━━━━━━━━━━\u001b[0m\u001b[37m\u001b[0m \u001b[1m4s\u001b[0m 36ms/step - accuracy: 0.9716 - loss: 0.0825 - val_accuracy: 0.9619 - val_loss: 0.2380\n",
      "Epoch 98/100\n",
      "\u001b[1m111/111\u001b[0m \u001b[32m━━━━━━━━━━━━━━━━━━━━\u001b[0m\u001b[37m\u001b[0m \u001b[1m4s\u001b[0m 36ms/step - accuracy: 0.9597 - loss: 0.1011 - val_accuracy: 0.9645 - val_loss: 0.2409\n",
      "Epoch 99/100\n",
      "\u001b[1m111/111\u001b[0m \u001b[32m━━━━━━━━━━━━━━━━━━━━\u001b[0m\u001b[37m\u001b[0m \u001b[1m4s\u001b[0m 35ms/step - accuracy: 0.9687 - loss: 0.0859 - val_accuracy: 0.9569 - val_loss: 0.2194\n",
      "Epoch 100/100\n",
      "\u001b[1m111/111\u001b[0m \u001b[32m━━━━━━━━━━━━━━━━━━━━\u001b[0m\u001b[37m\u001b[0m \u001b[1m4s\u001b[0m 36ms/step - accuracy: 0.9642 - loss: 0.0882 - val_accuracy: 0.9518 - val_loss: 0.1918\n"
     ]
    }
   ],
   "source": [
    "# -------------------------\n",
    "# Train the Enhanced Model\n",
    "# -------------------------\n",
    "batch_size = 32\n",
    "epochs = 100  # Increase if needed\n",
    "\n",
    "history_enhanced = model_enhanced.fit(\n",
    "    [X_symptoms_train, X_weights_train], y_train,\n",
    "    validation_split=0.1,\n",
    "    batch_size=batch_size,\n",
    "    epochs=epochs,\n",
    "    verbose=1\n",
    ")"
   ]
  },
  {
   "cell_type": "code",
   "execution_count": 96,
   "metadata": {},
   "outputs": [
    {
     "data": {
      "image/png": "[encoded data removed]",
      "text/plain": [
       "<Figure size 800x400 with 1 Axes>"
      ]
     },
     "metadata": {},
     "output_type": "display_data"
    }
   ],
   "source": [
    "# ----------------------------------------------------------------\n",
    "# Plot Train vs. Validation Loss for Enhanced Model\n",
    "# ----------------------------------------------------------------\n",
    "plt.figure(figsize=(8, 4))\n",
    "plt.plot(history_enhanced.history['loss'], label='Train Loss')\n",
    "plt.plot(history_enhanced.history['val_loss'], label='Validation Loss')\n",
    "plt.xlabel('Epoch')\n",
    "plt.ylabel('Loss')\n",
    "plt.title('Train vs. Validation Loss (Enhanced Model)')\n",
    "plt.legend()\n",
    "plt.show()"
   ]
  },
  {
   "cell_type": "code",
   "execution_count": 97,
   "metadata": {},
   "outputs": [
    {
     "data": {
      "image/png": "[encoded data removed]",
      "text/plain": [
       "<Figure size 800x400 with 1 Axes>"
      ]
     },
     "metadata": {},
     "output_type": "display_data"
    }
   ],
   "source": [
    "# ----------------------------------------------------------------\n",
    "# Plot Train vs. Validation Accuracy for Enhanced Model\n",
    "# ----------------------------------------------------------------\n",
    "plt.figure(figsize=(8, 4))\n",
    "plt.plot(history_enhanced.history['accuracy'], label='Train Accuracy')\n",
    "plt.plot(history_enhanced.history['val_accuracy'], label='Validation Accuracy')\n",
    "plt.xlabel('Epoch')\n",
    "plt.ylabel('Accuracy')\n",
    "plt.title('Train vs. Validation Accuracy (Enhanced Model)')\n",
    "plt.legend()\n",
    "plt.show()"
   ]
  },
  {
   "cell_type": "code",
   "execution_count": 98,
   "metadata": {},
   "outputs": [
    {
     "name": "stdout",
     "output_type": "stream",
     "text": [
      "Enhanced Model --> Test Loss: 0.2800 | Test Accuracy: 0.9309\n"
     ]
    }
   ],
   "source": [
    "# -------------------------\n",
    "# Evaluate the Enhanced Model\n",
    "# -------------------------\n",
    "loss_enhanced, accuracy_enhanced = model_enhanced.evaluate([X_symptoms_test, X_weights_test], y_test, verbose=0)\n",
    "print(f\"Enhanced Model --> Test Loss: {loss_enhanced:.4f} | Test Accuracy: {accuracy_enhanced:.4f}\")\n"
   ]
  },
  {
   "cell_type": "code",
   "execution_count": 99,
   "metadata": {},
   "outputs": [
    {
     "name": "stdout",
     "output_type": "stream",
     "text": [
      "\u001b[1m1/1\u001b[0m \u001b[32m━━━━━━━━━━━━━━━━━━━━\u001b[0m\u001b[37m\u001b[0m \u001b[1m0s\u001b[0m 297ms/step\n",
      "Predicted Disease (Enhanced Model): Hypothyroidism\n"
     ]
    }
   ],
   "source": [
    "# -------------------------\n",
    "# Making Predictions with the Enhanced Model\n",
    "# -------------------------\n",
    "# Example of prediction: preprocess the input the same as training data\n",
    "new_symptoms = \"fatigue ,weight_gain , anxiety\"\n",
    "new_weights = [5, 6, 7]\n",
    "new_tokens = [sym.strip() for sym in new_symptoms.split(',')]\n",
    "new_seq = tokenizer.texts_to_sequences(new_tokens)\n",
    "new_seq = [item for sub in new_seq for item in sub]\n",
    "new_seq = pad_sequences([new_seq], maxlen=max_len, padding='post')\n",
    "new_weights = np.array([np.pad(new_weights, (0, max_len - len(new_weights)), 'constant')])\n",
    "prediction_enhanced = model_enhanced.predict([new_seq, new_weights])\n",
    "predicted_label_enhanced = label_encoder.inverse_transform([np.argmax(prediction_enhanced)])\n",
    "print(\"Predicted Disease (Enhanced Model):\", predicted_label_enhanced[0])\n"
   ]
  },
  {
   "cell_type": "markdown",
   "metadata": {},
   "source": [
    "******************************************** Using LSTMs + SVM Hybrid **********************************************"
   ]
  },
  {
   "cell_type": "code",
   "execution_count": 139,
   "metadata": {},
   "outputs": [],
   "source": [
    "import numpy as np\n",
    "import pandas as pd\n",
    "import tensorflow as tf\n",
    "from tensorflow.keras.models import Model\n",
    "from tensorflow.keras.layers import (Input, Embedding, LSTM, Dense, Multiply,\n",
    "                                     Reshape, Layer)\n",
    "from tensorflow.keras.preprocessing.text import Tokenizer\n",
    "from tensorflow.keras.preprocessing.sequence import pad_sequences\n",
    "from tensorflow.keras.utils import to_categorical\n",
    "from sklearn.preprocessing import LabelEncoder\n",
    "from sklearn.model_selection import train_test_split\n",
    "import matplotlib.pyplot as plt\n",
    "import random\n",
    "import ast"
   ]
  },
  {
   "cell_type": "code",
   "execution_count": 140,
   "metadata": {},
   "outputs": [
    {
     "name": "stderr",
     "output_type": "stream",
     "text": [
      "/tmp/ipykernel_79284/3257320669.py:6: FutureWarning: A value is trying to be set on a copy of a DataFrame or Series through chained assignment using an inplace method.\n",
      "The behavior will change in pandas 3.0. This inplace method will never work because the intermediate object on which we are setting values always behaves as a copy.\n",
      "\n",
      "For example, when doing 'df[col].method(value, inplace=True)', try using 'df.method({col: value}, inplace=True)' or df[col] = df[col].method(value) instead, to perform the operation inplace on the original object.\n",
      "\n",
      "\n",
      "  df1['Symptom_4'].fillna('', inplace=True)\n"
     ]
    }
   ],
   "source": [
    "# 1. Load Data\n",
    "df1 = pd.read_csv('symtoms_df.csv')\n",
    "df2 = pd.read_csv('Symptom-severity.csv')\n",
    "\n",
    "# 2. Process the Symptoms DataFrame\n",
    "df1['Symptom_4'].fillna('', inplace=True)\n",
    "df1['Symptoms'] = df1['Symptom_1'] + ',' + df1['Symptom_2'] + ',' + df1['Symptom_3'] + ',' + df1['Symptom_4']\n",
    "df1 = df1[['Symptoms', 'Disease']]\n",
    "df1['Symptoms'] = df1['Symptoms'].str.replace('_', ' ')\n",
    "\n",
    "# 3. Process the Severity DataFrame and build weight dictionary\n",
    "severity_dict = dict(zip(df2['Symptom'], df2['weight']))\n"
   ]
  },
  {
   "cell_type": "code",
   "execution_count": 141,
   "metadata": {},
   "outputs": [],
   "source": [
    "# Preprocessing function for symptom tokens\n",
    "def preprocess_symptoms(symptom_str):\n",
    "    symptoms = symptom_str.lower().split(',')\n",
    "    symptoms = [s.strip().replace(' ', '_') for s in symptoms]\n",
    "    return symptoms"
   ]
  },
  {
   "cell_type": "code",
   "execution_count": 142,
   "metadata": {},
   "outputs": [],
   "source": [
    "# Create symptom list column\n",
    "df1['Symptom_list'] = df1['Symptoms'].apply(preprocess_symptoms)\n",
    "\n",
    "# Tokenize the symptoms (build a vocabulary)\n",
    "all_symptoms = [sym for row in df1['Symptom_list'] for sym in row]\n",
    "tokenizer = Tokenizer(lower=True, filters='')  # already cleaned\n",
    "tokenizer.fit_on_texts(all_symptoms)\n",
    "\n",
    "# Convert each list of symptoms into integer sequences\n",
    "df1['Symptom_seq'] = df1['Symptom_list'].apply(lambda x: tokenizer.texts_to_sequences(x))\n",
    "df1['Symptom_seq'] = df1['Symptom_seq'].apply(lambda seq: [item for sublist in seq for item in sublist])\n"
   ]
  },
  {
   "cell_type": "code",
   "execution_count": 143,
   "metadata": {},
   "outputs": [],
   "source": [
    "# Optionally shuffle symptoms within each row\n",
    "def shuffle_symptoms(row):\n",
    "    pairs = list(zip(row[\"Symptom_list\"], row[\"Symptom_seq\"]))\n",
    "    random.shuffle(pairs)\n",
    "    shuffled_symptoms, shuffled_seq = zip(*pairs)\n",
    "    shuffled_symptoms_str = \", \".join(shuffled_symptoms)\n",
    "    return pd.Series({\n",
    "        \"Shuffled_Symptoms\": shuffled_symptoms_str,\n",
    "        \"Shuffled_Symptom_list\": list(shuffled_symptoms),\n",
    "        \"Shuffled_Symptom_seq\": list(shuffled_seq)\n",
    "    })"
   ]
  },
  {
   "cell_type": "code",
   "execution_count": 144,
   "metadata": {},
   "outputs": [],
   "source": [
    "df1[[\"Shuffled_Symptoms\", \"Shuffled_Symptom_list\", \"Shuffled_Symptom_seq\"]] = df1.apply(shuffle_symptoms, axis=1)\n",
    "df1 = df1.drop(columns=['Symptoms','Symptom_list','Symptom_seq'])\n"
   ]
  },
  {
   "cell_type": "code",
   "execution_count": 145,
   "metadata": {},
   "outputs": [],
   "source": [
    "# Build weight mapping for each symptom token:\n",
    "weight_map = dict(zip(df2[\"Symptom\"], df2[\"weight\"]))\n",
    "df1[\"Symptom_Weights\"] = df1[\"Shuffled_Symptom_list\"].apply(\n",
    "    lambda sym_list: [weight_map.get(sym, 1) for sym in sym_list]\n",
    ")"
   ]
  },
  {
   "cell_type": "code",
   "execution_count": 146,
   "metadata": {},
   "outputs": [],
   "source": [
    "# For further processing, create tokens by splitting the shuffled string.\n",
    "df1['Symptom_Tokens'] = df1['Shuffled_Symptoms'].apply(lambda x: [sym.strip() for sym in x.split(',')])\n",
    "\n",
    "# 4. Prepare Tokenizer on the new symptom tokens and convert to sequences\n",
    "# Set a fixed maximum sequence length. Here we choose 20 for consistency.\n",
    "max_len = 20\n"
   ]
  },
  {
   "cell_type": "code",
   "execution_count": 147,
   "metadata": {},
   "outputs": [],
   "source": [
    "# Create tokenizer over symptom tokens (if needed, you could re-use the one above)\n",
    "all_tokens = df1['Symptom_Tokens'].tolist()\n",
    "flat_tokens = [sym for sublist in all_tokens for sym in sublist]\n",
    "tokenizer_tokens = Tokenizer()\n",
    "tokenizer_tokens.fit_on_texts(flat_tokens)\n",
    "vocab_size = len(tokenizer_tokens.word_index) + 1\n"
   ]
  },
  {
   "cell_type": "code",
   "execution_count": 148,
   "metadata": {},
   "outputs": [],
   "source": [
    "# Convert each record's symptom tokens to sequences and flatten list-of-lists\n",
    "df1['Symptom_Seq'] = df1['Symptom_Tokens'].apply(lambda tokens: tokenizer_tokens.texts_to_sequences(tokens))\n",
    "df1['Symptom_Seq'] = df1['Symptom_Seq'].apply(lambda seq_list: [item for sub in seq_list for item in sub])\n"
   ]
  },
  {
   "cell_type": "code",
   "execution_count": 149,
   "metadata": {},
   "outputs": [],
   "source": [
    "# Pad symptom sequences to max_len tokens\n",
    "symptom_seqs = pad_sequences(df1['Symptom_Seq'], maxlen=max_len, padding='post')\n",
    "\n",
    "# Similarly, pad the weights array (pad with zeros if needed)\n",
    "weights = np.array([np.pad(w, (0, max_len - len(w)), 'constant') for w in df1['Symptom_Weights']])\n",
    "\n",
    "# Encode the disease labels\n",
    "label_encoder = LabelEncoder()\n",
    "labels = label_encoder.fit_transform(df1['Disease'])\n",
    "num_classes = len(label_encoder.classes_)\n",
    "labels_cat = to_categorical(labels, num_classes=num_classes)\n",
    "\n",
    "# Train-test split\n",
    "X_symptoms_train, X_symptoms_test, X_weights_train, X_weights_test, y_train, y_test = train_test_split(\n",
    "    symptom_seqs, weights, labels_cat, test_size=0.2, random_state=42\n",
    ")"
   ]
  },
  {
   "cell_type": "code",
   "execution_count": 150,
   "metadata": {},
   "outputs": [],
   "source": [
    "# -------------------------------------\n",
    "# 5. Build the LSTM + Attention Feature Extractor Model\n",
    "# -------------------------------------\n",
    "# Custom Attention Layer\n",
    "class AttentionLayer(tf.keras.layers.Layer):\n",
    "    def __init__(self, **kwargs):\n",
    "        super(AttentionLayer, self).__init__(**kwargs)\n",
    "    \n",
    "    def build(self, input_shape):\n",
    "        # input_shape: (batch_size, time_steps, hidden_size)\n",
    "        self.W = self.add_weight(name=\"att_weight\", \n",
    "                                 shape=(input_shape[-1], input_shape[-1]),\n",
    "                                 initializer=\"normal\")\n",
    "        self.b = self.add_weight(name=\"att_bias\", \n",
    "                                 shape=(input_shape[-1],),\n",
    "                                 initializer=\"zeros\")\n",
    "        self.u = self.add_weight(name=\"context_vector\", \n",
    "                                 shape=(input_shape[-1],),\n",
    "                                 initializer=\"normal\")\n",
    "        super(AttentionLayer, self).build(input_shape)\n",
    "    \n",
    "    def call(self, x):\n",
    "        # x shape: (batch_size, time_steps, hidden_size)\n",
    "        v = tf.tanh(tf.tensordot(x, self.W, axes=1) + self.b)  # (batch_size, time_steps, hidden_size)\n",
    "        vu = tf.tensordot(v, self.u, axes=1)  # (batch_size, time_steps)\n",
    "        alphas = tf.nn.softmax(vu)  # (batch_size, time_steps)\n",
    "        # Compute weighted sum of the LSTM outputs\n",
    "        output = tf.reduce_sum(x * tf.expand_dims(alphas, -1), axis=1)\n",
    "        return output"
   ]
  },
  {
   "cell_type": "code",
   "execution_count": 151,
   "metadata": {},
   "outputs": [
    {
     "name": "stderr",
     "output_type": "stream",
     "text": [
      "/home/shashank/anaconda3/envs/tf-env/lib/python3.10/site-packages/keras/src/layers/core/embedding.py:90: UserWarning: Argument `input_length` is deprecated. Just remove it.\n",
      "  warnings.warn(\n"
     ]
    }
   ],
   "source": [
    "# Hyperparameters for the neural network\n",
    "embedding_dim = 512\n",
    "\n",
    "# Define input layers. Notice we use max_len (20) as the input shape.\n",
    "symptoms_input = Input(shape=(max_len,), name=\"symptoms_input\")\n",
    "weights_input = Input(shape=(max_len,), name=\"weights_input\")\n",
    "\n",
    "# Embedding layer for symptoms tokens\n",
    "embedding_layer = Embedding(input_dim=vocab_size,\n",
    "                            output_dim=embedding_dim,\n",
    "                            input_length=max_len,\n",
    "                            name=\"symptom_embedding\")\n",
    "embedded_symptoms = embedding_layer(symptoms_input)\n"
   ]
  },
  {
   "cell_type": "code",
   "execution_count": 152,
   "metadata": {},
   "outputs": [],
   "source": [
    "# Reshape weights to allow element-wise multiplication with embeddings\n",
    "weights_reshaped = Reshape((max_len, 1), name=\"reshape_weights\")(weights_input)\n",
    "weighted_embedding = Multiply(name=\"weighted_embedding\")([embedded_symptoms, weights_reshaped])\n"
   ]
  },
  {
   "cell_type": "code",
   "execution_count": 153,
   "metadata": {},
   "outputs": [],
   "source": [
    "# LSTM layer with return_sequences=True for attention; with recurrent dropout\n",
    "lstm_out = LSTM(512,\n",
    "                activation='tanh',\n",
    "                recurrent_activation='sigmoid',\n",
    "                recurrent_dropout=0.2,\n",
    "                return_sequences=True,\n",
    "                name=\"lstm_layer\")(weighted_embedding)\n"
   ]
  },
  {
   "cell_type": "code",
   "execution_count": 154,
   "metadata": {},
   "outputs": [
    {
     "data": {
      "text/html": [
       "<pre style=\"white-space:pre;overflow-x:auto;line-height:normal;font-family:Menlo,'DejaVu Sans Mono',consolas,'Courier New',monospace\"><span style=\"font-weight: bold\">Model: \"functional_15\"</span>\n",
       "</pre>\n"
      ],
      "text/plain": [
       "\u001b[1mModel: \"functional_15\"\u001b[0m\n"
      ]
     },
     "metadata": {},
     "output_type": "display_data"
    },
    {
     "data": {
      "text/html": [
       "<pre style=\"white-space:pre;overflow-x:auto;line-height:normal;font-family:Menlo,'DejaVu Sans Mono',consolas,'Courier New',monospace\">┏━━━━━━━━━━━━━━━━━━━━━┳━━━━━━━━━━━━━━━━━━━┳━━━━━━━━━━━━┳━━━━━━━━━━━━━━━━━━━┓\n",
       "┃<span style=\"font-weight: bold\"> Layer (type)        </span>┃<span style=\"font-weight: bold\"> Output Shape      </span>┃<span style=\"font-weight: bold\">    Param # </span>┃<span style=\"font-weight: bold\"> Connected to      </span>┃\n",
       "┡━━━━━━━━━━━━━━━━━━━━━╇━━━━━━━━━━━━━━━━━━━╇━━━━━━━━━━━━╇━━━━━━━━━━━━━━━━━━━┩\n",
       "│ symptoms_input      │ (<span style=\"color: #00d7ff; text-decoration-color: #00d7ff\">None</span>, <span style=\"color: #00af00; text-decoration-color: #00af00\">20</span>)        │          <span style=\"color: #00af00; text-decoration-color: #00af00\">0</span> │ -                 │\n",
       "│ (<span style=\"color: #0087ff; text-decoration-color: #0087ff\">InputLayer</span>)        │                   │            │                   │\n",
       "├─────────────────────┼───────────────────┼────────────┼───────────────────┤\n",
       "│ weights_input       │ (<span style=\"color: #00d7ff; text-decoration-color: #00d7ff\">None</span>, <span style=\"color: #00af00; text-decoration-color: #00af00\">20</span>)        │          <span style=\"color: #00af00; text-decoration-color: #00af00\">0</span> │ -                 │\n",
       "│ (<span style=\"color: #0087ff; text-decoration-color: #0087ff\">InputLayer</span>)        │                   │            │                   │\n",
       "├─────────────────────┼───────────────────┼────────────┼───────────────────┤\n",
       "│ symptom_embedding   │ (<span style=\"color: #00d7ff; text-decoration-color: #00d7ff\">None</span>, <span style=\"color: #00af00; text-decoration-color: #00af00\">20</span>, <span style=\"color: #00af00; text-decoration-color: #00af00\">512</span>)   │     <span style=\"color: #00af00; text-decoration-color: #00af00\">73,216</span> │ symptoms_input[<span style=\"color: #00af00; text-decoration-color: #00af00\">0</span>… │\n",
       "│ (<span style=\"color: #0087ff; text-decoration-color: #0087ff\">Embedding</span>)         │                   │            │                   │\n",
       "├─────────────────────┼───────────────────┼────────────┼───────────────────┤\n",
       "│ reshape_weights     │ (<span style=\"color: #00d7ff; text-decoration-color: #00d7ff\">None</span>, <span style=\"color: #00af00; text-decoration-color: #00af00\">20</span>, <span style=\"color: #00af00; text-decoration-color: #00af00\">1</span>)     │          <span style=\"color: #00af00; text-decoration-color: #00af00\">0</span> │ weights_input[<span style=\"color: #00af00; text-decoration-color: #00af00\">0</span>]… │\n",
       "│ (<span style=\"color: #0087ff; text-decoration-color: #0087ff\">Reshape</span>)           │                   │            │                   │\n",
       "├─────────────────────┼───────────────────┼────────────┼───────────────────┤\n",
       "│ weighted_embedding  │ (<span style=\"color: #00d7ff; text-decoration-color: #00d7ff\">None</span>, <span style=\"color: #00af00; text-decoration-color: #00af00\">20</span>, <span style=\"color: #00af00; text-decoration-color: #00af00\">512</span>)   │          <span style=\"color: #00af00; text-decoration-color: #00af00\">0</span> │ symptom_embeddin… │\n",
       "│ (<span style=\"color: #0087ff; text-decoration-color: #0087ff\">Multiply</span>)          │                   │            │ reshape_weights[<span style=\"color: #00af00; text-decoration-color: #00af00\">…</span> │\n",
       "├─────────────────────┼───────────────────┼────────────┼───────────────────┤\n",
       "│ lstm_layer (<span style=\"color: #0087ff; text-decoration-color: #0087ff\">LSTM</span>)   │ (<span style=\"color: #00d7ff; text-decoration-color: #00d7ff\">None</span>, <span style=\"color: #00af00; text-decoration-color: #00af00\">20</span>, <span style=\"color: #00af00; text-decoration-color: #00af00\">512</span>)   │  <span style=\"color: #00af00; text-decoration-color: #00af00\">2,099,200</span> │ weighted_embeddi… │\n",
       "├─────────────────────┼───────────────────┼────────────┼───────────────────┤\n",
       "│ attention_layer     │ (<span style=\"color: #00d7ff; text-decoration-color: #00d7ff\">None</span>, <span style=\"color: #00af00; text-decoration-color: #00af00\">512</span>)       │    <span style=\"color: #00af00; text-decoration-color: #00af00\">263,168</span> │ lstm_layer[<span style=\"color: #00af00; text-decoration-color: #00af00\">0</span>][<span style=\"color: #00af00; text-decoration-color: #00af00\">0</span>]  │\n",
       "│ (<span style=\"color: #0087ff; text-decoration-color: #0087ff\">AttentionLayer</span>)    │                   │            │                   │\n",
       "├─────────────────────┼───────────────────┼────────────┼───────────────────┤\n",
       "│ feature_dense       │ (<span style=\"color: #00d7ff; text-decoration-color: #00d7ff\">None</span>, <span style=\"color: #00af00; text-decoration-color: #00af00\">128</span>)       │     <span style=\"color: #00af00; text-decoration-color: #00af00\">65,664</span> │ attention_layer[<span style=\"color: #00af00; text-decoration-color: #00af00\">…</span> │\n",
       "│ (<span style=\"color: #0087ff; text-decoration-color: #0087ff\">Dense</span>)             │                   │            │                   │\n",
       "├─────────────────────┼───────────────────┼────────────┼───────────────────┤\n",
       "│ dummy_output        │ (<span style=\"color: #00d7ff; text-decoration-color: #00d7ff\">None</span>, <span style=\"color: #00af00; text-decoration-color: #00af00\">41</span>)        │      <span style=\"color: #00af00; text-decoration-color: #00af00\">5,289</span> │ feature_dense[<span style=\"color: #00af00; text-decoration-color: #00af00\">0</span>]… │\n",
       "│ (<span style=\"color: #0087ff; text-decoration-color: #0087ff\">Dense</span>)             │                   │            │                   │\n",
       "└─────────────────────┴───────────────────┴────────────┴───────────────────┘\n",
       "</pre>\n"
      ],
      "text/plain": [
       "┏━━━━━━━━━━━━━━━━━━━━━┳━━━━━━━━━━━━━━━━━━━┳━━━━━━━━━━━━┳━━━━━━━━━━━━━━━━━━━┓\n",
       "┃\u001b[1m \u001b[0m\u001b[1mLayer (type)       \u001b[0m\u001b[1m \u001b[0m┃\u001b[1m \u001b[0m\u001b[1mOutput Shape     \u001b[0m\u001b[1m \u001b[0m┃\u001b[1m \u001b[0m\u001b[1m   Param #\u001b[0m\u001b[1m \u001b[0m┃\u001b[1m \u001b[0m\u001b[1mConnected to     \u001b[0m\u001b[1m \u001b[0m┃\n",
       "┡━━━━━━━━━━━━━━━━━━━━━╇━━━━━━━━━━━━━━━━━━━╇━━━━━━━━━━━━╇━━━━━━━━━━━━━━━━━━━┩\n",
       "│ symptoms_input      │ (\u001b[38;5;45mNone\u001b[0m, \u001b[38;5;34m20\u001b[0m)        │          \u001b[38;5;34m0\u001b[0m │ -                 │\n",
       "│ (\u001b[38;5;33mInputLayer\u001b[0m)        │                   │            │                   │\n",
       "├─────────────────────┼───────────────────┼────────────┼───────────────────┤\n",
       "│ weights_input       │ (\u001b[38;5;45mNone\u001b[0m, \u001b[38;5;34m20\u001b[0m)        │          \u001b[38;5;34m0\u001b[0m │ -                 │\n",
       "│ (\u001b[38;5;33mInputLayer\u001b[0m)        │                   │            │                   │\n",
       "├─────────────────────┼───────────────────┼────────────┼───────────────────┤\n",
       "│ symptom_embedding   │ (\u001b[38;5;45mNone\u001b[0m, \u001b[38;5;34m20\u001b[0m, \u001b[38;5;34m512\u001b[0m)   │     \u001b[38;5;34m73,216\u001b[0m │ symptoms_input[\u001b[38;5;34m0\u001b[0m… │\n",
       "│ (\u001b[38;5;33mEmbedding\u001b[0m)         │                   │            │                   │\n",
       "├─────────────────────┼───────────────────┼────────────┼───────────────────┤\n",
       "│ reshape_weights     │ (\u001b[38;5;45mNone\u001b[0m, \u001b[38;5;34m20\u001b[0m, \u001b[38;5;34m1\u001b[0m)     │          \u001b[38;5;34m0\u001b[0m │ weights_input[\u001b[38;5;34m0\u001b[0m]… │\n",
       "│ (\u001b[38;5;33mReshape\u001b[0m)           │                   │            │                   │\n",
       "├─────────────────────┼───────────────────┼────────────┼───────────────────┤\n",
       "│ weighted_embedding  │ (\u001b[38;5;45mNone\u001b[0m, \u001b[38;5;34m20\u001b[0m, \u001b[38;5;34m512\u001b[0m)   │          \u001b[38;5;34m0\u001b[0m │ symptom_embeddin… │\n",
       "│ (\u001b[38;5;33mMultiply\u001b[0m)          │                   │            │ reshape_weights[\u001b[38;5;34m…\u001b[0m │\n",
       "├─────────────────────┼───────────────────┼────────────┼───────────────────┤\n",
       "│ lstm_layer (\u001b[38;5;33mLSTM\u001b[0m)   │ (\u001b[38;5;45mNone\u001b[0m, \u001b[38;5;34m20\u001b[0m, \u001b[38;5;34m512\u001b[0m)   │  \u001b[38;5;34m2,099,200\u001b[0m │ weighted_embeddi… │\n",
       "├─────────────────────┼───────────────────┼────────────┼───────────────────┤\n",
       "│ attention_layer     │ (\u001b[38;5;45mNone\u001b[0m, \u001b[38;5;34m512\u001b[0m)       │    \u001b[38;5;34m263,168\u001b[0m │ lstm_layer[\u001b[38;5;34m0\u001b[0m][\u001b[38;5;34m0\u001b[0m]  │\n",
       "│ (\u001b[38;5;33mAttentionLayer\u001b[0m)    │                   │            │                   │\n",
       "├─────────────────────┼───────────────────┼────────────┼───────────────────┤\n",
       "│ feature_dense       │ (\u001b[38;5;45mNone\u001b[0m, \u001b[38;5;34m128\u001b[0m)       │     \u001b[38;5;34m65,664\u001b[0m │ attention_layer[\u001b[38;5;34m…\u001b[0m │\n",
       "│ (\u001b[38;5;33mDense\u001b[0m)             │                   │            │                   │\n",
       "├─────────────────────┼───────────────────┼────────────┼───────────────────┤\n",
       "│ dummy_output        │ (\u001b[38;5;45mNone\u001b[0m, \u001b[38;5;34m41\u001b[0m)        │      \u001b[38;5;34m5,289\u001b[0m │ feature_dense[\u001b[38;5;34m0\u001b[0m]… │\n",
       "│ (\u001b[38;5;33mDense\u001b[0m)             │                   │            │                   │\n",
       "└─────────────────────┴───────────────────┴────────────┴───────────────────┘\n"
      ]
     },
     "metadata": {},
     "output_type": "display_data"
    },
    {
     "data": {
      "text/html": [
       "<pre style=\"white-space:pre;overflow-x:auto;line-height:normal;font-family:Menlo,'DejaVu Sans Mono',consolas,'Courier New',monospace\"><span style=\"font-weight: bold\"> Total params: </span><span style=\"color: #00af00; text-decoration-color: #00af00\">2,506,537</span> (9.56 MB)\n",
       "</pre>\n"
      ],
      "text/plain": [
       "\u001b[1m Total params: \u001b[0m\u001b[38;5;34m2,506,537\u001b[0m (9.56 MB)\n"
      ]
     },
     "metadata": {},
     "output_type": "display_data"
    },
    {
     "data": {
      "text/html": [
       "<pre style=\"white-space:pre;overflow-x:auto;line-height:normal;font-family:Menlo,'DejaVu Sans Mono',consolas,'Courier New',monospace\"><span style=\"font-weight: bold\"> Trainable params: </span><span style=\"color: #00af00; text-decoration-color: #00af00\">2,506,537</span> (9.56 MB)\n",
       "</pre>\n"
      ],
      "text/plain": [
       "\u001b[1m Trainable params: \u001b[0m\u001b[38;5;34m2,506,537\u001b[0m (9.56 MB)\n"
      ]
     },
     "metadata": {},
     "output_type": "display_data"
    },
    {
     "data": {
      "text/html": [
       "<pre style=\"white-space:pre;overflow-x:auto;line-height:normal;font-family:Menlo,'DejaVu Sans Mono',consolas,'Courier New',monospace\"><span style=\"font-weight: bold\"> Non-trainable params: </span><span style=\"color: #00af00; text-decoration-color: #00af00\">0</span> (0.00 B)\n",
       "</pre>\n"
      ],
      "text/plain": [
       "\u001b[1m Non-trainable params: \u001b[0m\u001b[38;5;34m0\u001b[0m (0.00 B)\n"
      ]
     },
     "metadata": {},
     "output_type": "display_data"
    }
   ],
   "source": [
    "# Apply the custom Attention layer to get a fixed-length feature vector\n",
    "attention_out = AttentionLayer(name=\"attention_layer\")(lstm_out)\n",
    "\n",
    "# Dense layer to obtain final feature representation\n",
    "features = Dense(128, activation='relu', name=\"feature_dense\")(attention_out)\n",
    "\n",
    "# Dummy output layer (softmax) to allow end-to-end training.\n",
    "dummy_output = Dense(num_classes, activation='softmax', name=\"dummy_output\")(features)\n",
    "\n",
    "# Build the model for training the feature extractor\n",
    "feature_extractor_model = Model(inputs=[symptoms_input, weights_input], outputs=dummy_output)\n",
    "feature_extractor_model.compile(optimizer='adam', loss='categorical_crossentropy', metrics=['accuracy'])\n",
    "feature_extractor_model.summary()\n"
   ]
  },
  {
   "cell_type": "code",
   "execution_count": 155,
   "metadata": {},
   "outputs": [
    {
     "name": "stdout",
     "output_type": "stream",
     "text": [
      "Epoch 1/100\n",
      "\u001b[1m111/111\u001b[0m \u001b[32m━━━━━━━━━━━━━━━━━━━━\u001b[0m\u001b[37m\u001b[0m \u001b[1m9s\u001b[0m 57ms/step - accuracy: 0.4633 - loss: 2.3309 - val_accuracy: 0.9213 - val_loss: 0.2549\n",
      "Epoch 2/100\n",
      "\u001b[1m111/111\u001b[0m \u001b[32m━━━━━━━━━━━━━━━━━━━━\u001b[0m\u001b[37m\u001b[0m \u001b[1m6s\u001b[0m 55ms/step - accuracy: 0.9036 - loss: 0.2537 - val_accuracy: 0.9086 - val_loss: 0.2643\n",
      "Epoch 3/100\n",
      "\u001b[1m111/111\u001b[0m \u001b[32m━━━━━━━━━━━━━━━━━━━━\u001b[0m\u001b[37m\u001b[0m \u001b[1m6s\u001b[0m 55ms/step - accuracy: 0.9345 - loss: 0.1875 - val_accuracy: 0.9239 - val_loss: 0.2066\n",
      "Epoch 4/100\n",
      "\u001b[1m111/111\u001b[0m \u001b[32m━━━━━━━━━━━━━━━━━━━━\u001b[0m\u001b[37m\u001b[0m \u001b[1m6s\u001b[0m 56ms/step - accuracy: 0.9257 - loss: 0.1716 - val_accuracy: 0.9315 - val_loss: 0.1812\n",
      "Epoch 5/100\n",
      "\u001b[1m111/111\u001b[0m \u001b[32m━━━━━━━━━━━━━━━━━━━━\u001b[0m\u001b[37m\u001b[0m \u001b[1m6s\u001b[0m 55ms/step - accuracy: 0.9390 - loss: 0.1495 - val_accuracy: 0.9315 - val_loss: 0.2152\n",
      "Epoch 6/100\n",
      "\u001b[1m111/111\u001b[0m \u001b[32m━━━━━━━━━━━━━━━━━━━━\u001b[0m\u001b[37m\u001b[0m \u001b[1m6s\u001b[0m 57ms/step - accuracy: 0.9470 - loss: 0.1420 - val_accuracy: 0.9289 - val_loss: 0.1630\n",
      "Epoch 7/100\n",
      "\u001b[1m111/111\u001b[0m \u001b[32m━━━━━━━━━━━━━━━━━━━━\u001b[0m\u001b[37m\u001b[0m \u001b[1m7s\u001b[0m 59ms/step - accuracy: 0.9452 - loss: 0.1342 - val_accuracy: 0.9594 - val_loss: 0.1265\n",
      "Epoch 8/100\n",
      "\u001b[1m111/111\u001b[0m \u001b[32m━━━━━━━━━━━━━━━━━━━━\u001b[0m\u001b[37m\u001b[0m \u001b[1m6s\u001b[0m 56ms/step - accuracy: 0.9458 - loss: 0.1328 - val_accuracy: 0.9467 - val_loss: 0.1600\n",
      "Epoch 9/100\n",
      "\u001b[1m111/111\u001b[0m \u001b[32m━━━━━━━━━━━━━━━━━━━━\u001b[0m\u001b[37m\u001b[0m \u001b[1m6s\u001b[0m 55ms/step - accuracy: 0.9521 - loss: 0.1128 - val_accuracy: 0.9188 - val_loss: 0.2469\n",
      "Epoch 10/100\n",
      "\u001b[1m111/111\u001b[0m \u001b[32m━━━━━━━━━━━━━━━━━━━━\u001b[0m\u001b[37m\u001b[0m \u001b[1m6s\u001b[0m 58ms/step - accuracy: 0.9444 - loss: 0.1342 - val_accuracy: 0.9467 - val_loss: 0.1641\n",
      "Epoch 11/100\n",
      "\u001b[1m111/111\u001b[0m \u001b[32m━━━━━━━━━━━━━━━━━━━━\u001b[0m\u001b[37m\u001b[0m \u001b[1m6s\u001b[0m 56ms/step - accuracy: 0.9441 - loss: 0.1366 - val_accuracy: 0.9442 - val_loss: 0.1425\n",
      "Epoch 12/100\n",
      "\u001b[1m111/111\u001b[0m \u001b[32m━━━━━━━━━━━━━━━━━━━━\u001b[0m\u001b[37m\u001b[0m \u001b[1m6s\u001b[0m 56ms/step - accuracy: 0.9422 - loss: 0.1135 - val_accuracy: 0.9594 - val_loss: 0.1249\n",
      "Epoch 13/100\n",
      "\u001b[1m111/111\u001b[0m \u001b[32m━━━━━━━━━━━━━━━━━━━━\u001b[0m\u001b[37m\u001b[0m \u001b[1m7s\u001b[0m 61ms/step - accuracy: 0.9457 - loss: 0.1128 - val_accuracy: 0.9492 - val_loss: 0.1698\n",
      "Epoch 14/100\n",
      "\u001b[1m111/111\u001b[0m \u001b[32m━━━━━━━━━━━━━━━━━━━━\u001b[0m\u001b[37m\u001b[0m \u001b[1m7s\u001b[0m 65ms/step - accuracy: 0.9578 - loss: 0.0985 - val_accuracy: 0.9492 - val_loss: 0.1300\n",
      "Epoch 15/100\n",
      "\u001b[1m111/111\u001b[0m \u001b[32m━━━━━━━━━━━━━━━━━━━━\u001b[0m\u001b[37m\u001b[0m \u001b[1m7s\u001b[0m 66ms/step - accuracy: 0.9623 - loss: 0.0898 - val_accuracy: 0.9467 - val_loss: 0.1355\n",
      "Epoch 16/100\n",
      "\u001b[1m111/111\u001b[0m \u001b[32m━━━━━━━━━━━━━━━━━━━━\u001b[0m\u001b[37m\u001b[0m \u001b[1m7s\u001b[0m 64ms/step - accuracy: 0.9564 - loss: 0.0982 - val_accuracy: 0.9518 - val_loss: 0.1358\n",
      "Epoch 17/100\n",
      "\u001b[1m111/111\u001b[0m \u001b[32m━━━━━━━━━━━━━━━━━━━━\u001b[0m\u001b[37m\u001b[0m \u001b[1m7s\u001b[0m 63ms/step - accuracy: 0.9540 - loss: 0.1030 - val_accuracy: 0.9162 - val_loss: 0.2189\n",
      "Epoch 18/100\n",
      "\u001b[1m111/111\u001b[0m \u001b[32m━━━━━━━━━━━━━━━━━━━━\u001b[0m\u001b[37m\u001b[0m \u001b[1m7s\u001b[0m 61ms/step - accuracy: 0.9413 - loss: 0.1499 - val_accuracy: 0.9619 - val_loss: 0.1270\n",
      "Epoch 19/100\n",
      "\u001b[1m111/111\u001b[0m \u001b[32m━━━━━━━━━━━━━━━━━━━━\u001b[0m\u001b[37m\u001b[0m \u001b[1m6s\u001b[0m 57ms/step - accuracy: 0.9657 - loss: 0.0830 - val_accuracy: 0.9569 - val_loss: 0.1394\n",
      "Epoch 20/100\n",
      "\u001b[1m111/111\u001b[0m \u001b[32m━━━━━━━━━━━━━━━━━━━━\u001b[0m\u001b[37m\u001b[0m \u001b[1m6s\u001b[0m 57ms/step - accuracy: 0.9621 - loss: 0.0868 - val_accuracy: 0.9569 - val_loss: 0.1175\n",
      "Epoch 21/100\n",
      "\u001b[1m111/111\u001b[0m \u001b[32m━━━━━━━━━━━━━━━━━━━━\u001b[0m\u001b[37m\u001b[0m \u001b[1m7s\u001b[0m 59ms/step - accuracy: 0.9581 - loss: 0.0840 - val_accuracy: 0.9518 - val_loss: 0.1281\n",
      "Epoch 22/100\n",
      "\u001b[1m111/111\u001b[0m \u001b[32m━━━━━━━━━━━━━━━━━━━━\u001b[0m\u001b[37m\u001b[0m \u001b[1m7s\u001b[0m 62ms/step - accuracy: 0.9627 - loss: 0.0865 - val_accuracy: 0.9492 - val_loss: 0.1252\n",
      "Epoch 23/100\n",
      "\u001b[1m111/111\u001b[0m \u001b[32m━━━━━━━━━━━━━━━━━━━━\u001b[0m\u001b[37m\u001b[0m \u001b[1m7s\u001b[0m 65ms/step - accuracy: 0.9615 - loss: 0.0849 - val_accuracy: 0.9543 - val_loss: 0.1245\n",
      "Epoch 24/100\n",
      "\u001b[1m111/111\u001b[0m \u001b[32m━━━━━━━━━━━━━━━━━━━━\u001b[0m\u001b[37m\u001b[0m \u001b[1m7s\u001b[0m 63ms/step - accuracy: 0.9662 - loss: 0.0770 - val_accuracy: 0.9569 - val_loss: 0.1196\n",
      "Epoch 25/100\n",
      "\u001b[1m111/111\u001b[0m \u001b[32m━━━━━━━━━━━━━━━━━━━━\u001b[0m\u001b[37m\u001b[0m \u001b[1m7s\u001b[0m 65ms/step - accuracy: 0.9657 - loss: 0.0728 - val_accuracy: 0.9492 - val_loss: 0.1161\n",
      "Epoch 26/100\n",
      "\u001b[1m111/111\u001b[0m \u001b[32m━━━━━━━━━━━━━━━━━━━━\u001b[0m\u001b[37m\u001b[0m \u001b[1m7s\u001b[0m 64ms/step - accuracy: 0.9558 - loss: 0.0818 - val_accuracy: 0.9543 - val_loss: 0.1276\n",
      "Epoch 27/100\n",
      "\u001b[1m111/111\u001b[0m \u001b[32m━━━━━━━━━━━━━━━━━━━━\u001b[0m\u001b[37m\u001b[0m \u001b[1m7s\u001b[0m 65ms/step - accuracy: 0.9632 - loss: 0.0735 - val_accuracy: 0.9594 - val_loss: 0.1234\n",
      "Epoch 28/100\n",
      "\u001b[1m111/111\u001b[0m \u001b[32m━━━━━━━━━━━━━━━━━━━━\u001b[0m\u001b[37m\u001b[0m \u001b[1m7s\u001b[0m 65ms/step - accuracy: 0.9534 - loss: 0.1106 - val_accuracy: 0.9543 - val_loss: 0.1336\n",
      "Epoch 29/100\n",
      "\u001b[1m111/111\u001b[0m \u001b[32m━━━━━━━━━━━━━━━━━━━━\u001b[0m\u001b[37m\u001b[0m \u001b[1m7s\u001b[0m 66ms/step - accuracy: 0.9535 - loss: 0.1176 - val_accuracy: 0.9467 - val_loss: 0.1414\n",
      "Epoch 30/100\n",
      "\u001b[1m111/111\u001b[0m \u001b[32m━━━━━━━━━━━━━━━━━━━━\u001b[0m\u001b[37m\u001b[0m \u001b[1m7s\u001b[0m 65ms/step - accuracy: 0.9579 - loss: 0.0883 - val_accuracy: 0.9645 - val_loss: 0.1133\n",
      "Epoch 31/100\n",
      "\u001b[1m111/111\u001b[0m \u001b[32m━━━━━━━━━━━━━━━━━━━━\u001b[0m\u001b[37m\u001b[0m \u001b[1m7s\u001b[0m 66ms/step - accuracy: 0.9644 - loss: 0.0748 - val_accuracy: 0.9594 - val_loss: 0.1200\n",
      "Epoch 32/100\n",
      "\u001b[1m111/111\u001b[0m \u001b[32m━━━━━━━━━━━━━━━━━━━━\u001b[0m\u001b[37m\u001b[0m \u001b[1m7s\u001b[0m 67ms/step - accuracy: 0.9650 - loss: 0.0767 - val_accuracy: 0.9594 - val_loss: 0.1112\n",
      "Epoch 33/100\n",
      "\u001b[1m111/111\u001b[0m \u001b[32m━━━━━━━━━━━━━━━━━━━━\u001b[0m\u001b[37m\u001b[0m \u001b[1m7s\u001b[0m 64ms/step - accuracy: 0.9666 - loss: 0.0727 - val_accuracy: 0.9518 - val_loss: 0.1271\n",
      "Epoch 34/100\n",
      "\u001b[1m111/111\u001b[0m \u001b[32m━━━━━━━━━━━━━━━━━━━━\u001b[0m\u001b[37m\u001b[0m \u001b[1m7s\u001b[0m 65ms/step - accuracy: 0.9671 - loss: 0.0830 - val_accuracy: 0.9518 - val_loss: 0.1259\n",
      "Epoch 35/100\n",
      "\u001b[1m111/111\u001b[0m \u001b[32m━━━━━━━━━━━━━━━━━━━━\u001b[0m\u001b[37m\u001b[0m \u001b[1m7s\u001b[0m 66ms/step - accuracy: 0.9684 - loss: 0.0645 - val_accuracy: 0.9594 - val_loss: 0.1206\n",
      "Epoch 36/100\n",
      "\u001b[1m111/111\u001b[0m \u001b[32m━━━━━━━━━━━━━━━━━━━━\u001b[0m\u001b[37m\u001b[0m \u001b[1m7s\u001b[0m 66ms/step - accuracy: 0.9638 - loss: 0.0718 - val_accuracy: 0.9492 - val_loss: 0.1241\n",
      "Epoch 37/100\n",
      "\u001b[1m111/111\u001b[0m \u001b[32m━━━━━━━━━━━━━━━━━━━━\u001b[0m\u001b[37m\u001b[0m \u001b[1m7s\u001b[0m 66ms/step - accuracy: 0.9634 - loss: 0.0775 - val_accuracy: 0.9645 - val_loss: 0.1077\n",
      "Epoch 38/100\n",
      "\u001b[1m111/111\u001b[0m \u001b[32m━━━━━━━━━━━━━━━━━━━━\u001b[0m\u001b[37m\u001b[0m \u001b[1m7s\u001b[0m 63ms/step - accuracy: 0.9682 - loss: 0.0773 - val_accuracy: 0.9721 - val_loss: 0.1183\n",
      "Epoch 39/100\n",
      "\u001b[1m111/111\u001b[0m \u001b[32m━━━━━━━━━━━━━━━━━━━━\u001b[0m\u001b[37m\u001b[0m \u001b[1m7s\u001b[0m 66ms/step - accuracy: 0.9700 - loss: 0.0680 - val_accuracy: 0.9645 - val_loss: 0.1177\n",
      "Epoch 40/100\n",
      "\u001b[1m111/111\u001b[0m \u001b[32m━━━━━━━━━━━━━━━━━━━━\u001b[0m\u001b[37m\u001b[0m \u001b[1m7s\u001b[0m 65ms/step - accuracy: 0.9718 - loss: 0.0665 - val_accuracy: 0.9518 - val_loss: 0.1426\n",
      "Epoch 41/100\n",
      "\u001b[1m111/111\u001b[0m \u001b[32m━━━━━━━━━━━━━━━━━━━━\u001b[0m\u001b[37m\u001b[0m \u001b[1m7s\u001b[0m 65ms/step - accuracy: 0.9706 - loss: 0.0647 - val_accuracy: 0.9695 - val_loss: 0.1078\n",
      "Epoch 42/100\n",
      "\u001b[1m111/111\u001b[0m \u001b[32m━━━━━━━━━━━━━━━━━━━━\u001b[0m\u001b[37m\u001b[0m \u001b[1m7s\u001b[0m 65ms/step - accuracy: 0.9679 - loss: 0.0645 - val_accuracy: 0.9543 - val_loss: 0.1366\n",
      "Epoch 43/100\n",
      "\u001b[1m111/111\u001b[0m \u001b[32m━━━━━━━━━━━━━━━━━━━━\u001b[0m\u001b[37m\u001b[0m \u001b[1m7s\u001b[0m 66ms/step - accuracy: 0.9686 - loss: 0.0650 - val_accuracy: 0.9518 - val_loss: 0.1397\n",
      "Epoch 44/100\n",
      "\u001b[1m111/111\u001b[0m \u001b[32m━━━━━━━━━━━━━━━━━━━━\u001b[0m\u001b[37m\u001b[0m \u001b[1m7s\u001b[0m 64ms/step - accuracy: 0.9647 - loss: 0.0809 - val_accuracy: 0.9391 - val_loss: 0.1340\n",
      "Epoch 45/100\n",
      "\u001b[1m111/111\u001b[0m \u001b[32m━━━━━━━━━━━━━━━━━━━━\u001b[0m\u001b[37m\u001b[0m \u001b[1m7s\u001b[0m 66ms/step - accuracy: 0.9535 - loss: 0.0978 - val_accuracy: 0.9695 - val_loss: 0.1114\n",
      "Epoch 46/100\n",
      "\u001b[1m111/111\u001b[0m \u001b[32m━━━━━━━━━━━━━━━━━━━━\u001b[0m\u001b[37m\u001b[0m \u001b[1m7s\u001b[0m 65ms/step - accuracy: 0.9759 - loss: 0.0592 - val_accuracy: 0.9543 - val_loss: 0.1213\n",
      "Epoch 47/100\n",
      "\u001b[1m111/111\u001b[0m \u001b[32m━━━━━━━━━━━━━━━━━━━━\u001b[0m\u001b[37m\u001b[0m \u001b[1m7s\u001b[0m 64ms/step - accuracy: 0.9626 - loss: 0.0741 - val_accuracy: 0.9594 - val_loss: 0.1167\n",
      "Epoch 48/100\n",
      "\u001b[1m111/111\u001b[0m \u001b[32m━━━━━━━━━━━━━━━━━━━━\u001b[0m\u001b[37m\u001b[0m \u001b[1m7s\u001b[0m 66ms/step - accuracy: 0.9708 - loss: 0.0555 - val_accuracy: 0.9518 - val_loss: 0.1340\n",
      "Epoch 49/100\n",
      "\u001b[1m111/111\u001b[0m \u001b[32m━━━━━━━━━━━━━━━━━━━━\u001b[0m\u001b[37m\u001b[0m \u001b[1m7s\u001b[0m 66ms/step - accuracy: 0.9675 - loss: 0.0631 - val_accuracy: 0.9492 - val_loss: 0.1521\n",
      "Epoch 50/100\n",
      "\u001b[1m111/111\u001b[0m \u001b[32m━━━━━━━━━━━━━━━━━━━━\u001b[0m\u001b[37m\u001b[0m \u001b[1m7s\u001b[0m 64ms/step - accuracy: 0.9675 - loss: 0.0657 - val_accuracy: 0.9594 - val_loss: 0.1232\n",
      "Epoch 51/100\n",
      "\u001b[1m111/111\u001b[0m \u001b[32m━━━━━━━━━━━━━━━━━━━━\u001b[0m\u001b[37m\u001b[0m \u001b[1m7s\u001b[0m 64ms/step - accuracy: 0.9699 - loss: 0.0616 - val_accuracy: 0.9594 - val_loss: 0.1171\n",
      "Epoch 52/100\n",
      "\u001b[1m111/111\u001b[0m \u001b[32m━━━━━━━━━━━━━━━━━━━━\u001b[0m\u001b[37m\u001b[0m \u001b[1m7s\u001b[0m 65ms/step - accuracy: 0.9690 - loss: 0.0616 - val_accuracy: 0.9670 - val_loss: 0.1097\n",
      "Epoch 53/100\n",
      "\u001b[1m111/111\u001b[0m \u001b[32m━━━━━━━━━━━━━━━━━━━━\u001b[0m\u001b[37m\u001b[0m \u001b[1m7s\u001b[0m 65ms/step - accuracy: 0.9752 - loss: 0.0523 - val_accuracy: 0.9619 - val_loss: 0.1216\n",
      "Epoch 54/100\n",
      "\u001b[1m111/111\u001b[0m \u001b[32m━━━━━━━━━━━━━━━━━━━━\u001b[0m\u001b[37m\u001b[0m \u001b[1m7s\u001b[0m 65ms/step - accuracy: 0.9685 - loss: 0.0662 - val_accuracy: 0.9670 - val_loss: 0.1069\n",
      "Epoch 55/100\n",
      "\u001b[1m111/111\u001b[0m \u001b[32m━━━━━━━━━━━━━━━━━━━━\u001b[0m\u001b[37m\u001b[0m \u001b[1m7s\u001b[0m 66ms/step - accuracy: 0.9729 - loss: 0.0572 - val_accuracy: 0.9645 - val_loss: 0.1136\n",
      "Epoch 56/100\n",
      "\u001b[1m111/111\u001b[0m \u001b[32m━━━━━━━━━━━━━━━━━━━━\u001b[0m\u001b[37m\u001b[0m \u001b[1m7s\u001b[0m 64ms/step - accuracy: 0.9767 - loss: 0.0553 - val_accuracy: 0.9670 - val_loss: 0.1091\n",
      "Epoch 57/100\n",
      "\u001b[1m111/111\u001b[0m \u001b[32m━━━━━━━━━━━━━━━━━━━━\u001b[0m\u001b[37m\u001b[0m \u001b[1m7s\u001b[0m 65ms/step - accuracy: 0.9699 - loss: 0.0649 - val_accuracy: 0.9619 - val_loss: 0.1149\n",
      "Epoch 58/100\n",
      "\u001b[1m111/111\u001b[0m \u001b[32m━━━━━━━━━━━━━━━━━━━━\u001b[0m\u001b[37m\u001b[0m \u001b[1m7s\u001b[0m 66ms/step - accuracy: 0.9744 - loss: 0.0524 - val_accuracy: 0.9518 - val_loss: 0.1689\n",
      "Epoch 59/100\n",
      "\u001b[1m111/111\u001b[0m \u001b[32m━━━━━━━━━━━━━━━━━━━━\u001b[0m\u001b[37m\u001b[0m \u001b[1m7s\u001b[0m 65ms/step - accuracy: 0.9625 - loss: 0.0909 - val_accuracy: 0.9391 - val_loss: 0.1932\n",
      "Epoch 60/100\n",
      "\u001b[1m111/111\u001b[0m \u001b[32m━━━━━━━━━━━━━━━━━━━━\u001b[0m\u001b[37m\u001b[0m \u001b[1m7s\u001b[0m 64ms/step - accuracy: 0.9645 - loss: 0.0765 - val_accuracy: 0.9619 - val_loss: 0.1550\n",
      "Epoch 61/100\n",
      "\u001b[1m111/111\u001b[0m \u001b[32m━━━━━━━━━━━━━━━━━━━━\u001b[0m\u001b[37m\u001b[0m \u001b[1m7s\u001b[0m 66ms/step - accuracy: 0.9761 - loss: 0.0595 - val_accuracy: 0.9569 - val_loss: 0.1350\n",
      "Epoch 62/100\n",
      "\u001b[1m111/111\u001b[0m \u001b[32m━━━━━━━━━━━━━━━━━━━━\u001b[0m\u001b[37m\u001b[0m \u001b[1m7s\u001b[0m 65ms/step - accuracy: 0.9732 - loss: 0.0589 - val_accuracy: 0.9695 - val_loss: 0.1348\n",
      "Epoch 63/100\n",
      "\u001b[1m111/111\u001b[0m \u001b[32m━━━━━━━━━━━━━━━━━━━━\u001b[0m\u001b[37m\u001b[0m \u001b[1m7s\u001b[0m 65ms/step - accuracy: 0.9765 - loss: 0.0539 - val_accuracy: 0.9543 - val_loss: 0.1587\n",
      "Epoch 64/100\n",
      "\u001b[1m111/111\u001b[0m \u001b[32m━━━━━━━━━━━━━━━━━━━━\u001b[0m\u001b[37m\u001b[0m \u001b[1m7s\u001b[0m 66ms/step - accuracy: 0.9743 - loss: 0.0542 - val_accuracy: 0.9594 - val_loss: 0.1460\n",
      "Epoch 65/100\n",
      "\u001b[1m111/111\u001b[0m \u001b[32m━━━━━━━━━━━━━━━━━━━━\u001b[0m\u001b[37m\u001b[0m \u001b[1m7s\u001b[0m 65ms/step - accuracy: 0.9743 - loss: 0.0597 - val_accuracy: 0.9543 - val_loss: 0.1442\n",
      "Epoch 66/100\n",
      "\u001b[1m111/111\u001b[0m \u001b[32m━━━━━━━━━━━━━━━━━━━━\u001b[0m\u001b[37m\u001b[0m \u001b[1m7s\u001b[0m 65ms/step - accuracy: 0.9763 - loss: 0.0549 - val_accuracy: 0.9569 - val_loss: 0.1374\n",
      "Epoch 67/100\n",
      "\u001b[1m111/111\u001b[0m \u001b[32m━━━━━━━━━━━━━━━━━━━━\u001b[0m\u001b[37m\u001b[0m \u001b[1m7s\u001b[0m 67ms/step - accuracy: 0.9741 - loss: 0.0497 - val_accuracy: 0.9518 - val_loss: 0.1346\n",
      "Epoch 68/100\n",
      "\u001b[1m111/111\u001b[0m \u001b[32m━━━━━━━━━━━━━━━━━━━━\u001b[0m\u001b[37m\u001b[0m \u001b[1m7s\u001b[0m 67ms/step - accuracy: 0.9724 - loss: 0.0577 - val_accuracy: 0.9594 - val_loss: 0.1391\n",
      "Epoch 69/100\n",
      "\u001b[1m111/111\u001b[0m \u001b[32m━━━━━━━━━━━━━━━━━━━━\u001b[0m\u001b[37m\u001b[0m \u001b[1m7s\u001b[0m 65ms/step - accuracy: 0.9792 - loss: 0.0451 - val_accuracy: 0.9594 - val_loss: 0.1356\n",
      "Epoch 70/100\n",
      "\u001b[1m111/111\u001b[0m \u001b[32m━━━━━━━━━━━━━━━━━━━━\u001b[0m\u001b[37m\u001b[0m \u001b[1m7s\u001b[0m 63ms/step - accuracy: 0.9750 - loss: 0.0590 - val_accuracy: 0.9442 - val_loss: 0.2013\n",
      "Epoch 71/100\n",
      "\u001b[1m111/111\u001b[0m \u001b[32m━━━━━━━━━━━━━━━━━━━━\u001b[0m\u001b[37m\u001b[0m \u001b[1m7s\u001b[0m 65ms/step - accuracy: 0.9694 - loss: 0.0747 - val_accuracy: 0.9569 - val_loss: 0.1190\n",
      "Epoch 72/100\n",
      "\u001b[1m111/111\u001b[0m \u001b[32m━━━━━━━━━━━━━━━━━━━━\u001b[0m\u001b[37m\u001b[0m \u001b[1m7s\u001b[0m 65ms/step - accuracy: 0.9737 - loss: 0.0608 - val_accuracy: 0.9569 - val_loss: 0.1241\n",
      "Epoch 73/100\n",
      "\u001b[1m111/111\u001b[0m \u001b[32m━━━━━━━━━━━━━━━━━━━━\u001b[0m\u001b[37m\u001b[0m \u001b[1m7s\u001b[0m 64ms/step - accuracy: 0.9746 - loss: 0.0555 - val_accuracy: 0.9619 - val_loss: 0.1363\n",
      "Epoch 74/100\n",
      "\u001b[1m111/111\u001b[0m \u001b[32m━━━━━━━━━━━━━━━━━━━━\u001b[0m\u001b[37m\u001b[0m \u001b[1m7s\u001b[0m 66ms/step - accuracy: 0.9731 - loss: 0.0695 - val_accuracy: 0.9543 - val_loss: 0.1293\n",
      "Epoch 75/100\n",
      "\u001b[1m111/111\u001b[0m \u001b[32m━━━━━━━━━━━━━━━━━━━━\u001b[0m\u001b[37m\u001b[0m \u001b[1m7s\u001b[0m 66ms/step - accuracy: 0.9752 - loss: 0.0501 - val_accuracy: 0.9492 - val_loss: 0.1466\n",
      "Epoch 76/100\n",
      "\u001b[1m111/111\u001b[0m \u001b[32m━━━━━━━━━━━━━━━━━━━━\u001b[0m\u001b[37m\u001b[0m \u001b[1m7s\u001b[0m 66ms/step - accuracy: 0.9716 - loss: 0.0604 - val_accuracy: 0.9518 - val_loss: 0.1400\n",
      "Epoch 77/100\n",
      "\u001b[1m111/111\u001b[0m \u001b[32m━━━━━━━━━━━━━━━━━━━━\u001b[0m\u001b[37m\u001b[0m \u001b[1m7s\u001b[0m 66ms/step - accuracy: 0.9790 - loss: 0.0449 - val_accuracy: 0.9492 - val_loss: 0.1520\n",
      "Epoch 78/100\n",
      "\u001b[1m111/111\u001b[0m \u001b[32m━━━━━━━━━━━━━━━━━━━━\u001b[0m\u001b[37m\u001b[0m \u001b[1m7s\u001b[0m 64ms/step - accuracy: 0.9739 - loss: 0.0535 - val_accuracy: 0.9569 - val_loss: 0.1313\n",
      "Epoch 79/100\n",
      "\u001b[1m111/111\u001b[0m \u001b[32m━━━━━━━━━━━━━━━━━━━━\u001b[0m\u001b[37m\u001b[0m \u001b[1m7s\u001b[0m 66ms/step - accuracy: 0.9681 - loss: 0.0686 - val_accuracy: 0.9594 - val_loss: 0.2021\n",
      "Epoch 80/100\n",
      "\u001b[1m111/111\u001b[0m \u001b[32m━━━━━━━━━━━━━━━━━━━━\u001b[0m\u001b[37m\u001b[0m \u001b[1m7s\u001b[0m 65ms/step - accuracy: 0.9758 - loss: 0.0605 - val_accuracy: 0.9645 - val_loss: 0.1460\n",
      "Epoch 81/100\n",
      "\u001b[1m111/111\u001b[0m \u001b[32m━━━━━━━━━━━━━━━━━━━━\u001b[0m\u001b[37m\u001b[0m \u001b[1m7s\u001b[0m 66ms/step - accuracy: 0.9719 - loss: 0.0553 - val_accuracy: 0.9619 - val_loss: 0.1485\n",
      "Epoch 82/100\n",
      "\u001b[1m111/111\u001b[0m \u001b[32m━━━━━━━━━━━━━━━━━━━━\u001b[0m\u001b[37m\u001b[0m \u001b[1m7s\u001b[0m 65ms/step - accuracy: 0.9764 - loss: 0.0495 - val_accuracy: 0.9645 - val_loss: 0.1494\n",
      "Epoch 83/100\n",
      "\u001b[1m111/111\u001b[0m \u001b[32m━━━━━━━━━━━━━━━━━━━━\u001b[0m\u001b[37m\u001b[0m \u001b[1m7s\u001b[0m 65ms/step - accuracy: 0.9756 - loss: 0.0509 - val_accuracy: 0.9594 - val_loss: 0.1415\n",
      "Epoch 84/100\n",
      "\u001b[1m111/111\u001b[0m \u001b[32m━━━━━━━━━━━━━━━━━━━━\u001b[0m\u001b[37m\u001b[0m \u001b[1m7s\u001b[0m 65ms/step - accuracy: 0.9711 - loss: 0.0664 - val_accuracy: 0.9670 - val_loss: 0.1385\n",
      "Epoch 85/100\n",
      "\u001b[1m111/111\u001b[0m \u001b[32m━━━━━━━━━━━━━━━━━━━━\u001b[0m\u001b[37m\u001b[0m \u001b[1m7s\u001b[0m 64ms/step - accuracy: 0.9820 - loss: 0.0500 - val_accuracy: 0.9594 - val_loss: 0.1407\n",
      "Epoch 86/100\n",
      "\u001b[1m111/111\u001b[0m \u001b[32m━━━━━━━━━━━━━━━━━━━━\u001b[0m\u001b[37m\u001b[0m \u001b[1m7s\u001b[0m 65ms/step - accuracy: 0.9790 - loss: 0.0480 - val_accuracy: 0.9645 - val_loss: 0.1449\n",
      "Epoch 87/100\n",
      "\u001b[1m111/111\u001b[0m \u001b[32m━━━━━━━━━━━━━━━━━━━━\u001b[0m\u001b[37m\u001b[0m \u001b[1m7s\u001b[0m 65ms/step - accuracy: 0.9829 - loss: 0.0433 - val_accuracy: 0.9543 - val_loss: 0.1562\n",
      "Epoch 88/100\n",
      "\u001b[1m111/111\u001b[0m \u001b[32m━━━━━━━━━━━━━━━━━━━━\u001b[0m\u001b[37m\u001b[0m \u001b[1m7s\u001b[0m 64ms/step - accuracy: 0.9795 - loss: 0.0408 - val_accuracy: 0.9645 - val_loss: 0.1540\n",
      "Epoch 89/100\n",
      "\u001b[1m111/111\u001b[0m \u001b[32m━━━━━━━━━━━━━━━━━━━━\u001b[0m\u001b[37m\u001b[0m \u001b[1m7s\u001b[0m 64ms/step - accuracy: 0.9775 - loss: 0.0464 - val_accuracy: 0.9670 - val_loss: 0.1462\n",
      "Epoch 90/100\n",
      "\u001b[1m111/111\u001b[0m \u001b[32m━━━━━━━━━━━━━━━━━━━━\u001b[0m\u001b[37m\u001b[0m \u001b[1m7s\u001b[0m 65ms/step - accuracy: 0.9829 - loss: 0.0417 - val_accuracy: 0.9619 - val_loss: 0.1457\n",
      "Epoch 91/100\n",
      "\u001b[1m111/111\u001b[0m \u001b[32m━━━━━━━━━━━━━━━━━━━━\u001b[0m\u001b[37m\u001b[0m \u001b[1m7s\u001b[0m 67ms/step - accuracy: 0.9746 - loss: 0.0467 - val_accuracy: 0.9619 - val_loss: 0.1496\n",
      "Epoch 92/100\n",
      "\u001b[1m111/111\u001b[0m \u001b[32m━━━━━━━━━━━━━━━━━━━━\u001b[0m\u001b[37m\u001b[0m \u001b[1m7s\u001b[0m 66ms/step - accuracy: 0.9746 - loss: 0.0483 - val_accuracy: 0.9645 - val_loss: 0.1545\n",
      "Epoch 93/100\n",
      "\u001b[1m111/111\u001b[0m \u001b[32m━━━━━━━━━━━━━━━━━━━━\u001b[0m\u001b[37m\u001b[0m \u001b[1m7s\u001b[0m 66ms/step - accuracy: 0.9774 - loss: 0.0481 - val_accuracy: 0.9594 - val_loss: 0.1495\n",
      "Epoch 94/100\n",
      "\u001b[1m111/111\u001b[0m \u001b[32m━━━━━━━━━━━━━━━━━━━━\u001b[0m\u001b[37m\u001b[0m \u001b[1m7s\u001b[0m 66ms/step - accuracy: 0.9844 - loss: 0.0384 - val_accuracy: 0.9492 - val_loss: 0.1633\n",
      "Epoch 95/100\n",
      "\u001b[1m111/111\u001b[0m \u001b[32m━━━━━━━━━━━━━━━━━━━━\u001b[0m\u001b[37m\u001b[0m \u001b[1m7s\u001b[0m 65ms/step - accuracy: 0.9753 - loss: 0.0540 - val_accuracy: 0.9619 - val_loss: 0.1683\n",
      "Epoch 96/100\n",
      "\u001b[1m111/111\u001b[0m \u001b[32m━━━━━━━━━━━━━━━━━━━━\u001b[0m\u001b[37m\u001b[0m \u001b[1m7s\u001b[0m 65ms/step - accuracy: 0.9769 - loss: 0.0486 - val_accuracy: 0.9645 - val_loss: 0.1469\n",
      "Epoch 97/100\n",
      "\u001b[1m111/111\u001b[0m \u001b[32m━━━━━━━━━━━━━━━━━━━━\u001b[0m\u001b[37m\u001b[0m \u001b[1m7s\u001b[0m 65ms/step - accuracy: 0.9821 - loss: 0.0366 - val_accuracy: 0.9543 - val_loss: 0.1560\n",
      "Epoch 98/100\n",
      "\u001b[1m111/111\u001b[0m \u001b[32m━━━━━━━━━━━━━━━━━━━━\u001b[0m\u001b[37m\u001b[0m \u001b[1m7s\u001b[0m 66ms/step - accuracy: 0.9764 - loss: 0.0467 - val_accuracy: 0.9619 - val_loss: 0.1561\n",
      "Epoch 99/100\n",
      "\u001b[1m111/111\u001b[0m \u001b[32m━━━━━━━━━━━━━━━━━━━━\u001b[0m\u001b[37m\u001b[0m \u001b[1m7s\u001b[0m 64ms/step - accuracy: 0.9790 - loss: 0.0389 - val_accuracy: 0.9518 - val_loss: 0.1769\n",
      "Epoch 100/100\n",
      "\u001b[1m111/111\u001b[0m \u001b[32m━━━━━━━━━━━━━━━━━━━━\u001b[0m\u001b[37m\u001b[0m \u001b[1m7s\u001b[0m 66ms/step - accuracy: 0.9777 - loss: 0.0542 - val_accuracy: 0.9645 - val_loss: 0.1457\n"
     ]
    }
   ],
   "source": [
    "# Train the model\n",
    "batch_size = 32\n",
    "epochs = 100  # Adjust as necessary\n",
    "\n",
    "history_attention = feature_extractor_model.fit(\n",
    "    [X_symptoms_train, X_weights_train], y_train,\n",
    "    validation_split=0.1,\n",
    "    batch_size=batch_size,\n",
    "    epochs=epochs,\n",
    "    verbose=1\n",
    ")"
   ]
  },
  {
   "cell_type": "code",
   "execution_count": 156,
   "metadata": {},
   "outputs": [
    {
     "data": {
      "image/png": "[encoded data removed]",
      "text/plain": [
       "<Figure size 800x400 with 1 Axes>"
      ]
     },
     "metadata": {},
     "output_type": "display_data"
    }
   ],
   "source": [
    "# Plot training history (Loss and Accuracy)\n",
    "train_loss = history_attention.history['loss']\n",
    "val_loss = history_attention.history['val_loss']\n",
    "plt.figure(figsize=(8, 4))\n",
    "plt.plot(train_loss, label='Train Loss')\n",
    "plt.plot(val_loss, label='Validation Loss')\n",
    "plt.xlabel('Epoch')\n",
    "plt.ylabel('Loss')\n",
    "plt.title('Training vs Validation Loss')\n",
    "plt.legend()\n",
    "plt.show()"
   ]
  },
  {
   "cell_type": "code",
   "execution_count": 157,
   "metadata": {},
   "outputs": [
    {
     "data": {
      "image/png": "[encoded data removed]",
      "text/plain": [
       "<Figure size 800x400 with 1 Axes>"
      ]
     },
     "metadata": {},
     "output_type": "display_data"
    }
   ],
   "source": [
    "train_acc = history_attention.history['accuracy']\n",
    "val_acc = history_attention.history['val_accuracy']\n",
    "plt.figure(figsize=(8, 4))\n",
    "plt.plot(train_acc, label='Train Accuracy')\n",
    "plt.plot(val_acc, label='Validation Accuracy')\n",
    "plt.xlabel('Epoch')\n",
    "plt.ylabel('Accuracy')\n",
    "plt.title('Training vs Validation Accuracy')\n",
    "plt.legend()\n",
    "plt.show()"
   ]
  },
  {
   "cell_type": "code",
   "execution_count": 158,
   "metadata": {},
   "outputs": [
    {
     "name": "stdout",
     "output_type": "stream",
     "text": [
      "LSTM+Attention Model Evaluation -- Loss: 0.1619 | Accuracy: 0.9654\n"
     ]
    }
   ],
   "source": [
    "loss_att, acc_att = feature_extractor_model.evaluate([X_symptoms_test, X_weights_test], y_test, verbose=0)\n",
    "print(f\"LSTM+Attention Model Evaluation -- Loss: {loss_att:.4f} | Accuracy: {acc_att:.4f}\")\n"
   ]
  },
  {
   "cell_type": "code",
   "execution_count": 159,
   "metadata": {},
   "outputs": [
    {
     "name": "stdout",
     "output_type": "stream",
     "text": [
      "\u001b[1m123/123\u001b[0m \u001b[32m━━━━━━━━━━━━━━━━━━━━\u001b[0m\u001b[37m\u001b[0m \u001b[1m2s\u001b[0m 17ms/step\n",
      "\u001b[1m31/31\u001b[0m \u001b[32m━━━━━━━━━━━━━━━━━━━━\u001b[0m\u001b[37m\u001b[0m \u001b[1m1s\u001b[0m 23ms/step\n"
     ]
    }
   ],
   "source": [
    "# -------------------------------------\n",
    "# 6. Extract Features and Train an SVM Classifier\n",
    "# -------------------------------------\n",
    "# Create a new model that outputs the 128-dimensional features from the Dense layer.\n",
    "feature_extractor = Model(inputs=[symptoms_input, weights_input], outputs=features)\n",
    "\n",
    "# Extract feature vectors from training and testing data.\n",
    "train_features = feature_extractor.predict([X_symptoms_train, X_weights_train])\n",
    "test_features = feature_extractor.predict([X_symptoms_test, X_weights_test])\n"
   ]
  },
  {
   "cell_type": "code",
   "execution_count": 160,
   "metadata": {},
   "outputs": [
    {
     "name": "stdout",
     "output_type": "stream",
     "text": [
      "SVM Classifier Test Accuracy: 0.9634\n",
      "Classification Report:\n",
      "               precision    recall  f1-score   support\n",
      "\n",
      "           0       1.00      0.94      0.97        18\n",
      "           1       1.00      1.00      1.00        30\n",
      "           2       1.00      1.00      1.00        24\n",
      "           3       1.00      1.00      1.00        25\n",
      "           4       1.00      1.00      1.00        24\n",
      "           5       1.00      1.00      1.00        23\n",
      "           6       0.92      1.00      0.96        33\n",
      "           7       1.00      0.96      0.98        23\n",
      "           8       1.00      0.90      0.95        21\n",
      "           9       0.82      0.93      0.88        15\n",
      "          10       1.00      0.96      0.98        23\n",
      "          11       1.00      0.96      0.98        26\n",
      "          12       1.00      1.00      1.00        21\n",
      "          13       1.00      1.00      1.00        29\n",
      "          14       1.00      1.00      1.00        24\n",
      "          15       1.00      1.00      1.00        19\n",
      "          16       1.00      1.00      1.00        28\n",
      "          17       1.00      1.00      1.00        25\n",
      "          18       1.00      1.00      1.00        23\n",
      "          19       1.00      0.93      0.96        27\n",
      "          20       0.96      1.00      0.98        26\n",
      "          21       0.88      0.61      0.72        23\n",
      "          22       0.91      0.72      0.81        29\n",
      "          23       0.93      1.00      0.96        25\n",
      "          24       1.00      0.96      0.98        24\n",
      "          25       1.00      1.00      1.00        26\n",
      "          26       0.95      1.00      0.98        21\n",
      "          27       0.96      1.00      0.98        24\n",
      "          28       1.00      0.89      0.94        19\n",
      "          29       0.96      1.00      0.98        22\n",
      "          30       1.00      1.00      1.00        25\n",
      "          31       1.00      1.00      1.00        22\n",
      "          32       1.00      1.00      1.00        24\n",
      "          33       1.00      1.00      1.00        17\n",
      "          34       0.93      0.89      0.91        28\n",
      "          35       1.00      1.00      1.00        22\n",
      "          36       1.00      1.00      1.00        25\n",
      "          37       0.72      0.95      0.82        19\n",
      "          38       1.00      1.00      1.00        26\n",
      "          39       1.00      1.00      1.00        22\n",
      "          40       0.74      0.91      0.82        34\n",
      "\n",
      "    accuracy                           0.96       984\n",
      "   macro avg       0.97      0.96      0.96       984\n",
      "weighted avg       0.97      0.96      0.96       984\n",
      "\n"
     ]
    }
   ],
   "source": [
    "# Train the SVM classifier on the extracted features.\n",
    "from sklearn.svm import SVC\n",
    "from sklearn.metrics import accuracy_score, classification_report\n",
    "\n",
    "svm_classifier = SVC(probability=True)  # Enable probability estimates if needed\n",
    "svm_classifier.fit(train_features, np.argmax(y_train, axis=1))\n",
    "\n",
    "# Evaluate the SVM classifier on the test set.\n",
    "svm_preds = svm_classifier.predict(test_features)\n",
    "svm_accuracy = accuracy_score(np.argmax(y_test, axis=1), svm_preds)\n",
    "print(\"SVM Classifier Test Accuracy: {:.4f}\".format(svm_accuracy))\n",
    "print(\"Classification Report:\\n\", classification_report(np.argmax(y_test, axis=1), svm_preds))\n"
   ]
  },
  {
   "cell_type": "code",
   "execution_count": 161,
   "metadata": {},
   "outputs": [
    {
     "name": "stdout",
     "output_type": "stream",
     "text": [
      "\u001b[1m1/1\u001b[0m \u001b[32m━━━━━━━━━━━━━━━━━━━━\u001b[0m\u001b[37m\u001b[0m \u001b[1m0s\u001b[0m 44ms/step\n",
      "Predicted Disease (Hybrid Model): Hypothyroidism\n"
     ]
    }
   ],
   "source": [
    "# -------------------------------------\n",
    "# 7. Making Predictions on New Data\n",
    "# -------------------------------------\n",
    "# Example new input data.\n",
    "new_symptoms = \"fatigue, weight_gain, anxiety\"\n",
    "new_weights = [5, 6, 7]  # Example weights corresponding to the symptoms\n",
    "\n",
    "# Preprocess new data tokens in the same way.\n",
    "new_tokens = [sym.strip() for sym in new_symptoms.split(',')]\n",
    "new_seq = tokenizer_tokens.texts_to_sequences(new_tokens)\n",
    "new_seq = [item for sub in new_seq for item in sub]\n",
    "new_seq = pad_sequences([new_seq], maxlen=max_len, padding='post')\n",
    "\n",
    "# Pad new weights to match max_len.\n",
    "new_weights = np.array([np.pad(new_weights, (0, max_len - len(new_weights)), 'constant')])\n",
    "\n",
    "# Extract feature representation from new data.\n",
    "new_feature = feature_extractor.predict([new_seq, new_weights])\n",
    "\n",
    "# Predict the disease using the trained SVM classifier.\n",
    "svm_prediction = svm_classifier.predict(new_feature)\n",
    "predicted_label = label_encoder.inverse_transform(svm_prediction)\n",
    "print(\"Predicted Disease (Hybrid Model):\", predicted_label[0])\n"
   ]
  },
  {
   "cell_type": "code",
   "execution_count": null,
   "metadata": {},
   "outputs": [],
   "source": []
  }
 ],
 "metadata": {
  "kernelspec": {
   "display_name": "tf-env",
   "language": "python",
   "name": "python3"
  },
  "language_info": {
   "codemirror_mode": {
    "name": "ipython",
    "version": 3
   },
   "file_extension": ".py",
   "mimetype": "text/x-python",
   "name": "python",
   "nbconvert_exporter": "python",
   "pygments_lexer": "ipython3",
   "version": "3.10.16"
  }
 },
 "nbformat": 4,
 "nbformat_minor": 4
}
